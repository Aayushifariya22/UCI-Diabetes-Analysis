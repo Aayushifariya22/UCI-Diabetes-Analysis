{
 "cells": [
  {
   "cell_type": "code",
   "execution_count": 15,
   "metadata": {
    "id": "rVSp5wkY6B_b"
   },
   "outputs": [],
   "source": [
    "import pandas as pd\n",
    "import numpy as np\n",
    "import matplotlib.pyplot as plt\n"
   ]
  },
  {
   "cell_type": "code",
   "execution_count": 16,
   "metadata": {
    "id": "WGoSf1l9ixYF"
   },
   "outputs": [],
   "source": [
    "df = pd.read_csv(r\"E:\\UCI_Diabetes_Project\\UCIdiabetes.csv\")"
   ]
  },
  {
   "cell_type": "markdown",
   "metadata": {
    "id": "hjCj7PRj6Fuj"
   },
   "source": [
    "How big the data is"
   ]
  },
  {
   "cell_type": "code",
   "execution_count": 17,
   "metadata": {
    "colab": {
     "base_uri": "https://localhost:8080/"
    },
    "id": "Z3DSSmz46FbG",
    "outputId": "99680cb4-910f-423b-ba0d-f110429a6ba7"
   },
   "outputs": [
    {
     "data": {
      "text/plain": [
       "(69169, 51)"
      ]
     },
     "execution_count": 17,
     "metadata": {},
     "output_type": "execute_result"
    }
   ],
   "source": [
    "df.shape"
   ]
  },
  {
   "cell_type": "markdown",
   "metadata": {
    "id": "GDN-Ogec6Jmf"
   },
   "source": [
    "How does data look"
   ]
  },
  {
   "cell_type": "code",
   "execution_count": 18,
   "metadata": {
    "colab": {
     "base_uri": "https://localhost:8080/",
     "height": 634
    },
    "id": "60UnhmcK6JNZ",
    "outputId": "2ec489d2-4e76-4e65-adec-3302c9489c70"
   },
   "outputs": [
    {
     "data": {
      "text/html": [
       "<div>\n",
       "<style scoped>\n",
       "    .dataframe tbody tr th:only-of-type {\n",
       "        vertical-align: middle;\n",
       "    }\n",
       "\n",
       "    .dataframe tbody tr th {\n",
       "        vertical-align: top;\n",
       "    }\n",
       "\n",
       "    .dataframe thead th {\n",
       "        text-align: right;\n",
       "    }\n",
       "</style>\n",
       "<table border=\"1\" class=\"dataframe\">\n",
       "  <thead>\n",
       "    <tr style=\"text-align: right;\">\n",
       "      <th></th>\n",
       "      <th>Unnamed: 0</th>\n",
       "      <th>encounter_id</th>\n",
       "      <th>patient_nbr</th>\n",
       "      <th>race</th>\n",
       "      <th>gender</th>\n",
       "      <th>age</th>\n",
       "      <th>weight</th>\n",
       "      <th>admission_type_id</th>\n",
       "      <th>discharge_disposition_id</th>\n",
       "      <th>admission_source_id</th>\n",
       "      <th>...</th>\n",
       "      <th>glipizide.metformin</th>\n",
       "      <th>glimepiride.pioglitazone</th>\n",
       "      <th>metformin.rosiglitazone</th>\n",
       "      <th>metformin.pioglitazone</th>\n",
       "      <th>change</th>\n",
       "      <th>diabetesMed</th>\n",
       "      <th>readmitted</th>\n",
       "      <th>diag_1_name</th>\n",
       "      <th>diag_2_name</th>\n",
       "      <th>diag_3_name</th>\n",
       "    </tr>\n",
       "  </thead>\n",
       "  <tbody>\n",
       "    <tr>\n",
       "      <th>0</th>\n",
       "      <td>1</td>\n",
       "      <td>2278392</td>\n",
       "      <td>8222157</td>\n",
       "      <td>Caucasian</td>\n",
       "      <td>Female</td>\n",
       "      <td>[0-10)</td>\n",
       "      <td>?</td>\n",
       "      <td>6</td>\n",
       "      <td>25</td>\n",
       "      <td>1</td>\n",
       "      <td>...</td>\n",
       "      <td>No</td>\n",
       "      <td>No</td>\n",
       "      <td>No</td>\n",
       "      <td>No</td>\n",
       "      <td>No</td>\n",
       "      <td>No</td>\n",
       "      <td>NO</td>\n",
       "      <td>diabetes</td>\n",
       "      <td>Other</td>\n",
       "      <td>Other</td>\n",
       "    </tr>\n",
       "    <tr>\n",
       "      <th>1</th>\n",
       "      <td>2</td>\n",
       "      <td>149190</td>\n",
       "      <td>55629189</td>\n",
       "      <td>Caucasian</td>\n",
       "      <td>Female</td>\n",
       "      <td>[10-20)</td>\n",
       "      <td>?</td>\n",
       "      <td>1</td>\n",
       "      <td>1</td>\n",
       "      <td>7</td>\n",
       "      <td>...</td>\n",
       "      <td>No</td>\n",
       "      <td>No</td>\n",
       "      <td>No</td>\n",
       "      <td>No</td>\n",
       "      <td>Ch</td>\n",
       "      <td>Yes</td>\n",
       "      <td>&gt;30</td>\n",
       "      <td>Other</td>\n",
       "      <td>diabetes</td>\n",
       "      <td>Other</td>\n",
       "    </tr>\n",
       "    <tr>\n",
       "      <th>2</th>\n",
       "      <td>3</td>\n",
       "      <td>64410</td>\n",
       "      <td>86047875</td>\n",
       "      <td>AfricanAmerican</td>\n",
       "      <td>Female</td>\n",
       "      <td>[20-30)</td>\n",
       "      <td>?</td>\n",
       "      <td>1</td>\n",
       "      <td>1</td>\n",
       "      <td>7</td>\n",
       "      <td>...</td>\n",
       "      <td>No</td>\n",
       "      <td>No</td>\n",
       "      <td>No</td>\n",
       "      <td>No</td>\n",
       "      <td>No</td>\n",
       "      <td>Yes</td>\n",
       "      <td>NO</td>\n",
       "      <td>Other</td>\n",
       "      <td>diabetes</td>\n",
       "      <td>Other</td>\n",
       "    </tr>\n",
       "    <tr>\n",
       "      <th>3</th>\n",
       "      <td>4</td>\n",
       "      <td>500364</td>\n",
       "      <td>82442376</td>\n",
       "      <td>Caucasian</td>\n",
       "      <td>Male</td>\n",
       "      <td>[30-40)</td>\n",
       "      <td>?</td>\n",
       "      <td>1</td>\n",
       "      <td>1</td>\n",
       "      <td>7</td>\n",
       "      <td>...</td>\n",
       "      <td>No</td>\n",
       "      <td>No</td>\n",
       "      <td>No</td>\n",
       "      <td>No</td>\n",
       "      <td>Ch</td>\n",
       "      <td>Yes</td>\n",
       "      <td>NO</td>\n",
       "      <td>Other</td>\n",
       "      <td>diabetes</td>\n",
       "      <td>circulatory diseases</td>\n",
       "    </tr>\n",
       "    <tr>\n",
       "      <th>4</th>\n",
       "      <td>5</td>\n",
       "      <td>16680</td>\n",
       "      <td>42519267</td>\n",
       "      <td>Caucasian</td>\n",
       "      <td>Male</td>\n",
       "      <td>[40-50)</td>\n",
       "      <td>?</td>\n",
       "      <td>1</td>\n",
       "      <td>1</td>\n",
       "      <td>7</td>\n",
       "      <td>...</td>\n",
       "      <td>No</td>\n",
       "      <td>No</td>\n",
       "      <td>No</td>\n",
       "      <td>No</td>\n",
       "      <td>Ch</td>\n",
       "      <td>Yes</td>\n",
       "      <td>NO</td>\n",
       "      <td>neoplasms</td>\n",
       "      <td>neoplasms</td>\n",
       "      <td>diabetes</td>\n",
       "    </tr>\n",
       "    <tr>\n",
       "      <th>...</th>\n",
       "      <td>...</td>\n",
       "      <td>...</td>\n",
       "      <td>...</td>\n",
       "      <td>...</td>\n",
       "      <td>...</td>\n",
       "      <td>...</td>\n",
       "      <td>...</td>\n",
       "      <td>...</td>\n",
       "      <td>...</td>\n",
       "      <td>...</td>\n",
       "      <td>...</td>\n",
       "      <td>...</td>\n",
       "      <td>...</td>\n",
       "      <td>...</td>\n",
       "      <td>...</td>\n",
       "      <td>...</td>\n",
       "      <td>...</td>\n",
       "      <td>...</td>\n",
       "      <td>...</td>\n",
       "      <td>...</td>\n",
       "      <td>...</td>\n",
       "    </tr>\n",
       "    <tr>\n",
       "      <th>69164</th>\n",
       "      <td>69165</td>\n",
       "      <td>443847548</td>\n",
       "      <td>100162476</td>\n",
       "      <td>AfricanAmerican</td>\n",
       "      <td>Male</td>\n",
       "      <td>[70-80)</td>\n",
       "      <td>?</td>\n",
       "      <td>1</td>\n",
       "      <td>3</td>\n",
       "      <td>7</td>\n",
       "      <td>...</td>\n",
       "      <td>No</td>\n",
       "      <td>No</td>\n",
       "      <td>No</td>\n",
       "      <td>No</td>\n",
       "      <td>Ch</td>\n",
       "      <td>Yes</td>\n",
       "      <td>&gt;30</td>\n",
       "      <td>diabetes</td>\n",
       "      <td>Other</td>\n",
       "      <td>circulatory diseases</td>\n",
       "    </tr>\n",
       "    <tr>\n",
       "      <th>69165</th>\n",
       "      <td>69166</td>\n",
       "      <td>443847782</td>\n",
       "      <td>74694222</td>\n",
       "      <td>AfricanAmerican</td>\n",
       "      <td>Female</td>\n",
       "      <td>[80-90)</td>\n",
       "      <td>?</td>\n",
       "      <td>1</td>\n",
       "      <td>4</td>\n",
       "      <td>5</td>\n",
       "      <td>...</td>\n",
       "      <td>No</td>\n",
       "      <td>No</td>\n",
       "      <td>No</td>\n",
       "      <td>No</td>\n",
       "      <td>No</td>\n",
       "      <td>Yes</td>\n",
       "      <td>NO</td>\n",
       "      <td>digestive diseases</td>\n",
       "      <td>Other</td>\n",
       "      <td>digestive diseases</td>\n",
       "    </tr>\n",
       "    <tr>\n",
       "      <th>69166</th>\n",
       "      <td>69167</td>\n",
       "      <td>443854148</td>\n",
       "      <td>41088789</td>\n",
       "      <td>Caucasian</td>\n",
       "      <td>Male</td>\n",
       "      <td>[70-80)</td>\n",
       "      <td>?</td>\n",
       "      <td>1</td>\n",
       "      <td>1</td>\n",
       "      <td>7</td>\n",
       "      <td>...</td>\n",
       "      <td>No</td>\n",
       "      <td>No</td>\n",
       "      <td>No</td>\n",
       "      <td>No</td>\n",
       "      <td>Ch</td>\n",
       "      <td>Yes</td>\n",
       "      <td>NO</td>\n",
       "      <td>Other</td>\n",
       "      <td>genitournary</td>\n",
       "      <td>Other</td>\n",
       "    </tr>\n",
       "    <tr>\n",
       "      <th>69167</th>\n",
       "      <td>69168</td>\n",
       "      <td>443857166</td>\n",
       "      <td>31693671</td>\n",
       "      <td>Caucasian</td>\n",
       "      <td>Female</td>\n",
       "      <td>[80-90)</td>\n",
       "      <td>?</td>\n",
       "      <td>2</td>\n",
       "      <td>3</td>\n",
       "      <td>7</td>\n",
       "      <td>...</td>\n",
       "      <td>No</td>\n",
       "      <td>No</td>\n",
       "      <td>No</td>\n",
       "      <td>No</td>\n",
       "      <td>Ch</td>\n",
       "      <td>Yes</td>\n",
       "      <td>NO</td>\n",
       "      <td>injury</td>\n",
       "      <td>Other</td>\n",
       "      <td>injury</td>\n",
       "    </tr>\n",
       "    <tr>\n",
       "      <th>69168</th>\n",
       "      <td>69169</td>\n",
       "      <td>443867222</td>\n",
       "      <td>175429310</td>\n",
       "      <td>Caucasian</td>\n",
       "      <td>Male</td>\n",
       "      <td>[70-80)</td>\n",
       "      <td>?</td>\n",
       "      <td>1</td>\n",
       "      <td>1</td>\n",
       "      <td>7</td>\n",
       "      <td>...</td>\n",
       "      <td>No</td>\n",
       "      <td>No</td>\n",
       "      <td>No</td>\n",
       "      <td>No</td>\n",
       "      <td>No</td>\n",
       "      <td>No</td>\n",
       "      <td>NO</td>\n",
       "      <td>digestive diseases</td>\n",
       "      <td>digestive diseases</td>\n",
       "      <td>digestive diseases</td>\n",
       "    </tr>\n",
       "  </tbody>\n",
       "</table>\n",
       "<p>69169 rows × 51 columns</p>\n",
       "</div>"
      ],
      "text/plain": [
       "       Unnamed: 0  encounter_id  patient_nbr             race  gender  \\\n",
       "0               1       2278392      8222157        Caucasian  Female   \n",
       "1               2        149190     55629189        Caucasian  Female   \n",
       "2               3         64410     86047875  AfricanAmerican  Female   \n",
       "3               4        500364     82442376        Caucasian    Male   \n",
       "4               5         16680     42519267        Caucasian    Male   \n",
       "...           ...           ...          ...              ...     ...   \n",
       "69164       69165     443847548    100162476  AfricanAmerican    Male   \n",
       "69165       69166     443847782     74694222  AfricanAmerican  Female   \n",
       "69166       69167     443854148     41088789        Caucasian    Male   \n",
       "69167       69168     443857166     31693671        Caucasian  Female   \n",
       "69168       69169     443867222    175429310        Caucasian    Male   \n",
       "\n",
       "           age weight  admission_type_id  discharge_disposition_id  \\\n",
       "0       [0-10)      ?                  6                        25   \n",
       "1      [10-20)      ?                  1                         1   \n",
       "2      [20-30)      ?                  1                         1   \n",
       "3      [30-40)      ?                  1                         1   \n",
       "4      [40-50)      ?                  1                         1   \n",
       "...        ...    ...                ...                       ...   \n",
       "69164  [70-80)      ?                  1                         3   \n",
       "69165  [80-90)      ?                  1                         4   \n",
       "69166  [70-80)      ?                  1                         1   \n",
       "69167  [80-90)      ?                  2                         3   \n",
       "69168  [70-80)      ?                  1                         1   \n",
       "\n",
       "       admission_source_id  ...  glipizide.metformin glimepiride.pioglitazone  \\\n",
       "0                        1  ...                   No                       No   \n",
       "1                        7  ...                   No                       No   \n",
       "2                        7  ...                   No                       No   \n",
       "3                        7  ...                   No                       No   \n",
       "4                        7  ...                   No                       No   \n",
       "...                    ...  ...                  ...                      ...   \n",
       "69164                    7  ...                   No                       No   \n",
       "69165                    5  ...                   No                       No   \n",
       "69166                    7  ...                   No                       No   \n",
       "69167                    7  ...                   No                       No   \n",
       "69168                    7  ...                   No                       No   \n",
       "\n",
       "      metformin.rosiglitazone  metformin.pioglitazone  change  diabetesMed  \\\n",
       "0                          No                      No      No           No   \n",
       "1                          No                      No      Ch          Yes   \n",
       "2                          No                      No      No          Yes   \n",
       "3                          No                      No      Ch          Yes   \n",
       "4                          No                      No      Ch          Yes   \n",
       "...                       ...                     ...     ...          ...   \n",
       "69164                      No                      No      Ch          Yes   \n",
       "69165                      No                      No      No          Yes   \n",
       "69166                      No                      No      Ch          Yes   \n",
       "69167                      No                      No      Ch          Yes   \n",
       "69168                      No                      No      No           No   \n",
       "\n",
       "       readmitted         diag_1_name         diag_2_name  \\\n",
       "0              NO            diabetes               Other   \n",
       "1             >30               Other            diabetes   \n",
       "2              NO               Other            diabetes   \n",
       "3              NO               Other            diabetes   \n",
       "4              NO           neoplasms           neoplasms   \n",
       "...           ...                 ...                 ...   \n",
       "69164         >30            diabetes               Other   \n",
       "69165          NO  digestive diseases               Other   \n",
       "69166          NO               Other        genitournary   \n",
       "69167          NO              injury               Other   \n",
       "69168          NO  digestive diseases  digestive diseases   \n",
       "\n",
       "                diag_3_name  \n",
       "0                     Other  \n",
       "1                     Other  \n",
       "2                     Other  \n",
       "3      circulatory diseases  \n",
       "4                  diabetes  \n",
       "...                     ...  \n",
       "69164  circulatory diseases  \n",
       "69165    digestive diseases  \n",
       "69166                 Other  \n",
       "69167                injury  \n",
       "69168    digestive diseases  \n",
       "\n",
       "[69169 rows x 51 columns]"
      ]
     },
     "execution_count": 18,
     "metadata": {},
     "output_type": "execute_result"
    }
   ],
   "source": [
    "df"
   ]
  },
  {
   "cell_type": "code",
   "execution_count": 19,
   "metadata": {
    "id": "YTwRfeCWtXmE"
   },
   "outputs": [],
   "source": [
    "df = df.drop(df.columns[0], axis=1)"
   ]
  },
  {
   "cell_type": "code",
   "execution_count": 20,
   "metadata": {
    "colab": {
     "base_uri": "https://localhost:8080/",
     "height": 342
    },
    "id": "Sk7MAjUR6Pfy",
    "outputId": "5dde1815-2680-4bda-d906-0cc058b36d66"
   },
   "outputs": [
    {
     "data": {
      "text/html": [
       "<div>\n",
       "<style scoped>\n",
       "    .dataframe tbody tr th:only-of-type {\n",
       "        vertical-align: middle;\n",
       "    }\n",
       "\n",
       "    .dataframe tbody tr th {\n",
       "        vertical-align: top;\n",
       "    }\n",
       "\n",
       "    .dataframe thead th {\n",
       "        text-align: right;\n",
       "    }\n",
       "</style>\n",
       "<table border=\"1\" class=\"dataframe\">\n",
       "  <thead>\n",
       "    <tr style=\"text-align: right;\">\n",
       "      <th></th>\n",
       "      <th>encounter_id</th>\n",
       "      <th>patient_nbr</th>\n",
       "      <th>race</th>\n",
       "      <th>gender</th>\n",
       "      <th>age</th>\n",
       "      <th>weight</th>\n",
       "      <th>admission_type_id</th>\n",
       "      <th>discharge_disposition_id</th>\n",
       "      <th>admission_source_id</th>\n",
       "      <th>time_in_hospital</th>\n",
       "      <th>...</th>\n",
       "      <th>glipizide.metformin</th>\n",
       "      <th>glimepiride.pioglitazone</th>\n",
       "      <th>metformin.rosiglitazone</th>\n",
       "      <th>metformin.pioglitazone</th>\n",
       "      <th>change</th>\n",
       "      <th>diabetesMed</th>\n",
       "      <th>readmitted</th>\n",
       "      <th>diag_1_name</th>\n",
       "      <th>diag_2_name</th>\n",
       "      <th>diag_3_name</th>\n",
       "    </tr>\n",
       "  </thead>\n",
       "  <tbody>\n",
       "    <tr>\n",
       "      <th>28258</th>\n",
       "      <td>124896414</td>\n",
       "      <td>92774349</td>\n",
       "      <td>Caucasian</td>\n",
       "      <td>Male</td>\n",
       "      <td>[70-80)</td>\n",
       "      <td>?</td>\n",
       "      <td>2</td>\n",
       "      <td>2</td>\n",
       "      <td>7</td>\n",
       "      <td>2</td>\n",
       "      <td>...</td>\n",
       "      <td>No</td>\n",
       "      <td>No</td>\n",
       "      <td>No</td>\n",
       "      <td>No</td>\n",
       "      <td>No</td>\n",
       "      <td>No</td>\n",
       "      <td>NO</td>\n",
       "      <td>circulatory diseases</td>\n",
       "      <td>circulatory diseases</td>\n",
       "      <td>neoplasms</td>\n",
       "    </tr>\n",
       "    <tr>\n",
       "      <th>66623</th>\n",
       "      <td>408458456</td>\n",
       "      <td>181068980</td>\n",
       "      <td>Caucasian</td>\n",
       "      <td>Male</td>\n",
       "      <td>[90-100)</td>\n",
       "      <td>?</td>\n",
       "      <td>1</td>\n",
       "      <td>3</td>\n",
       "      <td>7</td>\n",
       "      <td>3</td>\n",
       "      <td>...</td>\n",
       "      <td>No</td>\n",
       "      <td>No</td>\n",
       "      <td>No</td>\n",
       "      <td>No</td>\n",
       "      <td>Ch</td>\n",
       "      <td>Yes</td>\n",
       "      <td>&gt;30</td>\n",
       "      <td>injury</td>\n",
       "      <td>circulatory diseases</td>\n",
       "      <td>genitournary</td>\n",
       "    </tr>\n",
       "    <tr>\n",
       "      <th>20842</th>\n",
       "      <td>97420122</td>\n",
       "      <td>17190963</td>\n",
       "      <td>AfricanAmerican</td>\n",
       "      <td>Male</td>\n",
       "      <td>[40-50)</td>\n",
       "      <td>?</td>\n",
       "      <td>2</td>\n",
       "      <td>1</td>\n",
       "      <td>1</td>\n",
       "      <td>1</td>\n",
       "      <td>...</td>\n",
       "      <td>No</td>\n",
       "      <td>No</td>\n",
       "      <td>No</td>\n",
       "      <td>No</td>\n",
       "      <td>No</td>\n",
       "      <td>No</td>\n",
       "      <td>NO</td>\n",
       "      <td>circulatory diseases</td>\n",
       "      <td>circulatory diseases</td>\n",
       "      <td>diabetes</td>\n",
       "    </tr>\n",
       "    <tr>\n",
       "      <th>51591</th>\n",
       "      <td>238692216</td>\n",
       "      <td>67600971</td>\n",
       "      <td>Caucasian</td>\n",
       "      <td>Female</td>\n",
       "      <td>[70-80)</td>\n",
       "      <td>?</td>\n",
       "      <td>1</td>\n",
       "      <td>1</td>\n",
       "      <td>7</td>\n",
       "      <td>1</td>\n",
       "      <td>...</td>\n",
       "      <td>No</td>\n",
       "      <td>No</td>\n",
       "      <td>No</td>\n",
       "      <td>No</td>\n",
       "      <td>No</td>\n",
       "      <td>Yes</td>\n",
       "      <td>NO</td>\n",
       "      <td>respiratory diseases</td>\n",
       "      <td>circulatory diseases</td>\n",
       "      <td>Other</td>\n",
       "    </tr>\n",
       "    <tr>\n",
       "      <th>39991</th>\n",
       "      <td>167419080</td>\n",
       "      <td>53449047</td>\n",
       "      <td>Caucasian</td>\n",
       "      <td>Female</td>\n",
       "      <td>[70-80)</td>\n",
       "      <td>?</td>\n",
       "      <td>1</td>\n",
       "      <td>1</td>\n",
       "      <td>7</td>\n",
       "      <td>2</td>\n",
       "      <td>...</td>\n",
       "      <td>No</td>\n",
       "      <td>No</td>\n",
       "      <td>No</td>\n",
       "      <td>No</td>\n",
       "      <td>Ch</td>\n",
       "      <td>Yes</td>\n",
       "      <td>&gt;30</td>\n",
       "      <td>circulatory diseases</td>\n",
       "      <td>circulatory diseases</td>\n",
       "      <td>circulatory diseases</td>\n",
       "    </tr>\n",
       "  </tbody>\n",
       "</table>\n",
       "<p>5 rows × 50 columns</p>\n",
       "</div>"
      ],
      "text/plain": [
       "       encounter_id  patient_nbr             race  gender       age weight  \\\n",
       "28258     124896414     92774349        Caucasian    Male   [70-80)      ?   \n",
       "66623     408458456    181068980        Caucasian    Male  [90-100)      ?   \n",
       "20842      97420122     17190963  AfricanAmerican    Male   [40-50)      ?   \n",
       "51591     238692216     67600971        Caucasian  Female   [70-80)      ?   \n",
       "39991     167419080     53449047        Caucasian  Female   [70-80)      ?   \n",
       "\n",
       "       admission_type_id  discharge_disposition_id  admission_source_id  \\\n",
       "28258                  2                         2                    7   \n",
       "66623                  1                         3                    7   \n",
       "20842                  2                         1                    1   \n",
       "51591                  1                         1                    7   \n",
       "39991                  1                         1                    7   \n",
       "\n",
       "       time_in_hospital  ... glipizide.metformin glimepiride.pioglitazone  \\\n",
       "28258                 2  ...                  No                       No   \n",
       "66623                 3  ...                  No                       No   \n",
       "20842                 1  ...                  No                       No   \n",
       "51591                 1  ...                  No                       No   \n",
       "39991                 2  ...                  No                       No   \n",
       "\n",
       "       metformin.rosiglitazone  metformin.pioglitazone  change  diabetesMed  \\\n",
       "28258                       No                      No      No           No   \n",
       "66623                       No                      No      Ch          Yes   \n",
       "20842                       No                      No      No           No   \n",
       "51591                       No                      No      No          Yes   \n",
       "39991                       No                      No      Ch          Yes   \n",
       "\n",
       "       readmitted           diag_1_name           diag_2_name  \\\n",
       "28258          NO  circulatory diseases  circulatory diseases   \n",
       "66623         >30                injury  circulatory diseases   \n",
       "20842          NO  circulatory diseases  circulatory diseases   \n",
       "51591          NO  respiratory diseases  circulatory diseases   \n",
       "39991         >30  circulatory diseases  circulatory diseases   \n",
       "\n",
       "                diag_3_name  \n",
       "28258             neoplasms  \n",
       "66623          genitournary  \n",
       "20842              diabetes  \n",
       "51591                 Other  \n",
       "39991  circulatory diseases  \n",
       "\n",
       "[5 rows x 50 columns]"
      ]
     },
     "execution_count": 20,
     "metadata": {},
     "output_type": "execute_result"
    }
   ],
   "source": [
    "df.sample(5)"
   ]
  },
  {
   "cell_type": "markdown",
   "metadata": {
    "id": "r5nUf6w96ULF"
   },
   "source": [
    "data type of cols"
   ]
  },
  {
   "cell_type": "code",
   "execution_count": 21,
   "metadata": {
    "id": "NgQ0beHqouiU"
   },
   "outputs": [],
   "source": [
    "df = df.replace('?', np.nan)"
   ]
  },
  {
   "cell_type": "code",
   "execution_count": 22,
   "metadata": {
    "colab": {
     "base_uri": "https://localhost:8080/"
    },
    "id": "FDw4_jmQ6ROX",
    "outputId": "bf36ff51-a196-49d3-dc8c-a2f73098e568"
   },
   "outputs": [
    {
     "name": "stdout",
     "output_type": "stream",
     "text": [
      "<class 'pandas.core.frame.DataFrame'>\n",
      "RangeIndex: 69169 entries, 0 to 69168\n",
      "Data columns (total 50 columns):\n",
      " #   Column                    Non-Null Count  Dtype \n",
      "---  ------                    --------------  ----- \n",
      " 0   encounter_id              69169 non-null  int64 \n",
      " 1   patient_nbr               69169 non-null  int64 \n",
      " 2   race                      67327 non-null  object\n",
      " 3   gender                    69169 non-null  object\n",
      " 4   age                       69169 non-null  object\n",
      " 5   weight                    2775 non-null   object\n",
      " 6   admission_type_id         69169 non-null  int64 \n",
      " 7   discharge_disposition_id  69169 non-null  int64 \n",
      " 8   admission_source_id       69169 non-null  int64 \n",
      " 9   time_in_hospital          69169 non-null  int64 \n",
      " 10  payer_code                39935 non-null  object\n",
      " 11  medical_specialty         35920 non-null  object\n",
      " 12  num_lab_procedures        69169 non-null  int64 \n",
      " 13  num_procedures            69169 non-null  int64 \n",
      " 14  num_medications           69169 non-null  int64 \n",
      " 15  number_outpatient         69169 non-null  int64 \n",
      " 16  number_emergency          69169 non-null  int64 \n",
      " 17  number_inpatient          69169 non-null  int64 \n",
      " 18  number_diagnoses          69169 non-null  int64 \n",
      " 19  max_glu_serum             69169 non-null  object\n",
      " 20  A1Cresult                 69169 non-null  object\n",
      " 21  metformin                 69169 non-null  object\n",
      " 22  repaglinide               69169 non-null  object\n",
      " 23  nateglinide               69169 non-null  object\n",
      " 24  chlorpropamide            69169 non-null  object\n",
      " 25  glimepiride               69169 non-null  object\n",
      " 26  acetohexamide             69169 non-null  object\n",
      " 27  glipizide                 69169 non-null  object\n",
      " 28  glyburide                 69169 non-null  object\n",
      " 29  tolbutamide               69169 non-null  object\n",
      " 30  pioglitazone              69169 non-null  object\n",
      " 31  rosiglitazone             69169 non-null  object\n",
      " 32  acarbose                  69169 non-null  object\n",
      " 33  miglitol                  69169 non-null  object\n",
      " 34  troglitazone              69169 non-null  object\n",
      " 35  tolazamide                69169 non-null  object\n",
      " 36  examide                   69169 non-null  object\n",
      " 37  citoglipton               69169 non-null  object\n",
      " 38  insulin                   69169 non-null  object\n",
      " 39  glyburide.metformin       69169 non-null  object\n",
      " 40  glipizide.metformin       69169 non-null  object\n",
      " 41  glimepiride.pioglitazone  69169 non-null  object\n",
      " 42  metformin.rosiglitazone   69169 non-null  object\n",
      " 43  metformin.pioglitazone    69169 non-null  object\n",
      " 44  change                    69169 non-null  object\n",
      " 45  diabetesMed               69169 non-null  object\n",
      " 46  readmitted                69169 non-null  object\n",
      " 47  diag_1_name               69169 non-null  object\n",
      " 48  diag_2_name               69169 non-null  object\n",
      " 49  diag_3_name               69169 non-null  object\n",
      "dtypes: int64(13), object(37)\n",
      "memory usage: 26.4+ MB\n"
     ]
    }
   ],
   "source": [
    "df.info()"
   ]
  },
  {
   "cell_type": "code",
   "execution_count": 23,
   "metadata": {
    "id": "FNoY22jC6AUl"
   },
   "outputs": [],
   "source": [
    "df = df.drop(df.columns[[0,1]], axis=1)"
   ]
  },
  {
   "cell_type": "code",
   "execution_count": 24,
   "metadata": {
    "id": "urnjjJRi5CMW"
   },
   "outputs": [],
   "source": [
    "# Convert specified columns to categorical\n",
    "for col in ['admission_type_id', 'discharge_disposition_id', 'admission_source_id']:\n",
    "    if col in df.columns:\n",
    "        df[col] = df[col].astype('object')"
   ]
  },
  {
   "cell_type": "markdown",
   "metadata": {
    "id": "x5KbokEj5NXr"
   },
   "source": [
    "# **Profiling**\n"
   ]
  },
  {
   "cell_type": "code",
   "execution_count": 25,
   "metadata": {
    "id": "96EvqyeHk_r8"
   },
   "outputs": [],
   "source": [
    "#!pip install ydata_profiling"
   ]
  },
  {
   "cell_type": "code",
   "execution_count": 26,
   "metadata": {
    "colab": {
     "base_uri": "https://localhost:8080/",
     "height": 269,
     "referenced_widgets": [
      "ab34eef75b3f4d27a57cfec60cab8d4c",
      "0233e7b4fc2241baa1c78d038e6c8a08",
      "1d657523ca2142289d40c3eabb70c0a3",
      "05c3564fc055430c979bef316e6cfc30",
      "4fe7ceacc7914aff9e3d17fe0005cbb9",
      "897d042db70b4128bcfe3f5c28cf279d",
      "9924a8d6c5e94f23be48932db8caa0af",
      "48f6569dabb4422789cfc6f229c0f697",
      "1e7c4f6c41bc49d78f839319a012dece",
      "49407e59cf15458ba58c091fd875e666",
      "9ecbcee25e8841c3a8a741c7e905f1aa",
      "ab076fdea69946149046454d452e01a2",
      "7e788b830a564a5ba78393cdd56f336b",
      "65855d99ff5540f5935664bd8b22ef89",
      "34c29e38fe84428693fe181da0cc7ccf",
      "b83fd6ea4b41478baf8e176209bb7391",
      "1442aaf3b87044878a8db8be4a66c4e6",
      "f94324221235404fbc118a19d84ce1c2",
      "1224a931795d4ab8aaa259544d0641f0",
      "ee642709008443898be3ddfda6bb4364",
      "a5a82b559ad14fd1bf643d7c3d673d8a",
      "44de262de96b4bb6b0356ba728ece686",
      "a4d9d7e8467d4b8a91f63ecc4c00d535",
      "2663be6c69274849a8f07161084360b8",
      "93556f200a684433b8c5d6573e469ac0",
      "5f38794590184aecabd0c9f763612698",
      "49c5fb7f2e7b44b8a548f8c9629775ff",
      "0141e08fd1ba472181a196cec80e9d87",
      "3e917c5d9af94127958e18d97194197c",
      "2fb24695599e4f9787c50fa14442e41a",
      "25827cc472444eb6a05af6c41f2d5e47",
      "d4f7fa87fde84930b32c24e3938fea2e",
      "36c8786cbd4c43d8b060e277b500c0e5",
      "72daea4fd4f04e80937ead8b5b7ca4fb",
      "41606a9168184301ace805cf4b4bb4fb",
      "56c02833f0a0490a8bb469a77bb81e6d",
      "661791c28ec643b0a08178f05989935c",
      "7d504a519b8a44e2ae4924ba464346d5",
      "3ce32daea0ad40cfbb3803a967f248fb",
      "c0a528ded517494a99fba73705a88aba",
      "8036fe4244bc457285e941f2c1ea2338",
      "70a0bd35487349b2ac5f729196d6a2f9",
      "e52af85d5f3b4d0bb674f46b773ad361",
      "3910d700a48143c5a3a4fc75e34147f1"
     ]
    },
    "id": "LjuYvrxvlEgz",
    "outputId": "09a11750-e9a1-4ddf-de02-5ab8e4688018"
   },
   "outputs": [
    {
     "data": {
      "application/vnd.jupyter.widget-view+json": {
       "model_id": "4036bf8796114cdd9064802f3f372e17",
       "version_major": 2,
       "version_minor": 0
      },
      "text/plain": [
       "Summarize dataset:   0%|          | 0/5 [00:00<?, ?it/s]"
      ]
     },
     "metadata": {},
     "output_type": "display_data"
    },
    {
     "name": "stderr",
     "output_type": "stream",
     "text": [
      "c:\\Users\\Admin\\anaconda3\\Lib\\site-packages\\ydata_profiling\\model\\pandas\\summary_pandas.py:47: FutureWarning: Downcasting object dtype arrays on .fillna, .ffill, .bfill is deprecated and will change in a future version. Call result.infer_objects(copy=False) instead. To opt-in to the future behavior, set `pd.set_option('future.no_silent_downcasting', True)`\n",
      "  series = series.fillna(np.nan)\n",
      "c:\\Users\\Admin\\anaconda3\\Lib\\site-packages\\ydata_profiling\\model\\pandas\\summary_pandas.py:47: FutureWarning: Downcasting object dtype arrays on .fillna, .ffill, .bfill is deprecated and will change in a future version. Call result.infer_objects(copy=False) instead. To opt-in to the future behavior, set `pd.set_option('future.no_silent_downcasting', True)`\n",
      "  series = series.fillna(np.nan)\n"
     ]
    },
    {
     "data": {
      "application/vnd.jupyter.widget-view+json": {
       "model_id": "2fdf9581c0c44419897fd7e708f68321",
       "version_major": 2,
       "version_minor": 0
      },
      "text/plain": [
       "Generate report structure:   0%|          | 0/1 [00:00<?, ?it/s]"
      ]
     },
     "metadata": {},
     "output_type": "display_data"
    },
    {
     "data": {
      "application/vnd.jupyter.widget-view+json": {
       "model_id": "e785343b97b24c40afad4402f3b9c922",
       "version_major": 2,
       "version_minor": 0
      },
      "text/plain": [
       "Render HTML:   0%|          | 0/1 [00:00<?, ?it/s]"
      ]
     },
     "metadata": {},
     "output_type": "display_data"
    },
    {
     "data": {
      "application/vnd.jupyter.widget-view+json": {
       "model_id": "88a5a0a4de3646aabacc7751ac9b2a53",
       "version_major": 2,
       "version_minor": 0
      },
      "text/plain": [
       "Export report to file:   0%|          | 0/1 [00:00<?, ?it/s]"
      ]
     },
     "metadata": {},
     "output_type": "display_data"
    }
   ],
   "source": [
    "from ydata_profiling import ProfileReport\n",
    "prof = ProfileReport(df)\n",
    "prof.to_file(output_file='output.html')"
   ]
  },
  {
   "cell_type": "markdown",
   "metadata": {
    "id": "rqPT_ohXmB-Q"
   },
   "source": [
    "# **Output of Profiling**\n"
   ]
  },
  {
   "cell_type": "markdown",
   "metadata": {
    "id": "n2Ij6eDSxDha"
   },
   "source": [
    "**Run the profile builder to get a interactive dashboard of initial** **analysis**"
   ]
  },
  {
   "cell_type": "markdown",
   "metadata": {
    "id": "5ctkQLFp65DF"
   },
   "source": [
    "Summary statistics"
   ]
  },
  {
   "cell_type": "code",
   "execution_count": 27,
   "metadata": {
    "colab": {
     "base_uri": "https://localhost:8080/",
     "height": 300
    },
    "id": "8qRLMtAS64qF",
    "outputId": "9f9b9ae7-74ef-452d-efe2-ee88db361ed4"
   },
   "outputs": [
    {
     "data": {
      "text/html": [
       "<div>\n",
       "<style scoped>\n",
       "    .dataframe tbody tr th:only-of-type {\n",
       "        vertical-align: middle;\n",
       "    }\n",
       "\n",
       "    .dataframe tbody tr th {\n",
       "        vertical-align: top;\n",
       "    }\n",
       "\n",
       "    .dataframe thead th {\n",
       "        text-align: right;\n",
       "    }\n",
       "</style>\n",
       "<table border=\"1\" class=\"dataframe\">\n",
       "  <thead>\n",
       "    <tr style=\"text-align: right;\">\n",
       "      <th></th>\n",
       "      <th>time_in_hospital</th>\n",
       "      <th>num_lab_procedures</th>\n",
       "      <th>num_procedures</th>\n",
       "      <th>num_medications</th>\n",
       "      <th>number_outpatient</th>\n",
       "      <th>number_emergency</th>\n",
       "      <th>number_inpatient</th>\n",
       "      <th>number_diagnoses</th>\n",
       "    </tr>\n",
       "  </thead>\n",
       "  <tbody>\n",
       "    <tr>\n",
       "      <th>count</th>\n",
       "      <td>69169.000000</td>\n",
       "      <td>69169.000000</td>\n",
       "      <td>69169.000000</td>\n",
       "      <td>69169.000000</td>\n",
       "      <td>69169.000000</td>\n",
       "      <td>69169.000000</td>\n",
       "      <td>69169.000000</td>\n",
       "      <td>69169.000000</td>\n",
       "    </tr>\n",
       "    <tr>\n",
       "      <th>mean</th>\n",
       "      <td>4.291012</td>\n",
       "      <td>43.099524</td>\n",
       "      <td>1.393543</td>\n",
       "      <td>15.802513</td>\n",
       "      <td>0.324524</td>\n",
       "      <td>0.138892</td>\n",
       "      <td>0.454611</td>\n",
       "      <td>7.300915</td>\n",
       "    </tr>\n",
       "    <tr>\n",
       "      <th>std</th>\n",
       "      <td>2.955451</td>\n",
       "      <td>19.761672</td>\n",
       "      <td>1.734463</td>\n",
       "      <td>8.243145</td>\n",
       "      <td>1.171410</td>\n",
       "      <td>0.682159</td>\n",
       "      <td>0.977924</td>\n",
       "      <td>1.984538</td>\n",
       "    </tr>\n",
       "    <tr>\n",
       "      <th>min</th>\n",
       "      <td>1.000000</td>\n",
       "      <td>1.000000</td>\n",
       "      <td>0.000000</td>\n",
       "      <td>1.000000</td>\n",
       "      <td>0.000000</td>\n",
       "      <td>0.000000</td>\n",
       "      <td>0.000000</td>\n",
       "      <td>1.000000</td>\n",
       "    </tr>\n",
       "    <tr>\n",
       "      <th>25%</th>\n",
       "      <td>2.000000</td>\n",
       "      <td>31.000000</td>\n",
       "      <td>0.000000</td>\n",
       "      <td>10.000000</td>\n",
       "      <td>0.000000</td>\n",
       "      <td>0.000000</td>\n",
       "      <td>0.000000</td>\n",
       "      <td>6.000000</td>\n",
       "    </tr>\n",
       "    <tr>\n",
       "      <th>50%</th>\n",
       "      <td>3.000000</td>\n",
       "      <td>44.000000</td>\n",
       "      <td>1.000000</td>\n",
       "      <td>14.000000</td>\n",
       "      <td>0.000000</td>\n",
       "      <td>0.000000</td>\n",
       "      <td>0.000000</td>\n",
       "      <td>8.000000</td>\n",
       "    </tr>\n",
       "    <tr>\n",
       "      <th>75%</th>\n",
       "      <td>6.000000</td>\n",
       "      <td>57.000000</td>\n",
       "      <td>2.000000</td>\n",
       "      <td>20.000000</td>\n",
       "      <td>0.000000</td>\n",
       "      <td>0.000000</td>\n",
       "      <td>1.000000</td>\n",
       "      <td>9.000000</td>\n",
       "    </tr>\n",
       "    <tr>\n",
       "      <th>max</th>\n",
       "      <td>14.000000</td>\n",
       "      <td>129.000000</td>\n",
       "      <td>6.000000</td>\n",
       "      <td>81.000000</td>\n",
       "      <td>40.000000</td>\n",
       "      <td>54.000000</td>\n",
       "      <td>16.000000</td>\n",
       "      <td>16.000000</td>\n",
       "    </tr>\n",
       "  </tbody>\n",
       "</table>\n",
       "</div>"
      ],
      "text/plain": [
       "       time_in_hospital  num_lab_procedures  num_procedures  num_medications  \\\n",
       "count      69169.000000        69169.000000    69169.000000     69169.000000   \n",
       "mean           4.291012           43.099524        1.393543        15.802513   \n",
       "std            2.955451           19.761672        1.734463         8.243145   \n",
       "min            1.000000            1.000000        0.000000         1.000000   \n",
       "25%            2.000000           31.000000        0.000000        10.000000   \n",
       "50%            3.000000           44.000000        1.000000        14.000000   \n",
       "75%            6.000000           57.000000        2.000000        20.000000   \n",
       "max           14.000000          129.000000        6.000000        81.000000   \n",
       "\n",
       "       number_outpatient  number_emergency  number_inpatient  number_diagnoses  \n",
       "count       69169.000000      69169.000000      69169.000000      69169.000000  \n",
       "mean            0.324524          0.138892          0.454611          7.300915  \n",
       "std             1.171410          0.682159          0.977924          1.984538  \n",
       "min             0.000000          0.000000          0.000000          1.000000  \n",
       "25%             0.000000          0.000000          0.000000          6.000000  \n",
       "50%             0.000000          0.000000          0.000000          8.000000  \n",
       "75%             0.000000          0.000000          1.000000          9.000000  \n",
       "max            40.000000         54.000000         16.000000         16.000000  "
      ]
     },
     "execution_count": 27,
     "metadata": {},
     "output_type": "execute_result"
    }
   ],
   "source": [
    "df.describe()"
   ]
  },
  {
   "cell_type": "markdown",
   "metadata": {
    "id": "NQ0TDQLp6ZLT"
   },
   "source": [
    "Missing values ?"
   ]
  },
  {
   "cell_type": "markdown",
   "metadata": {
    "id": "KaG6EsgA6J4D"
   },
   "source": [
    "mean of num_medications = 15.802513\n",
    "mean of num_lab_procedures = 43.099524"
   ]
  },
  {
   "cell_type": "markdown",
   "metadata": {
    "id": "XHF1RO606LhP"
   },
   "source": [
    "~16 medications per person, and 43 lab procedures per person !!\n"
   ]
  },
  {
   "cell_type": "code",
   "execution_count": 28,
   "metadata": {
    "colab": {
     "base_uri": "https://localhost:8080/"
    },
    "id": "iQfJA2sN6QKS",
    "outputId": "be453ae6-d6d2-4c7a-a9ab-445d7f13893a"
   },
   "outputs": [
    {
     "name": "stdout",
     "output_type": "stream",
     "text": [
      "weight               66394\n",
      "medical_specialty    33249\n",
      "payer_code           29234\n",
      "race                  1842\n",
      "dtype: int64\n"
     ]
    }
   ],
   "source": [
    "# Display columns with missing values and their counts\n",
    "missing_values = df.isnull().sum().sort_values(ascending=False)\n",
    "print(missing_values[missing_values > 0])"
   ]
  },
  {
   "cell_type": "markdown",
   "metadata": {
    "id": "cLOwGHVM7TEn"
   },
   "source": [
    "% missing per col"
   ]
  },
  {
   "cell_type": "code",
   "execution_count": 29,
   "metadata": {
    "colab": {
     "base_uri": "https://localhost:8080/"
    },
    "id": "Y9MM4kkP7SkM",
    "outputId": "34863309-8294-449d-997a-db31773090ea"
   },
   "outputs": [
    {
     "name": "stdout",
     "output_type": "stream",
     "text": [
      "weight               95.988087\n",
      "medical_specialty    48.069222\n",
      "payer_code           42.264598\n",
      "race                  2.663043\n",
      "dtype: float64\n"
     ]
    }
   ],
   "source": [
    "miss = df.isnull().sum(axis=0) / df.shape[0] * 100\n",
    "miss = miss.sort_values(ascending = False)\n",
    "print(miss[miss>0])"
   ]
  },
  {
   "cell_type": "markdown",
   "metadata": {
    "id": "TjivjUqp7CKL"
   },
   "source": [
    "Segregating categorical and numerical columns"
   ]
  },
  {
   "cell_type": "code",
   "execution_count": 30,
   "metadata": {
    "id": "Z5Dsh5QbHx_9"
   },
   "outputs": [],
   "source": [
    "\n",
    "if 'weight' in df.columns:\n",
    "    df = df.drop('weight', axis=1)\n",
    "\n",
    "if 'payer_code' in df.columns:\n",
    "    df = df.drop('payer_code', axis=1)"
   ]
  },
  {
   "cell_type": "code",
   "execution_count": 31,
   "metadata": {
    "id": "Rbew_k8G7Got"
   },
   "outputs": [],
   "source": [
    "cat_cols = [col for col in df.columns if df[col].dtype == 'object']\n",
    "num_cols = [col for col in df.columns if df[col].dtype != 'object']"
   ]
  },
  {
   "cell_type": "code",
   "execution_count": 32,
   "metadata": {
    "colab": {
     "base_uri": "https://localhost:8080/"
    },
    "id": "_IDf8-AsIDrs",
    "outputId": "14ae33d1-86a2-49fd-ea9a-dea94b0433d9"
   },
   "outputs": [
    {
     "data": {
      "text/plain": [
       "(69169, 46)"
      ]
     },
     "execution_count": 32,
     "metadata": {},
     "output_type": "execute_result"
    }
   ],
   "source": [
    "df.shape"
   ]
  },
  {
   "cell_type": "markdown",
   "metadata": {
    "id": "W1GrSrTC7HQl"
   },
   "source": [
    "Knowing the unique categories in cols\n"
   ]
  },
  {
   "cell_type": "code",
   "execution_count": 33,
   "metadata": {
    "colab": {
     "base_uri": "https://localhost:8080/"
    },
    "id": "7Jv1uR6C7My2",
    "outputId": "4c7477c7-93f7-4542-c637-4f51633d340a"
   },
   "outputs": [
    {
     "name": "stdout",
     "output_type": "stream",
     "text": [
      "race has ['Caucasian' 'AfricanAmerican' nan 'Other' 'Asian' 'Hispanic'] values\n",
      "\n",
      "gender has ['Female' 'Male' 'Unknown/Invalid'] values\n",
      "\n",
      "age has ['[0-10)' '[10-20)' '[20-30)' '[30-40)' '[40-50)' '[50-60)' '[60-70)'\n",
      " '[70-80)' '[80-90)' '[90-100)'] values\n",
      "\n",
      "admission_type_id has [6 1 2 3 4 5 8 7] values\n",
      "\n",
      "discharge_disposition_id has [25 1 3 6 2 5 10 7 4 18 8 12 22 17 23 9 16 15 28 24 27] values\n",
      "\n",
      "admission_source_id has [1 7 2 4 20 6 5 3 17 8 9 14 10 22 11 25 13] values\n",
      "\n",
      "medical_specialty has ['Pediatrics-Endocrinology' nan 'InternalMedicine'\n",
      " 'Family/GeneralPractice' 'Cardiology' 'Surgery-General' 'Orthopedics'\n",
      " 'Gastroenterology' 'Nephrology' 'Orthopedics-Reconstructive'\n",
      " 'Surgery-Cardiovascular/Thoracic' 'Pulmonology' 'Psychiatry'\n",
      " 'Emergency/Trauma' 'Surgery-Neuro' 'ObstetricsandGynecology' 'Pediatrics'\n",
      " 'Otolaryngology' 'Surgery-Colon&Rectal'\n",
      " 'Obsterics&Gynecology-GynecologicOnco' 'Urology'\n",
      " 'Pediatrics-CriticalCare' 'Psychiatry-Child/Adolescent' 'Endocrinology'\n",
      " 'Neurology' 'Anesthesiology-Pediatric' 'Radiology'\n",
      " 'Pediatrics-Hematology-Oncology' 'Psychology' 'Hematology/Oncology'\n",
      " 'Podiatry' 'Gynecology' 'Pediatrics-Neurology' 'Surgery-Thoracic'\n",
      " 'Surgery-Plastic' 'Surgery-Pediatric' 'Pediatrics-EmergencyMedicine'\n",
      " 'PhysicalMedicineandRehabilitation' 'InfectiousDiseases' 'Anesthesiology'\n",
      " 'Ophthalmology' 'Oncology' 'AllergyandImmunology'\n",
      " 'Pediatrics-Pulmonology' 'Surgery-Maxillofacial'\n",
      " 'Pediatrics-InfectiousDiseases' 'Rheumatology' 'Dentistry' 'Surgeon'\n",
      " 'Surgery-Vascular' 'Pediatrics-AllergyandImmunology' 'Osteopath'\n",
      " 'Psychiatry-Addictive' 'Surgery-Cardiovascular' 'PhysicianNotFound'\n",
      " 'Hematology' 'Proctology' 'Obstetrics' 'SurgicalSpecialty' 'Pathology'\n",
      " 'Radiologist' 'Speech' 'Hospitalist' 'OutreachServices'\n",
      " 'Cardiology-Pediatric' 'Perinatology' 'Neurophysiology'\n",
      " 'Endocrinology-Metabolism' 'DCPTEAM' 'Resident'] values\n",
      "\n",
      "max_glu_serum has ['NO' '>300' 'Norm' '>200' '8'] values\n",
      "\n",
      "A1Cresult has ['NO' '>7' '>8' 'Norm'] values\n",
      "\n",
      "metformin has ['No' 'Steady' 'Up' 'Down'] values\n",
      "\n",
      "repaglinide has ['No' 'Steady' 'Up' 'Down'] values\n",
      "\n",
      "nateglinide has ['No' 'Steady' 'Up' 'Down'] values\n",
      "\n",
      "chlorpropamide has ['No' 'Steady' 'Down' 'Up'] values\n",
      "\n",
      "glimepiride has ['No' 'Steady' 'Down' 'Up'] values\n",
      "\n",
      "acetohexamide has ['No' 'Steady'] values\n",
      "\n",
      "glipizide has ['No' 'Steady' 'Up' 'Down'] values\n",
      "\n",
      "glyburide has ['No' 'Steady' 'Up' 'Down'] values\n",
      "\n",
      "tolbutamide has ['No' 'Steady'] values\n",
      "\n",
      "pioglitazone has ['No' 'Steady' 'Up' 'Down'] values\n",
      "\n",
      "rosiglitazone has ['No' 'Steady' 'Up' 'Down'] values\n",
      "\n",
      "acarbose has ['No' 'Steady' 'Up' 'Down'] values\n",
      "\n",
      "miglitol has ['No' 'Steady' 'Up' 'Down'] values\n",
      "\n",
      "troglitazone has ['No' 'Steady'] values\n",
      "\n",
      "tolazamide has ['No' 'Steady'] values\n",
      "\n",
      "examide has ['No'] values\n",
      "\n",
      "citoglipton has ['No'] values\n",
      "\n",
      "insulin has ['No' 'Up' 'Steady' 'Down'] values\n",
      "\n",
      "glyburide.metformin has ['No' 'Steady' 'Down' 'Up'] values\n",
      "\n",
      "glipizide.metformin has ['No' 'Steady'] values\n",
      "\n",
      "glimepiride.pioglitazone has ['No'] values\n",
      "\n",
      "metformin.rosiglitazone has ['No' 'Steady'] values\n",
      "\n",
      "metformin.pioglitazone has ['No' 'Steady'] values\n",
      "\n",
      "change has ['No' 'Ch'] values\n",
      "\n",
      "diabetesMed has ['No' 'Yes'] values\n",
      "\n",
      "readmitted has ['NO' '>30' '<30'] values\n",
      "\n",
      "diag_1_name has ['diabetes' 'Other' 'neoplasms' 'circulatory diseases'\n",
      " 'respiratory diseases' 'injury' 'musculoskeletal diseases'\n",
      " 'digestive diseases' 'genitournary'] values\n",
      "\n",
      "diag_2_name has ['Other' 'diabetes' 'neoplasms' 'circulatory diseases'\n",
      " 'respiratory diseases' 'injury' 'musculoskeletal diseases'\n",
      " 'digestive diseases' 'genitournary'] values\n",
      "\n",
      "diag_3_name has ['Other' 'circulatory diseases' 'diabetes' 'respiratory diseases' 'injury'\n",
      " 'neoplasms' 'genitournary' 'musculoskeletal diseases'\n",
      " 'digestive diseases'] values\n",
      "\n"
     ]
    }
   ],
   "source": [
    "for col in cat_cols:\n",
    "    print(f\"{col} has {df[col].unique()} values\\n\")"
   ]
  },
  {
   "cell_type": "code",
   "execution_count": 34,
   "metadata": {
    "id": "aHmk-8A0XIEk"
   },
   "outputs": [],
   "source": [
    "cols_to_drop = ['glimepiride.pioglitazone', 'examide', 'citoglipton']\n",
    "for col in cols_to_drop:\n",
    "    if col in df.columns:\n",
    "        df = df.drop(col, axis=1)"
   ]
  },
  {
   "cell_type": "markdown",
   "metadata": {
    "id": "K-YzV28PinPA"
   },
   "source": [
    "Plots being too long are commented for easier review of file"
   ]
  },
  {
   "cell_type": "code",
   "execution_count": 35,
   "metadata": {
    "id": "V8upvGhZPA3V"
   },
   "outputs": [],
   "source": [
    "# # prompt: get graphical matrix representation of each cat col in readmitted if cat col present\n",
    "\n",
    "# import pandas as pd\n",
    "# import numpy as np\n",
    "# import matplotlib.pyplot as plt\n",
    "# import seaborn as sns\n",
    "\n",
    "# # Assuming df is already loaded and processed as in the previous code\n",
    "\n",
    "# # Function to create the matrix\n",
    "# def create_matrix(df, col):\n",
    "#     if col in df.columns:\n",
    "#         matrix = pd.crosstab(df[col], df['readmitted'])\n",
    "#         plt.figure(figsize=(10, 6))\n",
    "#         sns.heatmap(matrix, annot=True, fmt='d', cmap='YlGnBu')\n",
    "#         plt.title(f'Matrix Representation of {col} vs. readmitted')\n",
    "#         plt.xlabel('readmitted')\n",
    "#         plt.ylabel(col)\n",
    "#         plt.show()\n",
    "#     else:\n",
    "#         print(f\"Column '{col}' not found in the DataFrame.\")\n",
    "\n",
    "# # Loop through each categorical column and create a matrix\n",
    "# for col in cat_cols:\n",
    "#     create_matrix(df, col)"
   ]
  },
  {
   "cell_type": "code",
   "execution_count": 36,
   "metadata": {
    "colab": {
     "base_uri": "https://localhost:8080/",
     "height": 772
    },
    "id": "yH-5csYNFety",
    "outputId": "18b4641f-95bb-4820-8852-2f572d8e98ab"
   },
   "outputs": [
    {
     "name": "stdout",
     "output_type": "stream",
     "text": [
      "Proportions by Age Group:\n",
      "               <30        >30         NO\n",
      "[0-10]    0.657895  13.157895  86.184211\n",
      "[10-20]   2.480916  16.412214  81.106870\n",
      "[20-30]   3.898459  14.687217  81.414325\n",
      "[30-40]   3.145131  15.649867  81.205002\n",
      "[40-50]   3.052521  17.970971  78.976508\n",
      "[50-60]   3.453947  19.070724  77.475329\n",
      "[60-70]   4.819666  20.523905  74.656429\n",
      "[70-80]   5.400757  21.889692  72.709552\n",
      "[80-90]   5.905618  21.608989  72.485393\n",
      "[90-100]  4.777416  16.286645  78.935939\n"
     ]
    },
    {
     "name": "stderr",
     "output_type": "stream",
     "text": [
      "C:\\Users\\Admin\\AppData\\Local\\Temp\\ipykernel_1512\\248072450.py:29: UserWarning: FigureCanvasAgg is non-interactive, and thus cannot be shown\n",
      "  plt.show()\n"
     ]
    }
   ],
   "source": [
    "import pandas as pd\n",
    "import seaborn as sns\n",
    "import matplotlib.pyplot as plt\n",
    "\n",
    "# Assuming df_matrix contains the raw counts matrix (replace with your actual data)\n",
    "data = {\n",
    "    '[0-10]': [1, 20, 131],\n",
    "    '[10-20]': [13, 86, 425],\n",
    "    '[20-30]': [43, 162, 898],\n",
    "    '[30-40]': [83, 413, 2143],\n",
    "    '[40-50]': [204, 1201, 5278],\n",
    "    '[50-60]': [420, 2319, 9421],\n",
    "    '[60-70]': [747, 3181, 11571],\n",
    "    '[70-80]': [942, 3818, 12682],\n",
    "    '[80-90]': [657, 2404, 8064],\n",
    "    '[90-100]': [88, 300, 1454],\n",
    "}\n",
    "df_matrix = pd.DataFrame(data, index=['<30', '>30', 'NO']).T\n",
    "\n",
    "# Normalize by row to get proportions\n",
    "df_proportions = df_matrix.div(df_matrix.sum(axis=1), axis=0) * 100\n",
    "\n",
    "# Plot heatmap of proportions\n",
    "plt.figure(figsize=(10, 6))\n",
    "sns.heatmap(df_proportions, annot=True, fmt='.2f', cmap='YlGnBu')\n",
    "plt.title('Proportion Matrix of Age vs. Readmitted')\n",
    "plt.xlabel('Readmitted')\n",
    "plt.ylabel('Age Group')\n",
    "plt.show()\n",
    "\n",
    "# Generate insights\n",
    "print(\"Proportions by Age Group:\")\n",
    "print(df_proportions)\n"
   ]
  },
  {
   "cell_type": "markdown",
   "metadata": {
    "id": "rpFH4hWxiw9x"
   },
   "source": [
    "Plots being too long are commented for easier review of file"
   ]
  },
  {
   "cell_type": "code",
   "execution_count": 37,
   "metadata": {
    "id": "45GbWu0DEMA4"
   },
   "outputs": [],
   "source": [
    "\n",
    "# import pandas as pd\n",
    "# import numpy as np\n",
    "# import matplotlib.pyplot as plt\n",
    "# import seaborn as sns\n",
    "\n",
    "# # Assuming df and cat_cols are already defined\n",
    "# # Example: cat_cols = ['gender', 'age', 'race', ...]\n",
    "\n",
    "# # Function to create the matrix with proportions\n",
    "# def create_matrix(df, col):\n",
    "#     if col in df.columns:\n",
    "#         matrix = pd.crosstab(df[col], df['readmitted'], normalize='index') * 100  # Normalize by row\n",
    "#         return matrix\n",
    "#     else:\n",
    "#         print(f\"Column '{col}' not found in the DataFrame.\")\n",
    "#         return None\n",
    "\n",
    "# # Dictionary to store all matrices\n",
    "# matrix_dict = {}\n",
    "\n",
    "# # Loop through each categorical column\n",
    "# for col in cat_cols:\n",
    "#     matrix = create_matrix(df, col)\n",
    "#     if matrix is not None:\n",
    "#         matrix_dict[col] = matrix\n",
    "\n",
    "# # Combine matrices into a single DataFrame for exporting\n",
    "# combined_matrix = pd.concat(matrix_dict, axis=0)\n",
    "\n",
    "# # Export to a CSV file\n",
    "# combined_matrix.to_csv('proportion_matrices.csv')\n",
    "\n",
    "# # Display heatmaps for each column\n",
    "# for col, matrix in matrix_dict.items():\n",
    "#     plt.figure(figsize=(10, 6))\n",
    "#     sns.heatmap(matrix, annot=True, fmt='.2f', cmap='YlGnBu')  # Format to show percentages\n",
    "#     plt.title(f'Proportion Matrix of {col} vs. readmitted')\n",
    "#     plt.xlabel('readmitted')\n",
    "#     plt.ylabel(col)\n",
    "#     plt.show()\n"
   ]
  },
  {
   "cell_type": "markdown",
   "metadata": {
    "id": "c9NM4ExpXZ6N"
   },
   "source": [
    "[Analysis of the representation of these classes](https://drive.google.com/file/d/1RsDldkEnunjGlW259HBOVkjp2SunuE-q/view?usp=sharing)"
   ]
  },
  {
   "cell_type": "markdown",
   "metadata": {
    "id": "BM_Le5ulcf7D"
   },
   "source": [
    "[Class Representation with respect to target class](https://drive.google.com/file/d/1ZQ7dVlZt2938hs0n6By_6DlhY2QHDmYd/view?usp=sharing)"
   ]
  },
  {
   "cell_type": "markdown",
   "metadata": {
    "id": "M7_pS1vGfgz8"
   },
   "source": [
    "\n",
    "\n",
    "---\n",
    "\n",
    "\n",
    "\n",
    "---\n",
    "\n"
   ]
  },
  {
   "cell_type": "markdown",
   "metadata": {
    "id": "s9kVGIA9c8hw"
   },
   "source": [
    "# **Analysis**\n",
    "\n",
    "If the admission of a person is due to court/Law enforcement or due to extramural birth, the person is not readmitted in the hospital.\n",
    "\n",
    "Similarly if the physian attending the person is from departments like Gynecology\n",
    "Hospitalist\n",
    "Obstetrics\n",
    "Outreach Services\n",
    "Pediatrics-EmergencyMedicine\n",
    "Pediatrics-Hematology-Oncology\n",
    "Pediatrics-Neurology\n",
    "Pediatrics-Pulmonology\n",
    "Proctology\n",
    "Psychiatry-Addictive\n",
    "Psychiatry-Child/Adolescent\n",
    "Rheumatology\n",
    "Speech\n",
    "Surgery-Colon&Rectal\n",
    "Surgery-Maxillofacial\n",
    "SurgicalSpecialty\n",
    "\n",
    "the person won't be admitted but if the physian is from pediatrics-AllergyandImmunology or from IfectiousDiseases under Pediatrics then the patient will definitely revisit but after 30 days\n",
    "\n",
    "If patient is prescriped more dosage of nateglinide or a less dose of chlorpropamide then the patient will definitely not revisit the hospital\n",
    "\n",
    "If the patient is prescribed a steady dose ie asked to continue with acetohexamide then the patient will definitely revisit but after 30 days.\n",
    "\n",
    "Similarly, if a patient is prescribe low or a high dose of glyburide.metformin or a steady dose of glipizide.metformin then he will definitely not visit the hospital\n",
    "\n",
    "These insights can be drawn from the data given."
   ]
  },
  {
   "cell_type": "markdown",
   "metadata": {
    "id": "S_qhAdGMfkhd"
   },
   "source": [
    "\n",
    "\n",
    "---\n",
    "\n",
    "\n",
    "\n",
    "---\n",
    "\n"
   ]
  },
  {
   "cell_type": "code",
   "execution_count": 38,
   "metadata": {
    "id": "HKw-t9wqQVle"
   },
   "outputs": [],
   "source": [
    "drop_list = ['repaglinide', 'nateglinide', 'chlorpropamide', 'acarbose', 'miglitol', 'troglitazone', 'tolazamide', 'examide', 'citoglipton', 'glyburide-metformin', 'glipizide-metformin', 'glimepiride-pioglitazone', 'metformin-rosiglitazone','metformin-pioglitazone', 'acetohexamide', 'tolbutamide']"
   ]
  },
  {
   "cell_type": "code",
   "execution_count": 39,
   "metadata": {
    "colab": {
     "base_uri": "https://localhost:8080/"
    },
    "id": "kJaglNTlRdRV",
    "outputId": "8f553706-57b0-4f0c-bd87-4e806333484a"
   },
   "outputs": [
    {
     "name": "stdout",
     "output_type": "stream",
     "text": [
      "Value counts for repaglinide:\n",
      "repaglinide\n",
      "No        68220\n",
      "Steady      841\n",
      "Up           75\n",
      "Down         33\n",
      "Name: count, dtype: int64\n",
      "Value counts for nateglinide:\n",
      "nateglinide\n",
      "No        68696\n",
      "Steady      446\n",
      "Up           18\n",
      "Down          9\n",
      "Name: count, dtype: int64\n",
      "Value counts for chlorpropamide:\n",
      "chlorpropamide\n",
      "No        69104\n",
      "Steady       60\n",
      "Up            4\n",
      "Down          1\n",
      "Name: count, dtype: int64\n",
      "Value counts for acarbose:\n",
      "acarbose\n",
      "No        68986\n",
      "Steady      175\n",
      "Up            7\n",
      "Down          1\n",
      "Name: count, dtype: int64\n",
      "Value counts for miglitol:\n",
      "miglitol\n",
      "No        69150\n",
      "Steady       17\n",
      "Up            1\n",
      "Down          1\n",
      "Name: count, dtype: int64\n",
      "Value counts for troglitazone:\n",
      "troglitazone\n",
      "No        69167\n",
      "Steady        2\n",
      "Name: count, dtype: int64\n",
      "Value counts for tolazamide:\n",
      "tolazamide\n",
      "No        69139\n",
      "Steady       30\n",
      "Name: count, dtype: int64\n",
      "Column 'examide' not found in the DataFrame.\n",
      "Column 'citoglipton' not found in the DataFrame.\n",
      "Column 'glyburide-metformin' not found in the DataFrame.\n",
      "Column 'glipizide-metformin' not found in the DataFrame.\n",
      "Column 'glimepiride-pioglitazone' not found in the DataFrame.\n",
      "Column 'metformin-rosiglitazone' not found in the DataFrame.\n",
      "Column 'metformin-pioglitazone' not found in the DataFrame.\n",
      "Value counts for acetohexamide:\n",
      "acetohexamide\n",
      "No        69168\n",
      "Steady        1\n",
      "Name: count, dtype: int64\n",
      "Value counts for tolbutamide:\n",
      "tolbutamide\n",
      "No        69152\n",
      "Steady       17\n",
      "Name: count, dtype: int64\n"
     ]
    }
   ],
   "source": [
    "# prompt: print value counts of each variable in drop_list\n",
    "\n",
    "# Assuming df and drop_list are defined as in the previous code\n",
    "\n",
    "for col in drop_list:\n",
    "    if col in df.columns:\n",
    "        print(f\"Value counts for {col}:\")\n",
    "        print(df[col].value_counts())\n",
    "    else:\n",
    "        print(f\"Column '{col}' not found in the DataFrame.\")"
   ]
  },
  {
   "cell_type": "markdown",
   "metadata": {
    "id": "lyU5rcffSBdI"
   },
   "source": [
    "**Since % representation in each class compared to the other is quite negligible (No and steady considered the same) we drop these variables as then just a single value is repeated**"
   ]
  },
  {
   "cell_type": "code",
   "execution_count": 40,
   "metadata": {
    "id": "9VC0NXhRWPKL"
   },
   "outputs": [],
   "source": [
    "\n",
    "cols_to_map = ['metformin', 'repaglinide', 'nateglinide', 'chlorpropamide', 'glimepiride', 'acetohexamide', 'glipizide', 'glyburide', 'tolbutamide', 'pioglitazone', 'rosiglitazone', 'acarbose', 'miglitol', 'troglitazone', 'tolazamide', 'insulin', 'glyburide.metformin', 'glipizide.metformin', 'metformin.rosiglitazone', 'metformin.pioglitazone']\n",
    "\n",
    "mapping = {'No': 0, 'Steady': 0, 'Up': 1, 'Down': -1}\n",
    "\n",
    "for col in cols_to_map:\n",
    "    if col in df.columns:\n",
    "        df[col] = df[col].map(mapping).fillna(df[col]) # fillna to handle values not in the mapping"
   ]
  },
  {
   "cell_type": "code",
   "execution_count": 41,
   "metadata": {
    "id": "DRjtZmSgQiEG"
   },
   "outputs": [],
   "source": [
    "# prompt: if df[col] from drop_list present drop it\n",
    "\n",
    "for col in drop_list:\n",
    "    if col in df.columns:\n",
    "        df = df.drop(col, axis=1)"
   ]
  },
  {
   "cell_type": "code",
   "execution_count": 42,
   "metadata": {
    "colab": {
     "base_uri": "https://localhost:8080/"
    },
    "id": "r4vl-GmDXT0S",
    "outputId": "06e6f953-131c-49a8-aa3a-55e4c334855f"
   },
   "outputs": [
    {
     "data": {
      "text/plain": [
       "(69169, 34)"
      ]
     },
     "execution_count": 42,
     "metadata": {},
     "output_type": "execute_result"
    }
   ],
   "source": [
    "df.shape"
   ]
  },
  {
   "cell_type": "markdown",
   "metadata": {
    "id": "ftNA54gB7NZy"
   },
   "source": []
  },
  {
   "cell_type": "code",
   "execution_count": 43,
   "metadata": {
    "id": "zvYN2VlG8vQv"
   },
   "outputs": [],
   "source": [
    "# Define known admission type IDs\n",
    "known_admission_types = [1, 2, 3, 4, 7]\n",
    "\n",
    "# Replace admission_type_id values not in known_admission_types with NaN\n",
    "df['admission_type_id'] = df['admission_type_id'].apply(lambda x: x if x in known_admission_types else np.nan)\n",
    "\n",
    "# Define discharge disposition IDs to replace with NaN\n",
    "discharge_disposition_ids_to_nan = [18, 25, 26]\n",
    "\n",
    "# Replace discharge_disposition_id values in the specified list with NaN\n",
    "df['discharge_disposition_id'] = df['discharge_disposition_id'].apply(lambda x: np.nan if x in discharge_disposition_ids_to_nan else x)"
   ]
  },
  {
   "cell_type": "code",
   "execution_count": 44,
   "metadata": {
    "colab": {
     "base_uri": "https://localhost:8080/",
     "height": 178
    },
    "id": "TsEBccmGS4ac",
    "outputId": "14c31a2d-0801-4d9b-b3b2-61435ed9588d"
   },
   "outputs": [
    {
     "data": {
      "text/plain": [
       "gender\n",
       "Female    36813\n",
       "Male      32356\n",
       "Name: count, dtype: int64"
      ]
     },
     "execution_count": 44,
     "metadata": {},
     "output_type": "execute_result"
    }
   ],
   "source": [
    "df['gender'] = df['gender'].replace('Unknown/Invalid', 'Female')\n",
    "df.gender.value_counts()"
   ]
  },
  {
   "cell_type": "code",
   "execution_count": 45,
   "metadata": {
    "colab": {
     "base_uri": "https://localhost:8080/"
    },
    "id": "6rXo1rbCQxEe",
    "outputId": "d8b87ebb-fb2f-48d0-8648-e888589f83c6"
   },
   "outputs": [
    {
     "name": "stdout",
     "output_type": "stream",
     "text": [
      "All 'readmitted' values for discharge_disposition_ids [11, 13, 14, 19, 20, 21, 23, 24] are 'NO': False\n"
     ]
    }
   ],
   "source": [
    "\n",
    "# Check if discharge_disposition_id values in the specified list have corresponding 'readmitted' values as 'NO'\n",
    "discharge_disposition_ids_to_check = [11, 13, 14, 19, 20, 21, 23, 24]\n",
    "\n",
    "# Filter the DataFrame for the specified discharge disposition IDs\n",
    "filtered_df = df[df['discharge_disposition_id'].isin(discharge_disposition_ids_to_check)]\n",
    "\n",
    "# Check if all corresponding 'readmitted' values are 'NO'\n",
    "all_no_readmit = all(filtered_df['readmitted'] == 'NO')\n",
    "\n",
    "# Print the result\n",
    "print(f\"All 'readmitted' values for discharge_disposition_ids {discharge_disposition_ids_to_check} are 'NO': {all_no_readmit}\")\n"
   ]
  },
  {
   "cell_type": "code",
   "execution_count": 46,
   "metadata": {
    "id": "eN26kdszRX2a"
   },
   "outputs": [],
   "source": [
    "# Define discharge disposition IDs to drop\n",
    "discharge_disposition_ids_to_drop = [11, 13, 14, 19, 20, 21, 23, 24]\n",
    "\n",
    "# Drop rows where discharge_disposition_id is in the specified list\n",
    "df = df[~df['discharge_disposition_id'].isin(discharge_disposition_ids_to_drop)]"
   ]
  },
  {
   "cell_type": "code",
   "execution_count": 47,
   "metadata": {
    "colab": {
     "base_uri": "https://localhost:8080/"
    },
    "id": "GxrY89N0JQk1",
    "outputId": "8c97a820-2762-4c43-a971-2d2f7774969d"
   },
   "outputs": [
    {
     "data": {
      "text/plain": [
       "(68858, 34)"
      ]
     },
     "execution_count": 47,
     "metadata": {},
     "output_type": "execute_result"
    }
   ],
   "source": [
    "df.shape"
   ]
  },
  {
   "cell_type": "code",
   "execution_count": 48,
   "metadata": {
    "colab": {
     "base_uri": "https://localhost:8080/"
    },
    "id": "xNZled4KJTsR",
    "outputId": "1a59b2e5-eaa0-4df0-f8a8-911b06c8770e"
   },
   "outputs": [
    {
     "name": "stdout",
     "output_type": "stream",
     "text": [
      "medical_specialty           48.062680\n",
      "admission_type_id           10.405472\n",
      "discharge_disposition_id     4.304511\n",
      "race                         2.667809\n",
      "dtype: float64\n"
     ]
    }
   ],
   "source": [
    "miss = df.isnull().sum(axis=0) / df.shape[0] * 100\n",
    "miss = miss.sort_values(ascending = False)\n",
    "print(miss[miss>0])"
   ]
  },
  {
   "cell_type": "code",
   "execution_count": 49,
   "metadata": {
    "id": "DvH2HGNvM1Ut"
   },
   "outputs": [],
   "source": [
    "\n",
    "def map_admission_source(source_id):\n",
    "  if source_id in [1, 2, 3,24]:\n",
    "    return \"Referrals\"\n",
    "  elif source_id in [4, 5, 6,10,18, 19, 22, 23,25,26]:\n",
    "    return \"Transfers\"\n",
    "  elif source_id in [7, 8]:\n",
    "    return \"Emergency\"\n",
    "  elif source_id in [11, 12, 13, 14]:\n",
    "    return \"Babies\"\n",
    "  elif source_id in [9,15,17, 20, 21]:\n",
    "    return np.nan\n",
    "\n",
    "# Apply the mapping function to the 'admission_source_id' column\n",
    "df['admission_source_id'] = df['admission_source_id'].apply(map_admission_source)"
   ]
  },
  {
   "cell_type": "code",
   "execution_count": 50,
   "metadata": {
    "id": "jaz7lQ5nQAy9"
   },
   "outputs": [],
   "source": [
    "\n",
    "# Impute 'admission_type_id', 'discharge_disposition_id', and 'race' with their respective modes\n",
    "for col in ['admission_type_id', 'discharge_disposition_id', 'race','admission_source_id']:\n",
    "    if col in df.columns:\n",
    "        df[col] = df[col].fillna(df[col].mode()[0])"
   ]
  },
  {
   "cell_type": "code",
   "execution_count": 51,
   "metadata": {
    "colab": {
     "base_uri": "https://localhost:8080/"
    },
    "id": "lBZ-hgWdTWFz",
    "outputId": "c12e5ab7-717a-4a6e-83ce-3412e955de36"
   },
   "outputs": [
    {
     "name": "stdout",
     "output_type": "stream",
     "text": [
      "medical_specialty    48.06268\n",
      "dtype: float64\n"
     ]
    }
   ],
   "source": [
    "miss = df.isnull().sum(axis=0) / df.shape[0] * 100\n",
    "miss = miss.sort_values(ascending = False)\n",
    "print(miss[miss>0])"
   ]
  },
  {
   "cell_type": "code",
   "execution_count": 52,
   "metadata": {
    "colab": {
     "base_uri": "https://localhost:8080/"
    },
    "id": "epPPQu1IRR6J",
    "outputId": "07b45af4-b67e-47ec-f0a2-b9f8996efef8"
   },
   "outputs": [
    {
     "name": "stdout",
     "output_type": "stream",
     "text": [
      "readmitted\n",
      "NO     0.732679\n",
      ">30    0.219852\n",
      "<30    0.047469\n",
      "Name: proportion, dtype: float64\n",
      "readmitted\n",
      "NO     0.770629\n",
      ">30    0.183989\n",
      "<30    0.045382\n",
      "Name: proportion, dtype: float64\n"
     ]
    }
   ],
   "source": [
    "# Compare distributions of another variable (e.g., admission source) for missing vs. non-missing\n",
    "missing_group = df[df['medical_specialty'].isna()]\n",
    "non_missing_group = df[df['medical_specialty'].notna()]\n",
    "\n",
    "print(missing_group['readmitted'].value_counts(normalize=True))\n",
    "print(non_missing_group['readmitted'].value_counts(normalize=True))\n"
   ]
  },
  {
   "cell_type": "markdown",
   "metadata": {
    "id": "RYnTggCbR0AJ"
   },
   "source": [
    "# **MCAR** As proportions are more or less similar"
   ]
  },
  {
   "cell_type": "code",
   "execution_count": 53,
   "metadata": {
    "colab": {
     "base_uri": "https://localhost:8080/",
     "height": 210
    },
    "id": "lEsQUFgXafb8",
    "outputId": "14254581-eb15-4b4b-9b37-bee371875c44"
   },
   "outputs": [
    {
     "data": {
      "text/plain": [
       "readmitted\n",
       "NO     51808\n",
       ">30    13856\n",
       "<30     3194\n",
       "Name: count, dtype: int64"
      ]
     },
     "execution_count": 53,
     "metadata": {},
     "output_type": "execute_result"
    }
   ],
   "source": [
    "df['readmitted'].value_counts()"
   ]
  },
  {
   "cell_type": "code",
   "execution_count": 54,
   "metadata": {
    "id": "cKysN175UeVl"
   },
   "outputs": [],
   "source": [
    "# prompt: apply label encoder to all act_cols except medical speciality\n",
    "df['readmitted'] = df['readmitted'].replace('<30', 'Yes')\n",
    "df['readmitted'] = df['readmitted'].replace('>30', 'NO')\n",
    "\n",
    "from sklearn.preprocessing import LabelEncoder\n",
    "\n",
    "act_cols = ['race', 'gender', 'admission_type_id', 'discharge_disposition_id', 'admission_source_id', 'max_glu_serum', 'A1Cresult', 'change', 'diabetesMed', 'readmitted', 'diag_1_name','diag_2_name','diag_3_name']\n",
    "\n",
    "le = LabelEncoder()\n",
    "for col in act_cols:\n",
    "  if col != 'medical_specialty' and col in df.columns:\n",
    "    df[col] = le.fit_transform(df[col])"
   ]
  },
  {
   "cell_type": "code",
   "execution_count": 55,
   "metadata": {
    "id": "DWRiJq9vVENO"
   },
   "outputs": [],
   "source": [
    "# Original age groups\n",
    "age_groups = ['[0-10)', '[10-20)', '[20-30)', '[30-40)', '[40-50)', '[50-60)', '[60-70)',\n",
    "              '[70-80)', '[80-90)', '[90-100)']\n",
    "\n",
    "# Mapping of age groups to bins\n",
    "bin_mapping = {\n",
    "    '[0-10)': '0-40', '[10-20)': '0-40', '[20-30)': '0-40', '[30-40)': '0-40',\n",
    "    '[40-50)': '40-70', '[50-60)': '40-70', '[60-70)': '40-70',\n",
    "    '[70-80)': '70+', '[80-90)': '70+', '[90-100)': '70+'\n",
    "}\n",
    "\n",
    "# Encode the bins\n",
    "encoding = {'0-40': 0, '40-70': 1, '70+': 2}\n",
    "\n",
    "# Apply binning and encoding\n",
    "df['binned'] = df['age'].map(bin_mapping)\n",
    "df['age'] = df['binned'].map(encoding)"
   ]
  },
  {
   "cell_type": "code",
   "execution_count": 56,
   "metadata": {
    "colab": {
     "base_uri": "https://localhost:8080/",
     "height": 210
    },
    "id": "fdnk8WM4bPq_",
    "outputId": "b2415a72-88db-4d27-b998-06d13f83935c"
   },
   "outputs": [
    {
     "data": {
      "text/plain": [
       "age\n",
       "1    34218\n",
       "2    30224\n",
       "0     4416\n",
       "Name: count, dtype: int64"
      ]
     },
     "execution_count": 56,
     "metadata": {},
     "output_type": "execute_result"
    }
   ],
   "source": [
    "df['age'].value_counts()"
   ]
  },
  {
   "cell_type": "code",
   "execution_count": 57,
   "metadata": {
    "id": "TOUvIEVoiX6P"
   },
   "outputs": [],
   "source": [
    "df = df.drop('binned', axis=1)"
   ]
  },
  {
   "cell_type": "code",
   "execution_count": 58,
   "metadata": {
    "colab": {
     "base_uri": "https://localhost:8080/",
     "height": 461
    },
    "id": "9prluxs5eoCi",
    "outputId": "2286c1db-4a41-4f19-cabc-fc46bd57e44e"
   },
   "outputs": [
    {
     "data": {
      "text/html": [
       "<div>\n",
       "<style scoped>\n",
       "    .dataframe tbody tr th:only-of-type {\n",
       "        vertical-align: middle;\n",
       "    }\n",
       "\n",
       "    .dataframe tbody tr th {\n",
       "        vertical-align: top;\n",
       "    }\n",
       "\n",
       "    .dataframe thead th {\n",
       "        text-align: right;\n",
       "    }\n",
       "</style>\n",
       "<table border=\"1\" class=\"dataframe\">\n",
       "  <thead>\n",
       "    <tr style=\"text-align: right;\">\n",
       "      <th></th>\n",
       "      <th>race</th>\n",
       "      <th>gender</th>\n",
       "      <th>age</th>\n",
       "      <th>admission_type_id</th>\n",
       "      <th>discharge_disposition_id</th>\n",
       "      <th>admission_source_id</th>\n",
       "      <th>time_in_hospital</th>\n",
       "      <th>medical_specialty</th>\n",
       "      <th>num_lab_procedures</th>\n",
       "      <th>num_procedures</th>\n",
       "      <th>...</th>\n",
       "      <th>glyburide.metformin</th>\n",
       "      <th>glipizide.metformin</th>\n",
       "      <th>metformin.rosiglitazone</th>\n",
       "      <th>metformin.pioglitazone</th>\n",
       "      <th>change</th>\n",
       "      <th>diabetesMed</th>\n",
       "      <th>readmitted</th>\n",
       "      <th>diag_1_name</th>\n",
       "      <th>diag_2_name</th>\n",
       "      <th>diag_3_name</th>\n",
       "    </tr>\n",
       "  </thead>\n",
       "  <tbody>\n",
       "    <tr>\n",
       "      <th>0</th>\n",
       "      <td>2</td>\n",
       "      <td>0</td>\n",
       "      <td>0</td>\n",
       "      <td>0</td>\n",
       "      <td>0</td>\n",
       "      <td>2</td>\n",
       "      <td>1</td>\n",
       "      <td>Pediatrics-Endocrinology</td>\n",
       "      <td>41</td>\n",
       "      <td>0</td>\n",
       "      <td>...</td>\n",
       "      <td>0</td>\n",
       "      <td>0</td>\n",
       "      <td>0</td>\n",
       "      <td>0</td>\n",
       "      <td>1</td>\n",
       "      <td>0</td>\n",
       "      <td>0</td>\n",
       "      <td>2</td>\n",
       "      <td>0</td>\n",
       "      <td>0</td>\n",
       "    </tr>\n",
       "    <tr>\n",
       "      <th>1</th>\n",
       "      <td>2</td>\n",
       "      <td>0</td>\n",
       "      <td>0</td>\n",
       "      <td>0</td>\n",
       "      <td>0</td>\n",
       "      <td>1</td>\n",
       "      <td>3</td>\n",
       "      <td>NaN</td>\n",
       "      <td>59</td>\n",
       "      <td>0</td>\n",
       "      <td>...</td>\n",
       "      <td>0</td>\n",
       "      <td>0</td>\n",
       "      <td>0</td>\n",
       "      <td>0</td>\n",
       "      <td>0</td>\n",
       "      <td>1</td>\n",
       "      <td>0</td>\n",
       "      <td>0</td>\n",
       "      <td>2</td>\n",
       "      <td>0</td>\n",
       "    </tr>\n",
       "    <tr>\n",
       "      <th>2</th>\n",
       "      <td>0</td>\n",
       "      <td>0</td>\n",
       "      <td>0</td>\n",
       "      <td>0</td>\n",
       "      <td>0</td>\n",
       "      <td>1</td>\n",
       "      <td>2</td>\n",
       "      <td>NaN</td>\n",
       "      <td>11</td>\n",
       "      <td>5</td>\n",
       "      <td>...</td>\n",
       "      <td>0</td>\n",
       "      <td>0</td>\n",
       "      <td>0</td>\n",
       "      <td>0</td>\n",
       "      <td>1</td>\n",
       "      <td>1</td>\n",
       "      <td>0</td>\n",
       "      <td>0</td>\n",
       "      <td>2</td>\n",
       "      <td>0</td>\n",
       "    </tr>\n",
       "    <tr>\n",
       "      <th>3</th>\n",
       "      <td>2</td>\n",
       "      <td>1</td>\n",
       "      <td>0</td>\n",
       "      <td>0</td>\n",
       "      <td>0</td>\n",
       "      <td>1</td>\n",
       "      <td>2</td>\n",
       "      <td>NaN</td>\n",
       "      <td>44</td>\n",
       "      <td>1</td>\n",
       "      <td>...</td>\n",
       "      <td>0</td>\n",
       "      <td>0</td>\n",
       "      <td>0</td>\n",
       "      <td>0</td>\n",
       "      <td>0</td>\n",
       "      <td>1</td>\n",
       "      <td>0</td>\n",
       "      <td>0</td>\n",
       "      <td>2</td>\n",
       "      <td>1</td>\n",
       "    </tr>\n",
       "    <tr>\n",
       "      <th>4</th>\n",
       "      <td>2</td>\n",
       "      <td>1</td>\n",
       "      <td>1</td>\n",
       "      <td>0</td>\n",
       "      <td>0</td>\n",
       "      <td>1</td>\n",
       "      <td>1</td>\n",
       "      <td>NaN</td>\n",
       "      <td>51</td>\n",
       "      <td>0</td>\n",
       "      <td>...</td>\n",
       "      <td>0</td>\n",
       "      <td>0</td>\n",
       "      <td>0</td>\n",
       "      <td>0</td>\n",
       "      <td>0</td>\n",
       "      <td>1</td>\n",
       "      <td>0</td>\n",
       "      <td>7</td>\n",
       "      <td>7</td>\n",
       "      <td>2</td>\n",
       "    </tr>\n",
       "    <tr>\n",
       "      <th>...</th>\n",
       "      <td>...</td>\n",
       "      <td>...</td>\n",
       "      <td>...</td>\n",
       "      <td>...</td>\n",
       "      <td>...</td>\n",
       "      <td>...</td>\n",
       "      <td>...</td>\n",
       "      <td>...</td>\n",
       "      <td>...</td>\n",
       "      <td>...</td>\n",
       "      <td>...</td>\n",
       "      <td>...</td>\n",
       "      <td>...</td>\n",
       "      <td>...</td>\n",
       "      <td>...</td>\n",
       "      <td>...</td>\n",
       "      <td>...</td>\n",
       "      <td>...</td>\n",
       "      <td>...</td>\n",
       "      <td>...</td>\n",
       "      <td>...</td>\n",
       "    </tr>\n",
       "    <tr>\n",
       "      <th>69164</th>\n",
       "      <td>0</td>\n",
       "      <td>1</td>\n",
       "      <td>2</td>\n",
       "      <td>0</td>\n",
       "      <td>2</td>\n",
       "      <td>1</td>\n",
       "      <td>3</td>\n",
       "      <td>NaN</td>\n",
       "      <td>51</td>\n",
       "      <td>0</td>\n",
       "      <td>...</td>\n",
       "      <td>0</td>\n",
       "      <td>0</td>\n",
       "      <td>0</td>\n",
       "      <td>0</td>\n",
       "      <td>0</td>\n",
       "      <td>1</td>\n",
       "      <td>0</td>\n",
       "      <td>2</td>\n",
       "      <td>0</td>\n",
       "      <td>1</td>\n",
       "    </tr>\n",
       "    <tr>\n",
       "      <th>69165</th>\n",
       "      <td>0</td>\n",
       "      <td>0</td>\n",
       "      <td>2</td>\n",
       "      <td>0</td>\n",
       "      <td>3</td>\n",
       "      <td>3</td>\n",
       "      <td>5</td>\n",
       "      <td>NaN</td>\n",
       "      <td>33</td>\n",
       "      <td>3</td>\n",
       "      <td>...</td>\n",
       "      <td>0</td>\n",
       "      <td>0</td>\n",
       "      <td>0</td>\n",
       "      <td>0</td>\n",
       "      <td>1</td>\n",
       "      <td>1</td>\n",
       "      <td>0</td>\n",
       "      <td>3</td>\n",
       "      <td>0</td>\n",
       "      <td>3</td>\n",
       "    </tr>\n",
       "    <tr>\n",
       "      <th>69166</th>\n",
       "      <td>2</td>\n",
       "      <td>1</td>\n",
       "      <td>2</td>\n",
       "      <td>0</td>\n",
       "      <td>0</td>\n",
       "      <td>1</td>\n",
       "      <td>1</td>\n",
       "      <td>NaN</td>\n",
       "      <td>53</td>\n",
       "      <td>0</td>\n",
       "      <td>...</td>\n",
       "      <td>0</td>\n",
       "      <td>0</td>\n",
       "      <td>0</td>\n",
       "      <td>0</td>\n",
       "      <td>0</td>\n",
       "      <td>1</td>\n",
       "      <td>0</td>\n",
       "      <td>0</td>\n",
       "      <td>4</td>\n",
       "      <td>0</td>\n",
       "    </tr>\n",
       "    <tr>\n",
       "      <th>69167</th>\n",
       "      <td>2</td>\n",
       "      <td>0</td>\n",
       "      <td>2</td>\n",
       "      <td>1</td>\n",
       "      <td>2</td>\n",
       "      <td>1</td>\n",
       "      <td>10</td>\n",
       "      <td>Surgery-General</td>\n",
       "      <td>45</td>\n",
       "      <td>2</td>\n",
       "      <td>...</td>\n",
       "      <td>0</td>\n",
       "      <td>0</td>\n",
       "      <td>0</td>\n",
       "      <td>0</td>\n",
       "      <td>0</td>\n",
       "      <td>1</td>\n",
       "      <td>0</td>\n",
       "      <td>5</td>\n",
       "      <td>0</td>\n",
       "      <td>5</td>\n",
       "    </tr>\n",
       "    <tr>\n",
       "      <th>69168</th>\n",
       "      <td>2</td>\n",
       "      <td>1</td>\n",
       "      <td>2</td>\n",
       "      <td>0</td>\n",
       "      <td>0</td>\n",
       "      <td>1</td>\n",
       "      <td>6</td>\n",
       "      <td>NaN</td>\n",
       "      <td>13</td>\n",
       "      <td>3</td>\n",
       "      <td>...</td>\n",
       "      <td>0</td>\n",
       "      <td>0</td>\n",
       "      <td>0</td>\n",
       "      <td>0</td>\n",
       "      <td>1</td>\n",
       "      <td>0</td>\n",
       "      <td>0</td>\n",
       "      <td>3</td>\n",
       "      <td>3</td>\n",
       "      <td>3</td>\n",
       "    </tr>\n",
       "  </tbody>\n",
       "</table>\n",
       "<p>68858 rows × 34 columns</p>\n",
       "</div>"
      ],
      "text/plain": [
       "       race  gender  age  admission_type_id  discharge_disposition_id  \\\n",
       "0         2       0    0                  0                         0   \n",
       "1         2       0    0                  0                         0   \n",
       "2         0       0    0                  0                         0   \n",
       "3         2       1    0                  0                         0   \n",
       "4         2       1    1                  0                         0   \n",
       "...     ...     ...  ...                ...                       ...   \n",
       "69164     0       1    2                  0                         2   \n",
       "69165     0       0    2                  0                         3   \n",
       "69166     2       1    2                  0                         0   \n",
       "69167     2       0    2                  1                         2   \n",
       "69168     2       1    2                  0                         0   \n",
       "\n",
       "       admission_source_id  time_in_hospital         medical_specialty  \\\n",
       "0                        2                 1  Pediatrics-Endocrinology   \n",
       "1                        1                 3                       NaN   \n",
       "2                        1                 2                       NaN   \n",
       "3                        1                 2                       NaN   \n",
       "4                        1                 1                       NaN   \n",
       "...                    ...               ...                       ...   \n",
       "69164                    1                 3                       NaN   \n",
       "69165                    3                 5                       NaN   \n",
       "69166                    1                 1                       NaN   \n",
       "69167                    1                10           Surgery-General   \n",
       "69168                    1                 6                       NaN   \n",
       "\n",
       "       num_lab_procedures  num_procedures  ...  glyburide.metformin  \\\n",
       "0                      41               0  ...                    0   \n",
       "1                      59               0  ...                    0   \n",
       "2                      11               5  ...                    0   \n",
       "3                      44               1  ...                    0   \n",
       "4                      51               0  ...                    0   \n",
       "...                   ...             ...  ...                  ...   \n",
       "69164                  51               0  ...                    0   \n",
       "69165                  33               3  ...                    0   \n",
       "69166                  53               0  ...                    0   \n",
       "69167                  45               2  ...                    0   \n",
       "69168                  13               3  ...                    0   \n",
       "\n",
       "       glipizide.metformin  metformin.rosiglitazone  metformin.pioglitazone  \\\n",
       "0                        0                        0                       0   \n",
       "1                        0                        0                       0   \n",
       "2                        0                        0                       0   \n",
       "3                        0                        0                       0   \n",
       "4                        0                        0                       0   \n",
       "...                    ...                      ...                     ...   \n",
       "69164                    0                        0                       0   \n",
       "69165                    0                        0                       0   \n",
       "69166                    0                        0                       0   \n",
       "69167                    0                        0                       0   \n",
       "69168                    0                        0                       0   \n",
       "\n",
       "       change  diabetesMed  readmitted  diag_1_name  diag_2_name  diag_3_name  \n",
       "0           1            0           0            2            0            0  \n",
       "1           0            1           0            0            2            0  \n",
       "2           1            1           0            0            2            0  \n",
       "3           0            1           0            0            2            1  \n",
       "4           0            1           0            7            7            2  \n",
       "...       ...          ...         ...          ...          ...          ...  \n",
       "69164       0            1           0            2            0            1  \n",
       "69165       1            1           0            3            0            3  \n",
       "69166       0            1           0            0            4            0  \n",
       "69167       0            1           0            5            0            5  \n",
       "69168       1            0           0            3            3            3  \n",
       "\n",
       "[68858 rows x 34 columns]"
      ]
     },
     "execution_count": 58,
     "metadata": {},
     "output_type": "execute_result"
    }
   ],
   "source": [
    "df"
   ]
  },
  {
   "cell_type": "code",
   "execution_count": 59,
   "metadata": {
    "colab": {
     "base_uri": "https://localhost:8080/"
    },
    "id": "XmoDkMLWuQnj",
    "outputId": "f74d33be-2232-4dea-d829-f803946efffc"
   },
   "outputs": [
    {
     "data": {
      "text/plain": [
       "['time_in_hospital',\n",
       " 'num_lab_procedures',\n",
       " 'num_procedures',\n",
       " 'num_medications',\n",
       " 'number_outpatient',\n",
       " 'number_emergency',\n",
       " 'number_inpatient',\n",
       " 'number_diagnoses']"
      ]
     },
     "execution_count": 59,
     "metadata": {},
     "output_type": "execute_result"
    }
   ],
   "source": [
    "num_cols"
   ]
  },
  {
   "cell_type": "code",
   "execution_count": 60,
   "metadata": {
    "colab": {
     "base_uri": "https://localhost:8080/",
     "height": 837
    },
    "id": "q02cki3yjAJf",
    "outputId": "10684b95-c7cc-47f6-82df-0f85dd6de963"
   },
   "outputs": [
    {
     "name": "stderr",
     "output_type": "stream",
     "text": [
      "C:\\Users\\Admin\\AppData\\Local\\Temp\\ipykernel_1512\\2905151186.py:6: UserWarning: FigureCanvasAgg is non-interactive, and thus cannot be shown\n",
      "  plt.show()\n"
     ]
    }
   ],
   "source": [
    "import seaborn as sns\n",
    "numeric_df = df.select_dtypes(include=['number'])\n",
    "correlation_matrix = numeric_df.corr()\n",
    "plt.figure(figsize=(12, 8))\n",
    "sns.heatmap(correlation_matrix, annot=True, cmap='coolwarm', linewidths=0.5)\n",
    "plt.show()"
   ]
  },
  {
   "cell_type": "code",
   "execution_count": 61,
   "metadata": {
    "colab": {
     "base_uri": "https://localhost:8080/"
    },
    "id": "rllS5WJdjkub",
    "outputId": "ba3651f8-9533-49c5-e929-59f70f955313"
   },
   "outputs": [
    {
     "name": "stdout",
     "output_type": "stream",
     "text": [
      "No correlation coefficients > 0.8 (absolute value)\n"
     ]
    }
   ],
   "source": [
    "\n",
    "correlation_matrix = numeric_df.corr()\n",
    "\n",
    "# Check for correlation coefficients > 0.8 in absolute value\n",
    "correlation_threshold = 0.8\n",
    "high_correlations = []\n",
    "\n",
    "for col1 in correlation_matrix.columns:\n",
    "    for col2 in correlation_matrix.columns:\n",
    "        if col1 != col2:\n",
    "          if abs(correlation_matrix.loc[col1, col2]) > correlation_threshold:\n",
    "              high_correlations.append((col1, col2, correlation_matrix.loc[col1, col2]))\n",
    "\n",
    "if high_correlations:\n",
    "    print(\"Correlation coefficients > 0.8 (absolute value):\")\n",
    "    for col1, col2, correlation in high_correlations:\n",
    "        print(f\"  {col1} and {col2}: {correlation:.4f}\")\n",
    "else:\n",
    "  print(\"No correlation coefficients > 0.8 (absolute value)\")"
   ]
  },
  {
   "cell_type": "code",
   "execution_count": 62,
   "metadata": {
    "colab": {
     "base_uri": "https://localhost:8080/",
     "height": 314
    },
    "id": "iZXxSn6FT4b0",
    "outputId": "229f09e5-3f08-4760-f613-1dbd525086fa"
   },
   "outputs": [
    {
     "name": "stderr",
     "output_type": "stream",
     "text": [
      "C:\\Users\\Admin\\AppData\\Local\\Temp\\ipykernel_1512\\3776662658.py:18: UserWarning: FigureCanvasAgg is non-interactive, and thus cannot be shown\n",
      "  plt.show()\n"
     ]
    }
   ],
   "source": [
    "fig = plt.figure(figsize=(18, 6))\n",
    "\n",
    "ax1 = fig.add_subplot(2, 2, 1)\n",
    "ax2 = fig.add_subplot(2, 2, 2)\n",
    "ax3 = fig.add_subplot(2, 2, 3)\n",
    "ax4 = fig.add_subplot(2, 2, 4)\n",
    "\n",
    "sns.countplot(data=df, x='race', hue='readmitted', ax=ax1)\n",
    "sns.countplot(data=df, x='age', hue='readmitted', ax=ax2)\n",
    "sns.countplot(data=df, x='gender', hue='readmitted', ax=ax3)\n",
    "sns.countplot(data=df, x='diabetesMed', hue='readmitted', ax=ax4)\n",
    "\n",
    "ax1.legend(loc='upper right')\n",
    "ax2.legend(loc='upper right')\n",
    "ax3.legend(loc='upper right')\n",
    "ax4.legend(loc='upper right')\n",
    "plt.tight_layout()\n",
    "plt.show()\n",
    "# readmitted: 0 = No, 1 = >30, 2 = <30"
   ]
  },
  {
   "cell_type": "markdown",
   "metadata": {
    "id": "qjAYwSjfUARR"
   },
   "source": [
    "* readmittion has simmilar distripution across different races.\n",
    "* Very few cases of readmition for youbnger patients (< 40).\n",
    "* Females have slightly higher rate of no readmittion than males.\n",
    "* readmittion has simmilar distripution for patients with and without prescribed diabetes medications prior to hospital encounter."
   ]
  },
  {
   "cell_type": "markdown",
   "metadata": {
    "id": "-fgs-7vpsUNx"
   },
   "source": [
    "\n",
    "\n",
    "---\n",
    "\n"
   ]
  },
  {
   "cell_type": "markdown",
   "metadata": {
    "id": "ITASYpFwr9g0"
   },
   "source": [
    "# **Q2**"
   ]
  },
  {
   "cell_type": "code",
   "execution_count": 63,
   "metadata": {
    "id": "ZuQQIY4ldQnM"
   },
   "outputs": [],
   "source": [
    "import pandas as pd\n",
    "\n",
    "# Identify the target and predictors\n",
    "target = 'medical_specialty'\n",
    "predictors = df.drop(columns=[target])\n",
    "\n",
    "data_non_missing = df.dropna(subset=[target])\n",
    "X = data_non_missing.drop(columns=[target])\n",
    "y = data_non_missing[target]\n",
    "\n",
    "from sklearn.feature_selection import chi2\n",
    "from sklearn.preprocessing import LabelEncoder\n",
    "\n",
    "# Encode categorical variables\n",
    "X_encoded = X.apply(LabelEncoder().fit_transform)\n",
    "y_encoded = LabelEncoder().fit_transform(y)\n",
    "\n",
    "# Apply chi-square test\n",
    "chi_scores = chi2(X_encoded, y_encoded)\n",
    "selected_features = X.columns[chi_scores[1] < 0.05]  # Select features with p-value < 0.05\n",
    "X_selected = X[selected_features]\n"
   ]
  },
  {
   "cell_type": "code",
   "execution_count": 64,
   "metadata": {
    "colab": {
     "base_uri": "https://localhost:8080/"
    },
    "id": "jrmqnj1Ye-oI",
    "outputId": "ce5ace8c-34d6-4189-e35a-fe710b96e0f2"
   },
   "outputs": [
    {
     "data": {
      "text/plain": [
       "Index(['race', 'gender', 'age', 'admission_type_id',\n",
       "       'discharge_disposition_id', 'admission_source_id', 'time_in_hospital',\n",
       "       'num_lab_procedures', 'num_procedures', 'num_medications',\n",
       "       'number_outpatient', 'number_emergency', 'number_inpatient',\n",
       "       'number_diagnoses', 'A1Cresult', 'change', 'readmitted', 'diag_1_name',\n",
       "       'diag_2_name', 'diag_3_name'],\n",
       "      dtype='object')"
      ]
     },
     "execution_count": 64,
     "metadata": {},
     "output_type": "execute_result"
    }
   ],
   "source": [
    "X_selected.columns"
   ]
  },
  {
   "cell_type": "code",
   "execution_count": 65,
   "metadata": {
    "colab": {
     "base_uri": "https://localhost:8080/"
    },
    "id": "Rar9iG_efGLn",
    "outputId": "318652e1-3171-4cc9-9e91-8801f054ede3"
   },
   "outputs": [
    {
     "data": {
      "text/plain": [
       "array([[-3.60603282,  0.56194709, -1.10220777,  1.20006873, -0.59918299],\n",
       "       [ 1.94543932, -1.54683602,  0.09233507, -0.99831962, -0.43031334],\n",
       "       [ 2.75334118,  0.54503658, -0.72185083, -1.15424046, -0.43150088],\n",
       "       ...,\n",
       "       [ 3.56133371, -0.63106607,  0.19940045, -2.23559528, -1.08873992],\n",
       "       [ 1.31069096, -1.26978109,  1.66260199, -1.01838429, -0.79852954],\n",
       "       [ 2.18797381, -0.06424244,  0.14323687, -0.70315162, -0.33461663]])"
      ]
     },
     "execution_count": 65,
     "metadata": {},
     "output_type": "execute_result"
    }
   ],
   "source": [
    "from sklearn.decomposition import PCA\n",
    "from sklearn.preprocessing import StandardScaler, OneHotEncoder\n",
    "from sklearn.compose import ColumnTransformer\n",
    "from sklearn.pipeline import Pipeline\n",
    "\n",
    "# Assuming X_selected is the dataframe with selected features\n",
    "\n",
    "# Identify numerical and categorical columns\n",
    "num_cols = X_selected.select_dtypes(include=['float64', 'int64']).columns\n",
    "cat_cols = X_selected.select_dtypes(include=['object']).columns\n",
    "\n",
    "# Preprocess data: Scale numerical features and one-hot encode categorical features\n",
    "preprocessor = ColumnTransformer(\n",
    "    transformers=[\n",
    "        ('num', StandardScaler(), num_cols),\n",
    "        ('cat', OneHotEncoder(handle_unknown='ignore'), cat_cols)\n",
    "    ])\n",
    "\n",
    "# Apply preprocessing and PCA in a pipeline\n",
    "pca_pipeline = Pipeline(steps=[\n",
    "    ('preprocessor', preprocessor),\n",
    "    ('pca', PCA(n_components=5))  # You can specify the number of components you want\n",
    "])\n",
    "\n",
    "# Apply the pipeline to the selected features\n",
    "X_pca = pca_pipeline.fit_transform(X_selected)\n",
    "\n",
    "# X_pca now contains the transformed features in the principal component space\n",
    "X_pca"
   ]
  },
  {
   "cell_type": "code",
   "execution_count": 66,
   "metadata": {
    "colab": {
     "base_uri": "https://localhost:8080/"
    },
    "id": "Pik4oZRkiC8r",
    "outputId": "340eff35-9e2e-4e4e-b734-9b6102be8218"
   },
   "outputs": [
    {
     "data": {
      "text/plain": [
       "Index(['age', 'admission_type_id', 'discharge_disposition_id',\n",
       "       'time_in_hospital', 'num_lab_procedures', 'num_procedures',\n",
       "       'num_medications', 'number_outpatient', 'number_emergency',\n",
       "       'number_inpatient', 'number_diagnoses'],\n",
       "      dtype='object')"
      ]
     },
     "execution_count": 66,
     "metadata": {},
     "output_type": "execute_result"
    }
   ],
   "source": [
    "num_cols"
   ]
  },
  {
   "cell_type": "code",
   "execution_count": 67,
   "metadata": {
    "colab": {
     "base_uri": "https://localhost:8080/"
    },
    "id": "ZoV2VzgSPkxO",
    "outputId": "5b2544da-bd0e-4bbe-d573-e913c5a5ee22"
   },
   "outputs": [],
   "source": [
    "from sklearn.decomposition import PCA\n",
    "from sklearn.ensemble import RandomForestClassifier\n",
    "from sklearn.model_selection import train_test_split\n",
    "from sklearn.preprocessing import StandardScaler, OneHotEncoder\n",
    "from sklearn.compose import ColumnTransformer\n",
    "from sklearn.pipeline import Pipeline\n",
    "\n",
    "data_with_missing = df[df[target].isnull()]\n",
    "data_without_missing = df.dropna(subset=[target])\n",
    "\n",
    "# Separate features (X) and target (y)\n",
    "X_train = data_without_missing.drop(columns=[target])\n",
    "y_train = data_without_missing[target]\n",
    "\n",
    "# Apply PCA to the training features (X_train) to reduce dimensionality\n",
    "X_train_pca = pca_pipeline.transform(X_train)\n",
    "\n",
    "# Train a classifier (e.g., Random Forest) using the transformed features\n",
    "clf = RandomForestClassifier(n_estimators=100)\n",
    "clf.fit(X_train_pca, y_train)\n",
    "\n",
    "# Now, predict the missing values using the classifier\n",
    "X_test = data_with_missing.drop(columns=[target])\n",
    "X_test_pca = pca_pipeline.transform(X_test)\n",
    "\n",
    "# Predict the categorical target values for the rows with missing target values\n",
    "predicted_target = clf.predict(X_test_pca)\n",
    "\n",
    "# Fill the missing values in the target column with the predicted values\n",
    "df.loc[df[target].isnull(), target] = predicted_target\n"
   ]
  },
  {
   "cell_type": "code",
   "execution_count": 68,
   "metadata": {
    "colab": {
     "base_uri": "https://localhost:8080/",
     "height": 490
    },
    "id": "MmnZ_37Dg1jJ",
    "outputId": "d120dff6-759e-41e7-9e2f-09c29aa9204c"
   },
   "outputs": [
    {
     "data": {
      "text/plain": [
       "medical_specialty\n",
       "InternalMedicine                   29077\n",
       "Family/GeneralPractice              8129\n",
       "Emergency/Trauma                    8067\n",
       "Cardiology                          7608\n",
       "Surgery-General                     3181\n",
       "                                   ...  \n",
       "Pediatrics-AllergyandImmunology        1\n",
       "Perinatology                           1\n",
       "Neurophysiology                        1\n",
       "Pediatrics-InfectiousDiseases          1\n",
       "Resident                               1\n",
       "Name: count, Length: 69, dtype: int64"
      ]
     },
     "execution_count": 68,
     "metadata": {},
     "output_type": "execute_result"
    }
   ],
   "source": [
    "df['medical_specialty'].value_counts()"
   ]
  },
  {
   "cell_type": "code",
   "execution_count": 69,
   "metadata": {
    "colab": {
     "base_uri": "https://localhost:8080/"
    },
    "id": "4XU9PPTZzxKz",
    "outputId": "1fda68ca-a4f0-47c9-bfa5-4c2d3b3cf725"
   },
   "outputs": [
    {
     "name": "stdout",
     "output_type": "stream",
     "text": [
      "medical_specialty\n",
      "InternalMedicine          29077\n",
      "Other                     15977\n",
      "Family/GeneralPractice     8129\n",
      "Emergency/Trauma           8067\n",
      "Cardiology                 7608\n",
      "Name: count, dtype: int64\n"
     ]
    }
   ],
   "source": [
    "# Calculate the percentage of each medical specialty\n",
    "specialty_counts = df['medical_specialty'].value_counts(normalize=True) * 100\n",
    "\n",
    "# Identify specialties with less than 5% representation\n",
    "specialties_to_combine = specialty_counts[specialty_counts < 5].index\n",
    "\n",
    "# Replace those specialties with \"Other\"\n",
    "df.loc[df['medical_specialty'].isin(specialties_to_combine), 'medical_specialty'] = 'Other'\n",
    "\n",
    "# Verify the changes (optional)\n",
    "print(df['medical_specialty'].value_counts())\n",
    "\n",
    "# ... (Rest of your code)"
   ]
  },
  {
   "cell_type": "code",
   "execution_count": 70,
   "metadata": {
    "id": "b-lAZ1_Mnwl3"
   },
   "outputs": [],
   "source": [
    "le = LabelEncoder()\n",
    "df['medical_specialty'] = le.fit_transform(df['medical_specialty'])\n"
   ]
  },
  {
   "cell_type": "markdown",
   "metadata": {
    "id": "jyDv9h4SsRL8"
   },
   "source": [
    "\n",
    "\n",
    "---\n",
    "\n"
   ]
  },
  {
   "cell_type": "markdown",
   "metadata": {
    "id": "U_rqtHB9nxq_"
   },
   "source": [
    "# **Q3**"
   ]
  },
  {
   "cell_type": "markdown",
   "metadata": {
    "id": "m-Dt-zoei280"
   },
   "source": [
    "**Handling missing values**"
   ]
  },
  {
   "cell_type": "markdown",
   "metadata": {
    "id": "vn_W9bsUi2IA"
   },
   "source": [
    "Plots being too long are commented for easier review of file"
   ]
  },
  {
   "cell_type": "code",
   "execution_count": 71,
   "metadata": {
    "id": "Oldk2bnEzeGm"
   },
   "outputs": [],
   "source": [
    "# num_cols_1 =  [col for col in df.columns if df[col].dtype != 'object']\n",
    "# for col in num_cols_1:\n",
    "#     plt.figure(figsize=(8, 4))\n",
    "#     sns.boxplot(df[col])\n",
    "#     plt.title(f'Box Plot of {col}')\n",
    "#     plt.show()"
   ]
  },
  {
   "cell_type": "code",
   "execution_count": 72,
   "metadata": {
    "colab": {
     "base_uri": "https://localhost:8080/"
    },
    "id": "vx9LVf2R1WuN",
    "outputId": "0dd2e478-f69c-497e-cc08-5c2696b99f60"
   },
   "outputs": [
    {
     "name": "stdout",
     "output_type": "stream",
     "text": [
      "Column: time_in_hospital\n",
      "Percentage of outliers: 2.08%\n",
      "--------------------\n",
      "Column: num_lab_procedures\n",
      "Percentage of outliers: 0.15%\n",
      "--------------------\n",
      "Column: num_procedures\n",
      "Percentage of outliers: 5.22%\n",
      "--------------------\n",
      "Column: num_medications\n",
      "Percentage of outliers: 2.63%\n",
      "--------------------\n",
      "Column: number_outpatient\n",
      "Percentage of outliers: 14.59%\n",
      "--------------------\n",
      "Column: number_emergency\n",
      "Percentage of outliers: 8.92%\n",
      "--------------------\n",
      "Column: number_inpatient\n",
      "Percentage of outliers: 4.25%\n",
      "--------------------\n",
      "Column: number_diagnoses\n",
      "Percentage of outliers: 0.33%\n",
      "--------------------\n"
     ]
    }
   ],
   "source": [
    "\n",
    "# Calculate the percentage of outliers for specified columns\n",
    "for col in ['time_in_hospital', 'num_lab_procedures', 'num_procedures', 'num_medications', 'number_outpatient', 'number_emergency', 'number_inpatient', 'number_diagnoses']:\n",
    "    if col in df.columns:\n",
    "        Q1 = df[col].quantile(0.25)\n",
    "        Q3 = df[col].quantile(0.75)\n",
    "        IQR = Q3 - Q1\n",
    "        lower_bound = Q1 - 1.5 * IQR\n",
    "        upper_bound = Q3 + 1.5 * IQR\n",
    "\n",
    "        outliers = df[(df[col] < lower_bound) | (df[col] > upper_bound)]\n",
    "        outlier_percentage = (len(outliers) / len(df)) * 100\n",
    "\n",
    "        print(f\"Column: {col}\")\n",
    "        print(f\"Percentage of outliers: {outlier_percentage:.2f}%\")\n",
    "        print(\"-\" * 20)"
   ]
  },
  {
   "cell_type": "code",
   "execution_count": 73,
   "metadata": {
    "id": "P2alxhP4U0Mq"
   },
   "outputs": [],
   "source": [
    "# Assuming df is your DataFrame\n",
    "df = df.drop(['diag_2_name', 'diag_3_name'], axis=1)"
   ]
  },
  {
   "cell_type": "code",
   "execution_count": 74,
   "metadata": {
    "id": "iVIBCcy2U0by"
   },
   "outputs": [],
   "source": [
    "y = df['readmitted']\n",
    "X = df.drop(['readmitted'], axis=1)"
   ]
  },
  {
   "cell_type": "code",
   "execution_count": 75,
   "metadata": {
    "id": "a2uGgYkqU0ZC"
   },
   "outputs": [],
   "source": [
    "X_train, X_valtest, y_train, y_valtest = train_test_split(X, y, test_size=0.3, random_state=101)\n",
    "X_val, X_test, y_val, y_test = train_test_split(X_valtest, y_valtest, test_size=0.5, random_state=101)"
   ]
  },
  {
   "cell_type": "code",
   "execution_count": 76,
   "metadata": {
    "id": "HsOd99q-U0WR"
   },
   "outputs": [],
   "source": [
    "sc_X = StandardScaler()\n",
    "\n",
    "Xsc_train = sc_X.fit_transform(X_train)\n",
    "Xsc_val = sc_X.fit_transform(X_val)\n",
    "Xsc_test = sc_X.fit_transform(X_test)"
   ]
  },
  {
   "cell_type": "code",
   "execution_count": 77,
   "metadata": {
    "colab": {
     "base_uri": "https://localhost:8080/"
    },
    "id": "TsR7WPfRwClg",
    "outputId": "dc33e79e-9650-4e40-b438-7f15390a2540"
   },
   "outputs": [
    {
     "data": {
      "text/plain": [
       "(68858, 32)"
      ]
     },
     "execution_count": 77,
     "metadata": {},
     "output_type": "execute_result"
    }
   ],
   "source": [
    "df.shape"
   ]
  },
  {
   "cell_type": "code",
   "execution_count": 78,
   "metadata": {
    "colab": {
     "base_uri": "https://localhost:8080/"
    },
    "id": "_aYLyJgdwFYY",
    "outputId": "68432084-40fe-472a-da91-0da7854dc46f"
   },
   "outputs": [
    {
     "data": {
      "text/plain": [
       "Index(['race', 'gender', 'age', 'admission_type_id',\n",
       "       'discharge_disposition_id', 'admission_source_id', 'time_in_hospital',\n",
       "       'medical_specialty', 'num_lab_procedures', 'num_procedures',\n",
       "       'num_medications', 'number_outpatient', 'number_emergency',\n",
       "       'number_inpatient', 'number_diagnoses', 'max_glu_serum', 'A1Cresult',\n",
       "       'metformin', 'glimepiride', 'glipizide', 'glyburide', 'pioglitazone',\n",
       "       'rosiglitazone', 'insulin', 'glyburide.metformin',\n",
       "       'glipizide.metformin', 'metformin.rosiglitazone',\n",
       "       'metformin.pioglitazone', 'change', 'diabetesMed', 'readmitted',\n",
       "       'diag_1_name'],\n",
       "      dtype='object')"
      ]
     },
     "execution_count": 78,
     "metadata": {},
     "output_type": "execute_result"
    }
   ],
   "source": [
    "df.columns"
   ]
  },
  {
   "cell_type": "code",
   "execution_count": 79,
   "metadata": {
    "colab": {
     "base_uri": "https://localhost:8080/",
     "height": 839
    },
    "id": "dJfm4IUniLax",
    "outputId": "72066f3e-cda5-4a86-9514-f40126882088"
   },
   "outputs": [
    {
     "name": "stdout",
     "output_type": "stream",
     "text": [
      "\n",
      "Gradient Boost [1] Performance:\n",
      "-----------------------------------\n",
      "F1 Score micro        :  0.9547632878303804\n",
      "F1 Score macro        :  0.4900282477060812\n",
      "Confusion Matrix:\n",
      " [[13148     0]\n",
      " [  623     1]]\n"
     ]
    },
    {
     "name": "stderr",
     "output_type": "stream",
     "text": [
      "C:\\Users\\Admin\\AppData\\Local\\Temp\\ipykernel_1512\\222604877.py:40: UserWarning: FigureCanvasAgg is non-interactive, and thus cannot be shown\n",
      "  plt.show()\n"
     ]
    }
   ],
   "source": [
    "# Import necessary libraries\n",
    "import numpy as np\n",
    "import pandas as pd\n",
    "from sklearn.ensemble import GradientBoostingClassifier\n",
    "from sklearn.model_selection import train_test_split\n",
    "from sklearn.metrics import confusion_matrix, f1_score\n",
    "import matplotlib.pyplot as plt\n",
    "\n",
    "# Separate features (X) and target (y) from the DataFrame\n",
    "y = df['readmitted']   # Target variable\n",
    "X = df.drop(columns=['readmitted'])  # Features by dropping the target column\n",
    "\n",
    "# Define predictors dynamically from X\n",
    "predictors = X.columns\n",
    "\n",
    "# Split the dataset into training and validation sets\n",
    "X_train, X_val, y_train, y_val = train_test_split(X, y, test_size=0.2, random_state=101)\n",
    "\n",
    "# Initialize and train the Gradient Boosting Classifier\n",
    "gbm1 = GradientBoostingClassifier(max_depth=12, max_features=10, min_samples_leaf=70,\n",
    "                                   min_samples_split=800, n_estimators=70,\n",
    "                                   random_state=101, subsample=0.8)\n",
    "gbm1.fit(X_train, y_train)\n",
    "\n",
    "# Make predictions\n",
    "gbm1_pred = gbm1.predict(X_val)\n",
    "\n",
    "# Evaluate the model\n",
    "print('\\nGradient Boost [1] Performance:')\n",
    "print('-----------------------------------')\n",
    "print('F1 Score micro        : ', f1_score(y_val, gbm1_pred, average='micro'))\n",
    "print('F1 Score macro        : ', f1_score(y_val, gbm1_pred, average='macro'))\n",
    "print('Confusion Matrix:\\n', confusion_matrix(y_val, gbm1_pred))\n",
    "\n",
    "# Feature importance plot\n",
    "feat_imp = pd.Series(gbm1.feature_importances_, index=predictors).sort_values(ascending=False)\n",
    "fig = plt.figure(figsize=(12, 6))\n",
    "feat_imp.plot(kind='bar', title='Feature Importances')\n",
    "plt.ylabel('Feature Importance Score')\n",
    "plt.show()\n"
   ]
  },
  {
   "cell_type": "markdown",
   "metadata": {
    "id": "esAJBPS5lJjr"
   },
   "source": [
    "Macro and micro values are not balanced\n",
    "hence change the hyperparamters for feature selection"
   ]
  },
  {
   "cell_type": "code",
   "execution_count": 80,
   "metadata": {
    "colab": {
     "base_uri": "https://localhost:8080/",
     "height": 839
    },
    "id": "D6UHV-S_mNOw",
    "outputId": "2d10482f-8251-49e6-b4d2-52b1f2b872a5"
   },
   "outputs": [
    {
     "name": "stdout",
     "output_type": "stream",
     "text": [
      "\n",
      "Gradient Boost [1] Performance:\n",
      "-----------------------------------\n",
      "F1 Score micro        :  0.9522218995062446\n",
      "F1 Score macro        :  0.5025033010986241\n",
      "Confusion Matrix:\n",
      " [[13104    44]\n",
      " [  614    10]]\n"
     ]
    },
    {
     "name": "stderr",
     "output_type": "stream",
     "text": [
      "C:\\Users\\Admin\\AppData\\Local\\Temp\\ipykernel_1512\\3039859846.py:38: UserWarning: FigureCanvasAgg is non-interactive, and thus cannot be shown\n",
      "  plt.show()\n"
     ]
    }
   ],
   "source": [
    "# Import necessary libraries\n",
    "import numpy as np\n",
    "import pandas as pd\n",
    "from sklearn.ensemble import GradientBoostingClassifier\n",
    "from sklearn.model_selection import train_test_split\n",
    "from sklearn.metrics import confusion_matrix, f1_score\n",
    "import matplotlib.pyplot as plt\n",
    "\n",
    "# Separate features (X) and target (y) from the DataFrame\n",
    "y = df['readmitted']   # Target variable\n",
    "X = df.drop(columns=['readmitted'])  # Features by dropping the target column\n",
    "\n",
    "# Define predictors dynamically from X\n",
    "predictors = X.columns\n",
    "\n",
    "# Split the dataset into training and validation sets\n",
    "X_train, X_val, y_train, y_val = train_test_split(X, y, test_size=0.2, random_state=101)\n",
    "\n",
    "# Initialize and train the Gradient Boosting Classifier\n",
    "gbm2 = GradientBoostingClassifier(max_depth=12, max_features=18, min_samples_leaf=70,\n",
    "                           min_samples_split=800, n_estimators=700,\n",
    "                           random_state=101, subsample=0.85, learning_rate=0.1)\n",
    "gbm2.fit(X_train,y_train)\n",
    "gbm2_pred = gbm2.predict(X_val)\n",
    "\n",
    "# Evaluate the model\n",
    "print('\\nGradient Boost [1] Performance:')\n",
    "print('-----------------------------------')\n",
    "print('F1 Score micro        : ', f1_score(y_val, gbm2_pred, average='micro'))\n",
    "print('F1 Score macro        : ', f1_score(y_val, gbm2_pred, average='macro'))\n",
    "print('Confusion Matrix:\\n', confusion_matrix(y_val, gbm2_pred))\n",
    "\n",
    "# Feature importance plot\n",
    "feat_imp = pd.Series(gbm1.feature_importances_, index=predictors).sort_values(ascending=False)\n",
    "fig = plt.figure(figsize=(12, 6))\n",
    "feat_imp.plot(kind='bar', title='Feature Importances')\n",
    "plt.ylabel('Feature Importance Score')\n",
    "plt.show()"
   ]
  },
  {
   "cell_type": "code",
   "execution_count": 81,
   "metadata": {
    "id": "pECpUBUXmtoF"
   },
   "outputs": [],
   "source": [
    "import pandas as pd\n",
    "\n",
    "# Identify the target and predictors\n",
    "target = 'readmitted'\n",
    "predictors = df.drop(columns=[target])\n",
    "\n",
    "data_non_missing = df.dropna(subset=[target])\n",
    "X = data_non_missing.drop(columns=[target])\n",
    "y = data_non_missing[target]\n",
    "\n",
    "from sklearn.feature_selection import chi2\n",
    "from sklearn.preprocessing import LabelEncoder\n",
    "\n",
    "# Encode categorical variables\n",
    "X_encoded = X.apply(LabelEncoder().fit_transform)\n",
    "y_encoded = LabelEncoder().fit_transform(y)\n",
    "\n",
    "# Apply chi-square test\n",
    "chi_scores = chi2(X_encoded, y_encoded)\n",
    "selected_features = X.columns[chi_scores[1] < 0.05]  # Select features with p-value < 0.05\n",
    "X_selected = X[selected_features]"
   ]
  },
  {
   "cell_type": "code",
   "execution_count": 82,
   "metadata": {
    "colab": {
     "base_uri": "https://localhost:8080/",
     "height": 444
    },
    "id": "w5weeVqsnOs4",
    "outputId": "52915ccc-ec1d-451f-9407-51efac8ea3a5"
   },
   "outputs": [
    {
     "data": {
      "text/html": [
       "<div>\n",
       "<style scoped>\n",
       "    .dataframe tbody tr th:only-of-type {\n",
       "        vertical-align: middle;\n",
       "    }\n",
       "\n",
       "    .dataframe tbody tr th {\n",
       "        vertical-align: top;\n",
       "    }\n",
       "\n",
       "    .dataframe thead th {\n",
       "        text-align: right;\n",
       "    }\n",
       "</style>\n",
       "<table border=\"1\" class=\"dataframe\">\n",
       "  <thead>\n",
       "    <tr style=\"text-align: right;\">\n",
       "      <th></th>\n",
       "      <th>race</th>\n",
       "      <th>age</th>\n",
       "      <th>admission_type_id</th>\n",
       "      <th>discharge_disposition_id</th>\n",
       "      <th>admission_source_id</th>\n",
       "      <th>time_in_hospital</th>\n",
       "      <th>medical_specialty</th>\n",
       "      <th>num_lab_procedures</th>\n",
       "      <th>num_medications</th>\n",
       "      <th>number_outpatient</th>\n",
       "      <th>number_emergency</th>\n",
       "      <th>number_inpatient</th>\n",
       "      <th>number_diagnoses</th>\n",
       "      <th>diabetesMed</th>\n",
       "      <th>diag_1_name</th>\n",
       "    </tr>\n",
       "  </thead>\n",
       "  <tbody>\n",
       "    <tr>\n",
       "      <th>0</th>\n",
       "      <td>2</td>\n",
       "      <td>0</td>\n",
       "      <td>0</td>\n",
       "      <td>0</td>\n",
       "      <td>2</td>\n",
       "      <td>1</td>\n",
       "      <td>4</td>\n",
       "      <td>41</td>\n",
       "      <td>1</td>\n",
       "      <td>0</td>\n",
       "      <td>0</td>\n",
       "      <td>0</td>\n",
       "      <td>1</td>\n",
       "      <td>0</td>\n",
       "      <td>2</td>\n",
       "    </tr>\n",
       "    <tr>\n",
       "      <th>1</th>\n",
       "      <td>2</td>\n",
       "      <td>0</td>\n",
       "      <td>0</td>\n",
       "      <td>0</td>\n",
       "      <td>1</td>\n",
       "      <td>3</td>\n",
       "      <td>3</td>\n",
       "      <td>59</td>\n",
       "      <td>18</td>\n",
       "      <td>0</td>\n",
       "      <td>0</td>\n",
       "      <td>0</td>\n",
       "      <td>9</td>\n",
       "      <td>1</td>\n",
       "      <td>0</td>\n",
       "    </tr>\n",
       "    <tr>\n",
       "      <th>2</th>\n",
       "      <td>0</td>\n",
       "      <td>0</td>\n",
       "      <td>0</td>\n",
       "      <td>0</td>\n",
       "      <td>1</td>\n",
       "      <td>2</td>\n",
       "      <td>4</td>\n",
       "      <td>11</td>\n",
       "      <td>13</td>\n",
       "      <td>2</td>\n",
       "      <td>0</td>\n",
       "      <td>1</td>\n",
       "      <td>6</td>\n",
       "      <td>1</td>\n",
       "      <td>0</td>\n",
       "    </tr>\n",
       "    <tr>\n",
       "      <th>3</th>\n",
       "      <td>2</td>\n",
       "      <td>0</td>\n",
       "      <td>0</td>\n",
       "      <td>0</td>\n",
       "      <td>1</td>\n",
       "      <td>2</td>\n",
       "      <td>3</td>\n",
       "      <td>44</td>\n",
       "      <td>16</td>\n",
       "      <td>0</td>\n",
       "      <td>0</td>\n",
       "      <td>0</td>\n",
       "      <td>7</td>\n",
       "      <td>1</td>\n",
       "      <td>0</td>\n",
       "    </tr>\n",
       "    <tr>\n",
       "      <th>4</th>\n",
       "      <td>2</td>\n",
       "      <td>1</td>\n",
       "      <td>0</td>\n",
       "      <td>0</td>\n",
       "      <td>1</td>\n",
       "      <td>1</td>\n",
       "      <td>3</td>\n",
       "      <td>51</td>\n",
       "      <td>8</td>\n",
       "      <td>0</td>\n",
       "      <td>0</td>\n",
       "      <td>0</td>\n",
       "      <td>5</td>\n",
       "      <td>1</td>\n",
       "      <td>7</td>\n",
       "    </tr>\n",
       "    <tr>\n",
       "      <th>...</th>\n",
       "      <td>...</td>\n",
       "      <td>...</td>\n",
       "      <td>...</td>\n",
       "      <td>...</td>\n",
       "      <td>...</td>\n",
       "      <td>...</td>\n",
       "      <td>...</td>\n",
       "      <td>...</td>\n",
       "      <td>...</td>\n",
       "      <td>...</td>\n",
       "      <td>...</td>\n",
       "      <td>...</td>\n",
       "      <td>...</td>\n",
       "      <td>...</td>\n",
       "      <td>...</td>\n",
       "    </tr>\n",
       "    <tr>\n",
       "      <th>69164</th>\n",
       "      <td>0</td>\n",
       "      <td>2</td>\n",
       "      <td>0</td>\n",
       "      <td>2</td>\n",
       "      <td>1</td>\n",
       "      <td>3</td>\n",
       "      <td>3</td>\n",
       "      <td>51</td>\n",
       "      <td>16</td>\n",
       "      <td>0</td>\n",
       "      <td>0</td>\n",
       "      <td>0</td>\n",
       "      <td>9</td>\n",
       "      <td>1</td>\n",
       "      <td>2</td>\n",
       "    </tr>\n",
       "    <tr>\n",
       "      <th>69165</th>\n",
       "      <td>0</td>\n",
       "      <td>2</td>\n",
       "      <td>0</td>\n",
       "      <td>3</td>\n",
       "      <td>3</td>\n",
       "      <td>5</td>\n",
       "      <td>1</td>\n",
       "      <td>33</td>\n",
       "      <td>18</td>\n",
       "      <td>0</td>\n",
       "      <td>0</td>\n",
       "      <td>1</td>\n",
       "      <td>9</td>\n",
       "      <td>1</td>\n",
       "      <td>3</td>\n",
       "    </tr>\n",
       "    <tr>\n",
       "      <th>69166</th>\n",
       "      <td>2</td>\n",
       "      <td>2</td>\n",
       "      <td>0</td>\n",
       "      <td>0</td>\n",
       "      <td>1</td>\n",
       "      <td>1</td>\n",
       "      <td>3</td>\n",
       "      <td>53</td>\n",
       "      <td>9</td>\n",
       "      <td>1</td>\n",
       "      <td>0</td>\n",
       "      <td>0</td>\n",
       "      <td>13</td>\n",
       "      <td>1</td>\n",
       "      <td>0</td>\n",
       "    </tr>\n",
       "    <tr>\n",
       "      <th>69167</th>\n",
       "      <td>2</td>\n",
       "      <td>2</td>\n",
       "      <td>1</td>\n",
       "      <td>2</td>\n",
       "      <td>1</td>\n",
       "      <td>10</td>\n",
       "      <td>4</td>\n",
       "      <td>45</td>\n",
       "      <td>21</td>\n",
       "      <td>0</td>\n",
       "      <td>0</td>\n",
       "      <td>1</td>\n",
       "      <td>9</td>\n",
       "      <td>1</td>\n",
       "      <td>5</td>\n",
       "    </tr>\n",
       "    <tr>\n",
       "      <th>69168</th>\n",
       "      <td>2</td>\n",
       "      <td>2</td>\n",
       "      <td>0</td>\n",
       "      <td>0</td>\n",
       "      <td>1</td>\n",
       "      <td>6</td>\n",
       "      <td>2</td>\n",
       "      <td>13</td>\n",
       "      <td>3</td>\n",
       "      <td>0</td>\n",
       "      <td>0</td>\n",
       "      <td>0</td>\n",
       "      <td>9</td>\n",
       "      <td>0</td>\n",
       "      <td>3</td>\n",
       "    </tr>\n",
       "  </tbody>\n",
       "</table>\n",
       "<p>68858 rows × 15 columns</p>\n",
       "</div>"
      ],
      "text/plain": [
       "       race  age  admission_type_id  discharge_disposition_id  \\\n",
       "0         2    0                  0                         0   \n",
       "1         2    0                  0                         0   \n",
       "2         0    0                  0                         0   \n",
       "3         2    0                  0                         0   \n",
       "4         2    1                  0                         0   \n",
       "...     ...  ...                ...                       ...   \n",
       "69164     0    2                  0                         2   \n",
       "69165     0    2                  0                         3   \n",
       "69166     2    2                  0                         0   \n",
       "69167     2    2                  1                         2   \n",
       "69168     2    2                  0                         0   \n",
       "\n",
       "       admission_source_id  time_in_hospital  medical_specialty  \\\n",
       "0                        2                 1                  4   \n",
       "1                        1                 3                  3   \n",
       "2                        1                 2                  4   \n",
       "3                        1                 2                  3   \n",
       "4                        1                 1                  3   \n",
       "...                    ...               ...                ...   \n",
       "69164                    1                 3                  3   \n",
       "69165                    3                 5                  1   \n",
       "69166                    1                 1                  3   \n",
       "69167                    1                10                  4   \n",
       "69168                    1                 6                  2   \n",
       "\n",
       "       num_lab_procedures  num_medications  number_outpatient  \\\n",
       "0                      41                1                  0   \n",
       "1                      59               18                  0   \n",
       "2                      11               13                  2   \n",
       "3                      44               16                  0   \n",
       "4                      51                8                  0   \n",
       "...                   ...              ...                ...   \n",
       "69164                  51               16                  0   \n",
       "69165                  33               18                  0   \n",
       "69166                  53                9                  1   \n",
       "69167                  45               21                  0   \n",
       "69168                  13                3                  0   \n",
       "\n",
       "       number_emergency  number_inpatient  number_diagnoses  diabetesMed  \\\n",
       "0                     0                 0                 1            0   \n",
       "1                     0                 0                 9            1   \n",
       "2                     0                 1                 6            1   \n",
       "3                     0                 0                 7            1   \n",
       "4                     0                 0                 5            1   \n",
       "...                 ...               ...               ...          ...   \n",
       "69164                 0                 0                 9            1   \n",
       "69165                 0                 1                 9            1   \n",
       "69166                 0                 0                13            1   \n",
       "69167                 0                 1                 9            1   \n",
       "69168                 0                 0                 9            0   \n",
       "\n",
       "       diag_1_name  \n",
       "0                2  \n",
       "1                0  \n",
       "2                0  \n",
       "3                0  \n",
       "4                7  \n",
       "...            ...  \n",
       "69164            2  \n",
       "69165            3  \n",
       "69166            0  \n",
       "69167            5  \n",
       "69168            3  \n",
       "\n",
       "[68858 rows x 15 columns]"
      ]
     },
     "execution_count": 82,
     "metadata": {},
     "output_type": "execute_result"
    }
   ],
   "source": [
    "X_selected"
   ]
  },
  {
   "cell_type": "code",
   "execution_count": 83,
   "metadata": {
    "colab": {
     "base_uri": "https://localhost:8080/"
    },
    "id": "M8Nl-APWnTZv",
    "outputId": "30e380f1-6a9a-4453-f600-f52ca21e5cff"
   },
   "outputs": [
    {
     "data": {
      "text/plain": [
       "(68858, 32)"
      ]
     },
     "execution_count": 83,
     "metadata": {},
     "output_type": "execute_result"
    }
   ],
   "source": [
    "df.shape"
   ]
  },
  {
   "cell_type": "code",
   "execution_count": 84,
   "metadata": {
    "colab": {
     "base_uri": "https://localhost:8080/"
    },
    "id": "xQwE_VF_pA87",
    "outputId": "ddefe2e8-b8df-4be1-f3bb-d02bb709292b"
   },
   "outputs": [
    {
     "data": {
      "text/plain": [
       "(68858, 15)"
      ]
     },
     "execution_count": 84,
     "metadata": {},
     "output_type": "execute_result"
    }
   ],
   "source": [
    "X_selected.shape"
   ]
  },
  {
   "cell_type": "code",
   "execution_count": null,
   "metadata": {
    "id": "UBBiRC_upGs7"
   },
   "outputs": [],
   "source": []
  },
  {
   "cell_type": "code",
   "execution_count": 85,
   "metadata": {
    "colab": {
     "base_uri": "https://localhost:8080/"
    },
    "id": "PSg7ZNOO4xIO",
    "outputId": "1d8aa912-89f9-4db6-9a61-ceaacf4c7f58"
   },
   "outputs": [
    {
     "data": {
      "text/plain": [
       "Index(['race', 'age', 'admission_type_id', 'discharge_disposition_id',\n",
       "       'admission_source_id', 'time_in_hospital', 'medical_specialty',\n",
       "       'num_lab_procedures', 'num_medications', 'number_outpatient',\n",
       "       'number_emergency', 'number_inpatient', 'number_diagnoses',\n",
       "       'diabetesMed', 'diag_1_name'],\n",
       "      dtype='object')"
      ]
     },
     "execution_count": 85,
     "metadata": {},
     "output_type": "execute_result"
    }
   ],
   "source": [
    "X_selected.columns"
   ]
  },
  {
   "cell_type": "code",
   "execution_count": 86,
   "metadata": {
    "colab": {
     "base_uri": "https://localhost:8080/",
     "height": 763
    },
    "id": "XMAniHhbqsxk",
    "outputId": "88187de2-c526-4a9a-8ff5-5bef389f8bf1"
   },
   "outputs": [
    {
     "name": "stderr",
     "output_type": "stream",
     "text": [
      "C:\\Users\\Admin\\AppData\\Local\\Temp\\ipykernel_1512\\3136556914.py:32: FutureWarning: \n",
      "\n",
      "Passing `palette` without assigning `hue` is deprecated and will be removed in v0.14.0. Assign the `y` variable to `hue` and set `legend=False` for the same effect.\n",
      "\n",
      "  sns.barplot(x='Importance', y='Feature', data=filtered_importances, palette='viridis')\n"
     ]
    },
    {
     "name": "stdout",
     "output_type": "stream",
     "text": [
      "                Feature  Importance\n",
      "2     admission_type_id    0.032612\n",
      "4   admission_source_id    0.029214\n",
      "13          diabetesMed    0.023201\n"
     ]
    },
    {
     "name": "stderr",
     "output_type": "stream",
     "text": [
      "C:\\Users\\Admin\\AppData\\Local\\Temp\\ipykernel_1512\\3136556914.py:35: UserWarning: FigureCanvasAgg is non-interactive, and thus cannot be shown\n",
      "  plt.show()\n"
     ]
    }
   ],
   "source": [
    "from sklearn.ensemble import RandomForestClassifier\n",
    "import pandas as pd\n",
    "import matplotlib.pyplot as plt\n",
    "import seaborn as sns\n",
    "\n",
    "# Feature selection and encoding\n",
    "df_encoded = pd.get_dummies(X_selected)\n",
    "\n",
    "# Features (X) and target (y)\n",
    "X = df_encoded\n",
    "y = df['readmitted']\n",
    "\n",
    "# Train Random Forest\n",
    "rf = RandomForestClassifier(random_state=42, n_estimators=100)\n",
    "rf.fit(X, y)\n",
    "\n",
    "# Extract feature importances\n",
    "feature_importances = pd.DataFrame({\n",
    "    'Feature': X.columns,\n",
    "    'Importance': rf.feature_importances_\n",
    "})\n",
    "\n",
    "# Sort by importance\n",
    "feature_importances = feature_importances.sort_values(by='Importance', ascending=False)\n",
    "\n",
    "# Filter features based on the original list (ensure the encoded names are used)\n",
    "provided_features = [col for col in X.columns if any(f in col for f in ['insulin', 'dm', 'diabetesMed', 'change', 'A1Cresult', 'max_glu_serum'])]\n",
    "filtered_importances = feature_importances[feature_importances['Feature'].isin(provided_features)]\n",
    "\n",
    "# Plot the filtered feature importances\n",
    "plt.figure(figsize=(10, 6))\n",
    "sns.barplot(x='Importance', y='Feature', data=filtered_importances, palette='viridis')\n",
    "plt.title('Feature Importance from Random Forest')\n",
    "plt.tight_layout()\n",
    "plt.show()\n",
    "\n",
    "# Display top features\n",
    "print(filtered_importances)"
   ]
  },
  {
   "cell_type": "markdown",
   "metadata": {
    "id": "SnSMTe8BniBY"
   },
   "source": [
    "#**Another way the feature engg could be done is as follows**\n",
    "**since the above method does not include A1Cresult column around which readmitted is to be checked**\n"
   ]
  },
  {
   "cell_type": "code",
   "execution_count": 87,
   "metadata": {
    "id": "wrvWbVJG2LER"
   },
   "outputs": [],
   "source": [
    "df_copy = df.copy()"
   ]
  },
  {
   "cell_type": "code",
   "execution_count": 88,
   "metadata": {
    "id": "0UJ9wZE3zJm8"
   },
   "outputs": [],
   "source": [
    "# # Create the 'diabetes_medication' column by combining the specified columns\n",
    "diabetes_cols = ['metformin', 'glimepiride', 'glipizide', 'glyburide', 'pioglitazone',\n",
    "                 'rosiglitazone', 'insulin', 'glyburide.metformin',\n",
    "                 'glipizide.metformin', 'metformin.rosiglitazone',\n",
    "                 'metformin.pioglitazone']\n",
    "\n",
    "df_copy['diabetes_medication'] = df_copy[diabetes_cols].sum(axis=1)\n"
   ]
  },
  {
   "cell_type": "code",
   "execution_count": 89,
   "metadata": {
    "colab": {
     "base_uri": "https://localhost:8080/",
     "height": 815
    },
    "id": "1TUddxKOwFVC",
    "outputId": "2d7582ea-f87a-4f1f-90d4-ad12c69b24eb"
   },
   "outputs": [
    {
     "name": "stdout",
     "output_type": "stream",
     "text": [
      "metformin                  0.284026\n",
      "glimepiride                0.151424\n",
      "glipizide                  0.226427\n",
      "glyburide                  0.241595\n",
      "pioglitazone               0.114206\n",
      "rosiglitazone              0.116461\n",
      "insulin                    0.880355\n",
      "glyburide.metformin        0.026587\n",
      "glipizide.metformin             NaN\n",
      "metformin.rosiglitazone         NaN\n",
      "metformin.pioglitazone          NaN\n",
      "Name: diabetes_medication, dtype: float64\n"
     ]
    },
    {
     "name": "stderr",
     "output_type": "stream",
     "text": [
      "C:\\Users\\Admin\\AppData\\Local\\Temp\\ipykernel_1512\\450762632.py:24: UserWarning: FigureCanvasAgg is non-interactive, and thus cannot be shown\n",
      "  plt.show()\n"
     ]
    }
   ],
   "source": [
    "import pandas as pd\n",
    "import matplotlib.pyplot as plt\n",
    "import seaborn as sns\n",
    "\n",
    "# Assuming df and diabetes_cols are already defined as in your provided code\n",
    "\n",
    "# Calculate the correlation between 'diabetes_medication' and other columns\n",
    "correlations = df_copy[diabetes_cols + ['diabetes_medication']].corr()['diabetes_medication']\n",
    "\n",
    "# Remove the self-correlation (correlation of 'diabetes_medication' with itself)\n",
    "correlations = correlations.drop('diabetes_medication')\n",
    "\n",
    "# Print or visualize the correlations\n",
    "print(correlations)\n",
    "\n",
    "# Visualization using a barplot\n",
    "plt.figure(figsize=(10, 6))\n",
    "sns.barplot(x=correlations.index, y=correlations.values)\n",
    "plt.xticks(rotation=45, ha='right')  # Rotate x-axis labels for better readability\n",
    "plt.xlabel('Diabetes Medication Columns')\n",
    "plt.ylabel('Correlation with Diabetes Medication Sum')\n",
    "plt.title('Correlation of Diabetes Medications with Sum')\n",
    "plt.tight_layout()\n",
    "plt.show()"
   ]
  },
  {
   "cell_type": "code",
   "execution_count": 90,
   "metadata": {
    "colab": {
     "base_uri": "https://localhost:8080/",
     "height": 335
    },
    "id": "dYTtPxXCwFSs",
    "outputId": "a456a6f5-7c17-4e68-8d3c-a1ea64ba4c09"
   },
   "outputs": [
    {
     "data": {
      "text/plain": [
       "diabetes_medication\n",
       " 0    52113\n",
       " 1     8147\n",
       "-1     8098\n",
       " 2      328\n",
       "-2      153\n",
       " 3       16\n",
       "-3        3\n",
       "Name: count, dtype: int64"
      ]
     },
     "execution_count": 90,
     "metadata": {},
     "output_type": "execute_result"
    }
   ],
   "source": [
    "df_copy['diabetes_medication'].value_counts()"
   ]
  },
  {
   "cell_type": "code",
   "execution_count": 91,
   "metadata": {
    "id": "DjH6Q7LuwFQm"
   },
   "outputs": [],
   "source": [
    "cols_to_drop = [col for col in diabetes_cols if col != 'insulin' and col in df_copy.columns]\n",
    "df_copy = df_copy.drop(cols_to_drop, axis=1)"
   ]
  },
  {
   "cell_type": "code",
   "execution_count": 92,
   "metadata": {
    "id": "V2IVITDPwFKY"
   },
   "outputs": [],
   "source": [
    "# Mapping for diabetes medications\n",
    "mapping = {-3: -1, -2: -1, -1: -1, 1: 1, 2: 1, 3: 1, 0:0}\n",
    "\n",
    "df_copy['dm'] = df_copy['diabetes_medication'].map(mapping)"
   ]
  },
  {
   "cell_type": "code",
   "execution_count": 93,
   "metadata": {
    "colab": {
     "base_uri": "https://localhost:8080/"
    },
    "id": "k4l07jRd4UrR",
    "outputId": "1e32902d-ac04-45f5-91d3-143c3c88447b"
   },
   "outputs": [
    {
     "data": {
      "text/plain": [
       "(68858, 23)"
      ]
     },
     "execution_count": 93,
     "metadata": {},
     "output_type": "execute_result"
    }
   ],
   "source": [
    "cols_to_drop = ['diabetes_medication']\n",
    "df_copy = df_copy.drop(cols_to_drop, axis=1)\n",
    "df_copy.shape"
   ]
  },
  {
   "cell_type": "code",
   "execution_count": 94,
   "metadata": {
    "id": "wU7fkEdF4nz1"
   },
   "outputs": [],
   "source": [
    "df_copy = df_copy.drop(['gender', 'race'], axis=1)"
   ]
  },
  {
   "cell_type": "code",
   "execution_count": 95,
   "metadata": {
    "colab": {
     "base_uri": "https://localhost:8080/"
    },
    "id": "7msT_7sZ5aXl",
    "outputId": "d3c0739c-0f79-4cf0-bfa9-d5a69aa1a4b1"
   },
   "outputs": [
    {
     "name": "stdout",
     "output_type": "stream",
     "text": [
      "max_glu_serum\n",
      "3    65575\n",
      "4     1705\n",
      "1      922\n",
      "2      655\n",
      "0        1\n",
      "Name: count, dtype: int64\n",
      "insulin\n",
      " 0    54652\n",
      "-1     7385\n",
      " 1     6821\n",
      "Name: count, dtype: int64\n",
      "change\n",
      "1    37890\n",
      "0    30968\n",
      "Name: count, dtype: int64\n",
      "A1Cresult\n",
      "2    56686\n",
      "1     5783\n",
      "3     3675\n",
      "0     2714\n",
      "Name: count, dtype: int64\n",
      "diabetesMed\n",
      "1    52351\n",
      "0    16507\n",
      "Name: count, dtype: int64\n"
     ]
    }
   ],
   "source": [
    "\n",
    "\n",
    "# Assuming df is already loaded and processed as in the previous code\n",
    "print(df_copy['max_glu_serum'].value_counts())\n",
    "print(df_copy['insulin'].value_counts())\n",
    "print(df_copy['change'].value_counts())\n",
    "print(df_copy['A1Cresult'].value_counts())\n",
    "print(df_copy['diabetesMed'].value_counts())"
   ]
  },
  {
   "cell_type": "code",
   "execution_count": 96,
   "metadata": {
    "id": "qgcR3QH653rP"
   },
   "outputs": [],
   "source": [
    "\n",
    "# Define the mapping for 'insulin' and 'dm' columns\n",
    "mapping = {-1: 1, 1: 1, 0: 0}\n",
    "\n",
    "# Apply the mapping to the 'insulin' and 'dm' columns in the copied DataFrame\n",
    "df_copy['insulin'] = df_copy['insulin'].map(mapping)\n",
    "df_copy['dm'] = df_copy['dm'].map(mapping)"
   ]
  },
  {
   "cell_type": "code",
   "execution_count": 97,
   "metadata": {
    "colab": {
     "base_uri": "https://localhost:8080/",
     "height": 1000
    },
    "id": "DIiDDDz67b0Z",
    "outputId": "f71c6fbd-c494-4f97-ee51-278472da5113"
   },
   "outputs": [
    {
     "name": "stderr",
     "output_type": "stream",
     "text": [
      "C:\\Users\\Admin\\AppData\\Local\\Temp\\ipykernel_1512\\380736219.py:13: UserWarning: FigureCanvasAgg is non-interactive, and thus cannot be shown\n",
      "  plt.show()\n",
      "C:\\Users\\Admin\\AppData\\Local\\Temp\\ipykernel_1512\\380736219.py:13: UserWarning: FigureCanvasAgg is non-interactive, and thus cannot be shown\n",
      "  plt.show()\n",
      "C:\\Users\\Admin\\AppData\\Local\\Temp\\ipykernel_1512\\380736219.py:13: UserWarning: FigureCanvasAgg is non-interactive, and thus cannot be shown\n",
      "  plt.show()\n",
      "C:\\Users\\Admin\\AppData\\Local\\Temp\\ipykernel_1512\\380736219.py:13: UserWarning: FigureCanvasAgg is non-interactive, and thus cannot be shown\n",
      "  plt.show()\n",
      "C:\\Users\\Admin\\AppData\\Local\\Temp\\ipykernel_1512\\380736219.py:13: UserWarning: FigureCanvasAgg is non-interactive, and thus cannot be shown\n",
      "  plt.show()\n",
      "C:\\Users\\Admin\\AppData\\Local\\Temp\\ipykernel_1512\\380736219.py:13: UserWarning: FigureCanvasAgg is non-interactive, and thus cannot be shown\n",
      "  plt.show()\n"
     ]
    }
   ],
   "source": [
    "\n",
    "import pandas as pd\n",
    "import matplotlib.pyplot as plt\n",
    "import seaborn as sns\n",
    "\n",
    "\n",
    "def create_confusion_matrix(df, col1, col2):\n",
    "    matrix = pd.crosstab(df[col1], df[col2])\n",
    "    plt.figure(figsize=(8, 6))\n",
    "    sns.heatmap(matrix, annot=True, fmt='d', cmap='Blues')\n",
    "    plt.title(f'Confusion Matrix: {col1} vs {col2}')\n",
    "    plt.xlabel(col2)\n",
    "    plt.ylabel(col1)\n",
    "    plt.show()\n",
    "\n",
    "# Example usage for each pair\n",
    "create_confusion_matrix(df_copy, 'change', 'insulin')\n",
    "create_confusion_matrix(df_copy, 'change', 'diabetesMed')\n",
    "create_confusion_matrix(df_copy, 'change', 'dm')\n",
    "create_confusion_matrix(df_copy, 'insulin', 'diabetesMed')\n",
    "create_confusion_matrix(df_copy, 'insulin', 'dm')\n",
    "create_confusion_matrix(df_copy, 'diabetesMed', 'dm')"
   ]
  },
  {
   "cell_type": "code",
   "execution_count": null,
   "metadata": {
    "id": "PEwzpPBUAqHO"
   },
   "outputs": [],
   "source": []
  },
  {
   "cell_type": "code",
   "execution_count": 98,
   "metadata": {
    "colab": {
     "base_uri": "https://localhost:8080/"
    },
    "id": "dB2hQnMm9ufy",
    "outputId": "0c785998-2afe-48ab-8dc8-6d901095d697"
   },
   "outputs": [
    {
     "name": "stdout",
     "output_type": "stream",
     "text": [
      "readmitted                  1.000000\n",
      "number_inpatient            0.132138\n",
      "discharge_disposition_id    0.088035\n",
      "num_lab_procedures          0.052765\n",
      "number_diagnoses            0.051273\n",
      "time_in_hospital            0.046916\n",
      "age                         0.040008\n",
      "num_medications             0.038580\n",
      "number_emergency            0.034846\n",
      "number_outpatient           0.022049\n",
      "diabetesMed                 0.021461\n",
      "medical_specialty           0.014320\n",
      "dm                          0.013565\n",
      "insulin                     0.011953\n",
      "A1Cresult                  -0.000966\n",
      "max_glu_serum              -0.002570\n",
      "num_procedures             -0.004904\n",
      "change                     -0.009375\n",
      "diag_1_name                -0.010864\n",
      "admission_source_id        -0.017093\n",
      "admission_type_id          -0.019049\n",
      "Name: readmitted, dtype: float64\n"
     ]
    }
   ],
   "source": [
    "# prompt: print arranged correlation of df.columns with readmitted\n",
    "\n",
    "import pandas as pd\n",
    "import matplotlib.pyplot as plt\n",
    "import seaborn as sns\n",
    "\n",
    "# Assuming 'df' is your DataFrame and it has been processed as in the previous code.\n",
    "\n",
    "# Select numerical columns for correlation analysis\n",
    "numeric_df = df_copy.select_dtypes(include=['number'])\n",
    "\n",
    "# Calculate the correlation matrix\n",
    "correlation_matrix = numeric_df.corr()\n",
    "\n",
    "# Sort the correlations with 'readmitted' in descending order\n",
    "correlation_with_readmitted = correlation_matrix['readmitted'].sort_values(ascending=False)\n",
    "\n",
    "# Print the sorted correlation coefficients\n",
    "print(correlation_with_readmitted)\n",
    "\n",
    "\n"
   ]
  },
  {
   "cell_type": "code",
   "execution_count": 99,
   "metadata": {
    "id": "skGYL8EjAe_U"
   },
   "outputs": [],
   "source": [
    "# prompt: drop 'num_procedures', 'num_lab_procedures'\n",
    "\n",
    "# Assuming df is your DataFrame and has already been processed as in the provided code.\n",
    "df_copy = df_copy.drop(['num_procedures', 'num_lab_procedures'], axis=1)\n"
   ]
  },
  {
   "cell_type": "code",
   "execution_count": 100,
   "metadata": {
    "colab": {
     "base_uri": "https://localhost:8080/"
    },
    "id": "Lj3jXFdkBEuY",
    "outputId": "56d92283-3b37-40d3-90d4-54a53a319cec"
   },
   "outputs": [
    {
     "data": {
      "text/plain": [
       "(68858, 19)"
      ]
     },
     "execution_count": 100,
     "metadata": {},
     "output_type": "execute_result"
    }
   ],
   "source": [
    "df_copy.shape"
   ]
  },
  {
   "cell_type": "code",
   "execution_count": 101,
   "metadata": {
    "colab": {
     "base_uri": "https://localhost:8080/"
    },
    "id": "wnm54NlFBSQA",
    "outputId": "78a40f4c-4b12-4b4a-fbad-bbb7fa1c8c07"
   },
   "outputs": [
    {
     "data": {
      "text/plain": [
       "Index(['age', 'admission_type_id', 'discharge_disposition_id',\n",
       "       'admission_source_id', 'time_in_hospital', 'medical_specialty',\n",
       "       'num_medications', 'number_outpatient', 'number_emergency',\n",
       "       'number_inpatient', 'number_diagnoses', 'max_glu_serum', 'A1Cresult',\n",
       "       'insulin', 'change', 'diabetesMed', 'readmitted', 'diag_1_name', 'dm'],\n",
       "      dtype='object')"
      ]
     },
     "execution_count": 101,
     "metadata": {},
     "output_type": "execute_result"
    }
   ],
   "source": [
    "df_copy.columns"
   ]
  },
  {
   "cell_type": "code",
   "execution_count": 102,
   "metadata": {
    "id": "Y7lMGmv_CH1X"
   },
   "outputs": [],
   "source": [
    "\n",
    "\n",
    "# Sum 'num_medications' and 'number_diagnoses' to create 'medical_complexity'\n",
    "df_copy['medical_complexity'] = df_copy['num_medications'] + df_copy['number_diagnoses']\n",
    "\n",
    "# Combine 'num_inpatients', 'num_outpatient', and 'num_emergency' into 'num_visits'\n",
    "df_copy['num_visits'] = df_copy['number_inpatient'] + df_copy['number_outpatient'] + df_copy['number_emergency']\n",
    "\n",
    "# Drop the original columns used for combining\n",
    "df_copy = df_copy.drop(['num_medications', 'number_diagnoses', 'number_inpatient', 'number_outpatient', 'number_emergency'], axis=1)"
   ]
  },
  {
   "cell_type": "code",
   "execution_count": 103,
   "metadata": {
    "colab": {
     "base_uri": "https://localhost:8080/",
     "height": 815
    },
    "id": "Kp7pvlqHKbQP",
    "outputId": "7698293a-27bc-41bf-9d89-f15ff9ffb8ff"
   },
   "outputs": [
    {
     "name": "stderr",
     "output_type": "stream",
     "text": [
      "C:\\Users\\Admin\\AppData\\Local\\Temp\\ipykernel_1512\\2952440608.py:33: FutureWarning: \n",
      "\n",
      "Passing `palette` without assigning `hue` is deprecated and will be removed in v0.14.0. Assign the `y` variable to `hue` and set `legend=False` for the same effect.\n",
      "\n",
      "  sns.barplot(x='Importance', y='Feature', data=filtered_importances, palette='viridis')\n"
     ]
    },
    {
     "name": "stdout",
     "output_type": "stream",
     "text": [
      "         Feature  Importance\n",
      "4      A1Cresult    0.381046\n",
      "5  max_glu_serum    0.367228\n",
      "2    diabetesMed    0.132936\n",
      "0        insulin    0.042486\n",
      "1             dm    0.038377\n",
      "3         change    0.037927\n"
     ]
    },
    {
     "name": "stderr",
     "output_type": "stream",
     "text": [
      "C:\\Users\\Admin\\AppData\\Local\\Temp\\ipykernel_1512\\2952440608.py:36: UserWarning: FigureCanvasAgg is non-interactive, and thus cannot be shown\n",
      "  plt.show()\n"
     ]
    }
   ],
   "source": [
    "from sklearn.ensemble import RandomForestClassifier\n",
    "import pandas as pd\n",
    "import matplotlib.pyplot as plt\n",
    "import seaborn as sns\n",
    "\n",
    "# Feature selection and encoding\n",
    "df_encoded = pd.get_dummies(df_copy[['insulin', 'dm', 'diabetesMed', 'change', 'A1Cresult', 'max_glu_serum']])\n",
    "df_encoded['readmitted'] = df_copy['readmitted']\n",
    "\n",
    "# Features (X) and target (y)\n",
    "X = df_encoded.drop(columns=['readmitted'])\n",
    "y = df_encoded['readmitted']\n",
    "\n",
    "# Train Random Forest\n",
    "rf = RandomForestClassifier(random_state=42, n_estimators=100)\n",
    "rf.fit(X, y)\n",
    "\n",
    "# Extract feature importances\n",
    "feature_importances = pd.DataFrame({\n",
    "    'Feature': X.columns,\n",
    "    'Importance': rf.feature_importances_\n",
    "})\n",
    "\n",
    "# Sort by importance\n",
    "feature_importances = feature_importances.sort_values(by='Importance', ascending=False)\n",
    "\n",
    "# Filter features based on the original list (ensure the encoded names are used)\n",
    "provided_features = [col for col in X.columns if any(f in col for f in ['insulin', 'dm', 'diabetesMed', 'change', 'A1Cresult', 'max_glu_serum'])]\n",
    "filtered_importances = feature_importances[feature_importances['Feature'].isin(provided_features)]\n",
    "\n",
    "# Plot the filtered feature importances\n",
    "plt.figure(figsize=(10, 6))\n",
    "sns.barplot(x='Importance', y='Feature', data=filtered_importances, palette='viridis')\n",
    "plt.title('Feature Importance from Random Forest')\n",
    "plt.tight_layout()\n",
    "plt.show()\n",
    "\n",
    "# Display top features\n",
    "print(filtered_importances)\n"
   ]
  },
  {
   "cell_type": "code",
   "execution_count": 104,
   "metadata": {
    "id": "KePYHkakKlR9"
   },
   "outputs": [],
   "source": [
    "df_copy1 = df_copy.copy()\n",
    "\n",
    "# Define columns to drop in the copy\n",
    "cols_to_drop_copy1 = ['change', 'dm', 'insulin', 'diabetesMed']\n",
    "\n",
    "# Drop the specified columns from the copy\n",
    "df_copy1 = df_copy1.drop(cols_to_drop_copy1, axis=1, errors='ignore')"
   ]
  },
  {
   "cell_type": "code",
   "execution_count": 105,
   "metadata": {
    "colab": {
     "base_uri": "https://localhost:8080/",
     "height": 720
    },
    "id": "PDZfmnj7gtwM",
    "outputId": "a487c78e-126e-4a04-de04-c5000dd81782"
   },
   "outputs": [
    {
     "name": "stdout",
     "output_type": "stream",
     "text": [
      "              precision    recall  f1-score   support\n",
      "\n",
      "           0       0.97      0.62      0.76     13151\n",
      "           1       0.07      0.57      0.12       621\n",
      "\n",
      "    accuracy                           0.62     13772\n",
      "   macro avg       0.52      0.59      0.44     13772\n",
      "weighted avg       0.93      0.62      0.73     13772\n",
      "\n"
     ]
    },
    {
     "name": "stderr",
     "output_type": "stream",
     "text": [
      "C:\\Users\\Admin\\AppData\\Local\\Temp\\ipykernel_1512\\2569255522.py:36: UserWarning: FigureCanvasAgg is non-interactive, and thus cannot be shown\n",
      "  plt.show()\n"
     ]
    }
   ],
   "source": [
    "from imblearn.over_sampling import SMOTE\n",
    "from sklearn.linear_model import LogisticRegression\n",
    "from sklearn.model_selection import train_test_split\n",
    "from sklearn.metrics import classification_report, confusion_matrix\n",
    "import seaborn as sns\n",
    "import matplotlib.pyplot as plt\n",
    "\n",
    "# Define features (X) and target (y)\n",
    "X = df_copy1.drop('readmitted', axis=1)\n",
    "y = df_copy1['readmitted']\n",
    "\n",
    "# Split data into training and testing sets\n",
    "X_train, X_test, y_train, y_test = train_test_split(X, y, test_size=0.2, random_state=42)\n",
    "\n",
    "# Apply SMOTE to the training set\n",
    "smote = SMOTE(random_state=42)\n",
    "X_train_smote, y_train_smote = smote.fit_resample(X_train, y_train)\n",
    "\n",
    "# Initialize and train a Logistic Regression model with class weights\n",
    "logreg = LogisticRegression(max_iter=1000, class_weight='balanced')  # 'balanced' adjusts weights automatically\n",
    "logreg.fit(X_train_smote, y_train_smote)\n",
    "\n",
    "# Make predictions on the test set\n",
    "y_pred = logreg.predict(X_test)\n",
    "\n",
    "# Evaluate the model\n",
    "print(classification_report(y_test, y_pred))\n",
    "\n",
    "# Confusion Matrix\n",
    "cm = confusion_matrix(y_test, y_pred)\n",
    "plt.figure(figsize=(8, 6))\n",
    "sns.heatmap(cm, annot=True, fmt='d', cmap='Blues')\n",
    "plt.title('Confusion Matrix with SMOTE and Class Weights')\n",
    "plt.xlabel('Predicted')\n",
    "plt.ylabel('Actual')\n",
    "plt.show()"
   ]
  },
  {
   "cell_type": "markdown",
   "metadata": {
    "id": "-xX3zt7EqXVz"
   },
   "source": [
    "# **Method 03 to check A1Cresult impact on readmitted**"
   ]
  },
  {
   "cell_type": "code",
   "execution_count": 106,
   "metadata": {
    "colab": {
     "base_uri": "https://localhost:8080/"
    },
    "id": "EA71H49IsHkq",
    "outputId": "75bc6ed5-857e-4d90-a880-74ffe3a22b5f"
   },
   "outputs": [
    {
     "data": {
      "text/plain": [
       "(68858, 32)"
      ]
     },
     "execution_count": 106,
     "metadata": {},
     "output_type": "execute_result"
    }
   ],
   "source": [
    "df.shape"
   ]
  },
  {
   "cell_type": "code",
   "execution_count": 107,
   "metadata": {
    "colab": {
     "base_uri": "https://localhost:8080/",
     "height": 1000
    },
    "id": "iOdqmSeGp5tq",
    "outputId": "44b6a7f4-3050-4dc4-db30-33d7f631d821"
   },
   "outputs": [
    {
     "name": "stderr",
     "output_type": "stream",
     "text": [
      "C:\\Users\\Admin\\AppData\\Local\\Temp\\ipykernel_1512\\3254787631.py:26: FutureWarning: \n",
      "\n",
      "Passing `palette` without assigning `hue` is deprecated and will be removed in v0.14.0. Assign the `y` variable to `hue` and set `legend=False` for the same effect.\n",
      "\n",
      "  sns.barplot(x='Importance', y='Feature', data=feature_importances, palette='viridis')\n"
     ]
    },
    {
     "name": "stdout",
     "output_type": "stream",
     "text": [
      "                     Feature  Importance\n",
      "8         num_lab_procedures    0.150898\n",
      "10           num_medications    0.126860\n",
      "6           time_in_hospital    0.087774\n",
      "30               diag_1_name    0.072656\n",
      "9             num_procedures    0.060623\n",
      "14          number_diagnoses    0.051361\n",
      "13          number_inpatient    0.050958\n",
      "4   discharge_disposition_id    0.048689\n",
      "7          medical_specialty    0.047861\n",
      "11         number_outpatient    0.028962\n",
      "1                     gender    0.028467\n",
      "16                 A1Cresult    0.027982\n",
      "3          admission_type_id    0.026916\n",
      "23                   insulin    0.026118\n",
      "2                        age    0.025649\n",
      "5        admission_source_id    0.024861\n",
      "0                       race    0.023914\n",
      "28                    change    0.022151\n",
      "12          number_emergency    0.020480\n",
      "29               diabetesMed    0.016380\n",
      "15             max_glu_serum    0.010434\n",
      "19                 glipizide    0.005199\n",
      "17                 metformin    0.004798\n",
      "20                 glyburide    0.003776\n",
      "18               glimepiride    0.002937\n",
      "21              pioglitazone    0.001971\n",
      "22             rosiglitazone    0.001322\n",
      "24       glyburide.metformin    0.000003\n",
      "25       glipizide.metformin    0.000000\n",
      "26   metformin.rosiglitazone    0.000000\n",
      "27    metformin.pioglitazone    0.000000\n"
     ]
    },
    {
     "name": "stderr",
     "output_type": "stream",
     "text": [
      "C:\\Users\\Admin\\AppData\\Local\\Temp\\ipykernel_1512\\3254787631.py:29: UserWarning: FigureCanvasAgg is non-interactive, and thus cannot be shown\n",
      "  plt.show()\n"
     ]
    }
   ],
   "source": [
    "from sklearn.ensemble import RandomForestClassifier\n",
    "import pandas as pd\n",
    "import matplotlib.pyplot as plt\n",
    "import seaborn as sns\n",
    "\n",
    "# Features (X) and target (y)\n",
    "X = df.drop(columns=['readmitted'])\n",
    "y = df['readmitted']\n",
    "\n",
    "# Train Random Forest\n",
    "rf = RandomForestClassifier(random_state=42, n_estimators=100)\n",
    "rf.fit(X, y)\n",
    "\n",
    "# Extract feature importances\n",
    "feature_importances = pd.DataFrame({\n",
    "    'Feature': X.columns,\n",
    "    'Importance': rf.feature_importances_\n",
    "})\n",
    "\n",
    "# Sort by importance\n",
    "feature_importances = feature_importances.sort_values(by='Importance', ascending=False)\n",
    "\n",
    "\n",
    "# Plot the filtered feature importances\n",
    "plt.figure(figsize=(10, 6))\n",
    "sns.barplot(x='Importance', y='Feature', data=feature_importances, palette='viridis')\n",
    "plt.title('Feature Importance from Random Forest')\n",
    "plt.tight_layout()\n",
    "plt.show()\n",
    "\n",
    "# Display top features\n",
    "print(feature_importances)\n"
   ]
  },
  {
   "cell_type": "code",
   "execution_count": 108,
   "metadata": {
    "colab": {
     "base_uri": "https://localhost:8080/"
    },
    "id": "9RuzPvjTqRsb",
    "outputId": "2b9ce072-127f-4736-9385-cfd454d286ba"
   },
   "outputs": [
    {
     "data": {
      "text/plain": [
       "(68858, 7)"
      ]
     },
     "execution_count": 108,
     "metadata": {},
     "output_type": "execute_result"
    }
   ],
   "source": [
    "df_encoded.shape"
   ]
  },
  {
   "cell_type": "code",
   "execution_count": 109,
   "metadata": {
    "colab": {
     "base_uri": "https://localhost:8080/"
    },
    "id": "x7bX3yLDqpIa",
    "outputId": "b02b316f-6fab-477b-95ae-04d279ba8ef3"
   },
   "outputs": [
    {
     "data": {
      "text/plain": [
       "['num_lab_procedures',\n",
       " 'num_medications',\n",
       " 'time_in_hospital',\n",
       " 'diag_1_name',\n",
       " 'num_procedures',\n",
       " 'number_diagnoses',\n",
       " 'number_inpatient',\n",
       " 'discharge_disposition_id',\n",
       " 'medical_specialty',\n",
       " 'number_outpatient',\n",
       " 'gender',\n",
       " 'A1Cresult',\n",
       " 'admission_type_id',\n",
       " 'insulin',\n",
       " 'age',\n",
       " 'admission_source_id',\n",
       " 'race',\n",
       " 'change',\n",
       " 'number_emergency',\n",
       " 'diabetesMed',\n",
       " 'max_glu_serum',\n",
       " 'glipizide',\n",
       " 'metformin',\n",
       " 'glyburide',\n",
       " 'glimepiride',\n",
       " 'pioglitazone',\n",
       " 'rosiglitazone',\n",
       " 'glyburide.metformin']"
      ]
     },
     "execution_count": 109,
     "metadata": {},
     "output_type": "execute_result"
    }
   ],
   "source": [
    "# prompt: extract the important features having importance greater than 0.025 from above to a list\n",
    "\n",
    "# Extract features with importance greater than 0.025\n",
    "important_features = feature_importances[feature_importances['Importance'] > 0]['Feature'].tolist()\n",
    "\n",
    "important_features"
   ]
  },
  {
   "cell_type": "code",
   "execution_count": 110,
   "metadata": {
    "colab": {
     "base_uri": "https://localhost:8080/"
    },
    "id": "YGZxlMdu81-4",
    "outputId": "f2f4c91c-bf9d-442e-d3f3-f54c421c9e4a"
   },
   "outputs": [
    {
     "data": {
      "text/plain": [
       "['num_lab_procedures',\n",
       " 'number_emergency',\n",
       " 'age',\n",
       " 'time_in_hospital',\n",
       " 'num_medications',\n",
       " 'number_outpatient',\n",
       " 'diag_1_name',\n",
       " 'admission_source_id',\n",
       " 'medical_specialty',\n",
       " 'race',\n",
       " 'number_inpatient',\n",
       " 'diabetesMed',\n",
       " 'number_diagnoses',\n",
       " 'discharge_disposition_id',\n",
       " 'admission_type_id']"
      ]
     },
     "execution_count": 110,
     "metadata": {},
     "output_type": "execute_result"
    }
   ],
   "source": [
    "# prompt: find common columns of imp features and X_selected\n",
    "\n",
    "# Assuming X_selected and important_features are defined as in your provided code.\n",
    "\n",
    "common_cols = list(set(X_selected.columns) & set(important_features))\n",
    "common_cols"
   ]
  },
  {
   "cell_type": "code",
   "execution_count": 111,
   "metadata": {
    "colab": {
     "base_uri": "https://localhost:8080/"
    },
    "id": "Z6ogG8lv9AL1",
    "outputId": "49d1011c-23bb-4a36-9bf6-f8ef9afa49d8"
   },
   "outputs": [
    {
     "name": "stdout",
     "output_type": "stream",
     "text": [
      "The column with the lowest feature importance score among common_cols is: diabetesMed\n"
     ]
    }
   ],
   "source": [
    "min_importance_col = feature_importances.loc[feature_importances['Feature'].isin(common_cols)].sort_values(by='Importance', ascending=True).iloc[0]['Feature']\n",
    "\n",
    "print(f\"The column with the lowest feature importance score among common_cols is: {min_importance_col}\")"
   ]
  },
  {
   "cell_type": "code",
   "execution_count": 112,
   "metadata": {
    "colab": {
     "base_uri": "https://localhost:8080/"
    },
    "id": "hrEfhlBk9hNE",
    "outputId": "79dc7a7f-00ee-4c5d-881f-f8d4e628088e"
   },
   "outputs": [
    {
     "data": {
      "text/plain": [
       "['num_lab_procedures',\n",
       " 'num_medications',\n",
       " 'time_in_hospital',\n",
       " 'diag_1_name',\n",
       " 'num_procedures',\n",
       " 'number_diagnoses',\n",
       " 'number_inpatient',\n",
       " 'discharge_disposition_id',\n",
       " 'medical_specialty',\n",
       " 'number_outpatient',\n",
       " 'gender',\n",
       " 'A1Cresult',\n",
       " 'admission_type_id',\n",
       " 'insulin',\n",
       " 'age',\n",
       " 'admission_source_id',\n",
       " 'race',\n",
       " 'change',\n",
       " 'number_emergency',\n",
       " 'diabetesMed']"
      ]
     },
     "execution_count": 112,
     "metadata": {},
     "output_type": "execute_result"
    }
   ],
   "source": [
    "# prompt: from feature importance select all features having importance greater than diabetesMed\n",
    "\n",
    "# Assuming feature_importances DataFrame is available from the previous code.\n",
    "# It should have columns 'Feature' and 'Importance'.\n",
    "\n",
    "diabetesMed_importance = feature_importances[feature_importances['Feature'] == 'diabetesMed']['Importance'].iloc[0]\n",
    "\n",
    "# Select features with importance greater than diabetesMed's importance\n",
    "selected_features = feature_importances[feature_importances['Importance'] >= diabetesMed_importance]['Feature'].tolist()\n",
    "\n",
    "selected_features"
   ]
  },
  {
   "cell_type": "markdown",
   "metadata": {
    "id": "0KMsh5-uqWQW"
   },
   "source": []
  },
  {
   "cell_type": "code",
   "execution_count": 113,
   "metadata": {
    "colab": {
     "base_uri": "https://localhost:8080/"
    },
    "id": "2JMIbv_j9xUG",
    "outputId": "f5e8bdc7-63b4-4d2d-a3ad-e5ebe2547315"
   },
   "outputs": [
    {
     "data": {
      "text/plain": [
       "20"
      ]
     },
     "execution_count": 113,
     "metadata": {},
     "output_type": "execute_result"
    }
   ],
   "source": [
    "# prompt: find length of selected features\n",
    "\n",
    "len(selected_features)"
   ]
  },
  {
   "cell_type": "code",
   "execution_count": 114,
   "metadata": {
    "id": "KNFYQ42PLOtL"
   },
   "outputs": [],
   "source": [
    "# df_copy1.shape"
   ]
  },
  {
   "cell_type": "code",
   "execution_count": 115,
   "metadata": {
    "id": "Op6F8G4BrfuG"
   },
   "outputs": [],
   "source": [
    "#df_encoded.columns"
   ]
  },
  {
   "cell_type": "code",
   "execution_count": 116,
   "metadata": {
    "colab": {
     "base_uri": "https://localhost:8080/"
    },
    "id": "sEQxRbk56xow",
    "outputId": "4112004f-e3e1-4f27-c937-b0d724fb64b8"
   },
   "outputs": [
    {
     "name": "stderr",
     "output_type": "stream",
     "text": [
      "C:\\Users\\Admin\\AppData\\Local\\Temp\\ipykernel_1512\\780312827.py:10: SettingWithCopyWarning: \n",
      "A value is trying to be set on a copy of a slice from a DataFrame.\n",
      "Try using .loc[row_indexer,col_indexer] = value instead\n",
      "\n",
      "See the caveats in the documentation: https://pandas.pydata.org/pandas-docs/stable/user_guide/indexing.html#returning-a-view-versus-a-copy\n",
      "  df_use['total_procedures'] = df_use['num_lab_procedures'] + df_use['num_procedures']\n",
      "C:\\Users\\Admin\\AppData\\Local\\Temp\\ipykernel_1512\\780312827.py:13: SettingWithCopyWarning: \n",
      "A value is trying to be set on a copy of a slice from a DataFrame.\n",
      "Try using .loc[row_indexer,col_indexer] = value instead\n",
      "\n",
      "See the caveats in the documentation: https://pandas.pydata.org/pandas-docs/stable/user_guide/indexing.html#returning-a-view-versus-a-copy\n",
      "  df_use['visit_time'] = (df_use['number_inpatient'] + df_use['number_outpatient']) * df_use['time_in_hospital']\n"
     ]
    }
   ],
   "source": [
    "# prompt: club 'num_lab_procedures' and 'num_procedures' as total_procedures\n",
    "# make a new col visit_time = ('number_inpatient' +\n",
    "#  'number_outpatient')* 'time_in_hospital'\n",
    "# drop the columns used\n",
    "df_use = df[selected_features]\n",
    "import pandas as pd\n",
    "\n",
    "# Assuming your DataFrame is named 'df'\n",
    "# Create 'total_procedures' column\n",
    "df_use['total_procedures'] = df_use['num_lab_procedures'] + df_use['num_procedures']\n",
    "\n",
    "# Create 'visit_time' column\n",
    "df_use['visit_time'] = (df_use['number_inpatient'] + df_use['number_outpatient']) * df_use['time_in_hospital']\n",
    "\n",
    "# Drop the original columns\n",
    "df_use = df_use.drop(['num_lab_procedures', 'num_procedures', 'number_inpatient', 'number_outpatient','time_in_hospital'], axis=1)"
   ]
  },
  {
   "cell_type": "code",
   "execution_count": 117,
   "metadata": {
    "colab": {
     "base_uri": "https://localhost:8080/"
    },
    "id": "Qnr96o_v7q7r",
    "outputId": "55b3ff33-cc9c-496f-b9c9-0072854c37ed"
   },
   "outputs": [
    {
     "data": {
      "text/plain": [
       "Index(['num_medications', 'diag_1_name', 'number_diagnoses',\n",
       "       'discharge_disposition_id', 'medical_specialty', 'gender', 'A1Cresult',\n",
       "       'admission_type_id', 'insulin', 'age', 'admission_source_id', 'race',\n",
       "       'change', 'number_emergency', 'diabetesMed', 'total_procedures',\n",
       "       'visit_time'],\n",
       "      dtype='object')"
      ]
     },
     "execution_count": 117,
     "metadata": {},
     "output_type": "execute_result"
    }
   ],
   "source": [
    "df_use.columns"
   ]
  },
  {
   "cell_type": "code",
   "execution_count": 118,
   "metadata": {
    "colab": {
     "base_uri": "https://localhost:8080/"
    },
    "id": "i-o26X3n-NfM",
    "outputId": "2ede6d6a-cdb7-472d-e1b5-96bc88242202"
   },
   "outputs": [
    {
     "data": {
      "text/plain": [
       "(68858, 17)"
      ]
     },
     "execution_count": 118,
     "metadata": {},
     "output_type": "execute_result"
    }
   ],
   "source": [
    "df_use.shape"
   ]
  },
  {
   "cell_type": "code",
   "execution_count": 119,
   "metadata": {
    "id": "H651dtm5-qZm"
   },
   "outputs": [],
   "source": [
    "\n",
    "# Club categorical columns\n",
    "df_use['patient_look'] = df_use['race'].astype(str) + '_' + df_use['age'].astype(str) + '_' + df_use['gender'].astype(str)\n",
    "df_use['Medication'] = df_use['diabetesMed'].astype(str) + '_' + df_use['change'].astype(str) + '_' + df_use['insulin'].astype(str)\n",
    "df_use['ID'] = df_use['discharge_disposition_id'].astype(str) + '_' + df_use['admission_source_id'].astype(str) + '_' + df_use['admission_type_id'].astype(str)\n",
    "\n",
    "# Drop the original columns\n",
    "df_use = df_use.drop(['race', 'age', 'gender', 'diabetesMed', 'change', 'insulin', 'discharge_disposition_id', 'admission_source_id', 'admission_type_id'], axis=1)"
   ]
  },
  {
   "cell_type": "code",
   "execution_count": 120,
   "metadata": {
    "colab": {
     "base_uri": "https://localhost:8080/"
    },
    "id": "KtK0pKOOAD6r",
    "outputId": "b42558f3-9ef5-42e1-8cc4-60422ec4f833"
   },
   "outputs": [
    {
     "name": "stdout",
     "output_type": "stream",
     "text": [
      "<class 'pandas.core.frame.DataFrame'>\n",
      "Index: 68858 entries, 0 to 69168\n",
      "Data columns (total 11 columns):\n",
      " #   Column             Non-Null Count  Dtype \n",
      "---  ------             --------------  ----- \n",
      " 0   num_medications    68858 non-null  int64 \n",
      " 1   diag_1_name        68858 non-null  int32 \n",
      " 2   number_diagnoses   68858 non-null  int64 \n",
      " 3   medical_specialty  68858 non-null  int32 \n",
      " 4   A1Cresult          68858 non-null  int32 \n",
      " 5   number_emergency   68858 non-null  int64 \n",
      " 6   total_procedures   68858 non-null  int64 \n",
      " 7   visit_time         68858 non-null  int64 \n",
      " 8   patient_look       68858 non-null  object\n",
      " 9   Medication         68858 non-null  object\n",
      " 10  ID                 68858 non-null  object\n",
      "dtypes: int32(3), int64(5), object(3)\n",
      "memory usage: 5.5+ MB\n"
     ]
    }
   ],
   "source": [
    "df_use.info()"
   ]
  },
  {
   "cell_type": "code",
   "execution_count": 121,
   "metadata": {
    "colab": {
     "base_uri": "https://localhost:8080/",
     "height": 738
    },
    "id": "XFjvGg98rf73",
    "outputId": "3ff3a8ad-673c-4738-c56d-43e03fd0367e"
   },
   "outputs": [
    {
     "name": "stdout",
     "output_type": "stream",
     "text": [
      "Classification Report:\n",
      "              precision    recall  f1-score   support\n",
      "\n",
      "           0       0.96      0.64      0.77     13151\n",
      "           1       0.06      0.49      0.11       621\n",
      "\n",
      "    accuracy                           0.64     13772\n",
      "   macro avg       0.51      0.57      0.44     13772\n",
      "weighted avg       0.92      0.64      0.74     13772\n",
      "\n"
     ]
    },
    {
     "name": "stderr",
     "output_type": "stream",
     "text": [
      "C:\\Users\\Admin\\AppData\\Local\\Temp\\ipykernel_1512\\214986722.py:47: UserWarning: FigureCanvasAgg is non-interactive, and thus cannot be shown\n",
      "  plt.show()\n"
     ]
    }
   ],
   "source": [
    "from imblearn.over_sampling import SMOTE\n",
    "from sklearn.linear_model import LogisticRegression\n",
    "from sklearn.model_selection import train_test_split\n",
    "from sklearn.metrics import classification_report, confusion_matrix\n",
    "from sklearn.preprocessing import LabelEncoder\n",
    "import seaborn as sns\n",
    "import matplotlib.pyplot as plt\n",
    "\n",
    "# Define features (X) and target (y)\n",
    "X = df_use.copy()  # Ensure X is independent and does not modify df_use\n",
    "y = df['readmitted']\n",
    "\n",
    "# Apply LabelEncoder to categorical columns in X\n",
    "label_encoders = {}\n",
    "categorical_columns = X.select_dtypes(include=['object', 'category']).columns  # Detect categorical columns\n",
    "\n",
    "for col in categorical_columns:\n",
    "    le = LabelEncoder()\n",
    "    X[col] = le.fit_transform(X[col])  # Encode the column\n",
    "    label_encoders[col] = le  # Store the encoder for potential inverse transformation or analysis\n",
    "\n",
    "# Split data into training and testing sets\n",
    "X_train, X_test, y_train, y_test = train_test_split(X, y, test_size=0.2, random_state=42)\n",
    "\n",
    "# Apply SMOTE to the training set\n",
    "smote = SMOTE(random_state=42)\n",
    "X_train_smote, y_train_smote = smote.fit_resample(X_train, y_train)\n",
    "\n",
    "# Initialize and train a Logistic Regression model with class weights\n",
    "logreg = LogisticRegression(max_iter=1000, class_weight='balanced')  # 'balanced' adjusts weights automatically\n",
    "logreg.fit(X_train_smote, y_train_smote)\n",
    "\n",
    "# Make predictions on the test set\n",
    "y_pred = logreg.predict(X_test)\n",
    "\n",
    "# Evaluate the model\n",
    "print(\"Classification Report:\")\n",
    "print(classification_report(y_test, y_pred))\n",
    "\n",
    "# Confusion Matrix\n",
    "cm = confusion_matrix(y_test, y_pred)\n",
    "plt.figure(figsize=(8, 6))\n",
    "sns.heatmap(cm, annot=True, fmt='d', cmap='Blues')\n",
    "plt.title('Confusion Matrix with SMOTE and Class Weights')\n",
    "plt.xlabel('Predicted')\n",
    "plt.ylabel('Actual')\n",
    "plt.show()\n"
   ]
  },
  {
   "cell_type": "code",
   "execution_count": 122,
   "metadata": {
    "colab": {
     "base_uri": "https://localhost:8080/",
     "height": 738
    },
    "id": "LH313zmpA12K",
    "outputId": "b4a331e0-64ca-4dec-a587-199e0ae737b3"
   },
   "outputs": [
    {
     "name": "stdout",
     "output_type": "stream",
     "text": [
      "Classification Report:\n",
      "              precision    recall  f1-score   support\n",
      "\n",
      "           0       0.96      0.64      0.77     13151\n",
      "           1       0.06      0.49      0.11       621\n",
      "\n",
      "    accuracy                           0.64     13772\n",
      "   macro avg       0.51      0.57      0.44     13772\n",
      "weighted avg       0.92      0.64      0.74     13772\n",
      "\n"
     ]
    },
    {
     "name": "stderr",
     "output_type": "stream",
     "text": [
      "C:\\Users\\Admin\\AppData\\Local\\Temp\\ipykernel_1512\\3718045159.py:49: UserWarning: FigureCanvasAgg is non-interactive, and thus cannot be shown\n",
      "  plt.show()\n"
     ]
    }
   ],
   "source": [
    "# prompt: apply logistic regression on above\n",
    "\n",
    "from sklearn.linear_model import LogisticRegression\n",
    "from sklearn.model_selection import train_test_split\n",
    "from sklearn.metrics import classification_report, confusion_matrix\n",
    "import seaborn as sns\n",
    "import matplotlib.pyplot as plt\n",
    "from imblearn.over_sampling import SMOTE\n",
    "\n",
    "\n",
    "# Assuming df_use and y are defined as in your previous code\n",
    "\n",
    "# Define features (X) and target (y)\n",
    "X = df_use.copy()\n",
    "y = df['readmitted']\n",
    "label_encoders = {}\n",
    "categorical_columns = X.select_dtypes(include=['object', 'category']).columns  # Detect categorical columns\n",
    "\n",
    "for col in categorical_columns:\n",
    "    le = LabelEncoder()\n",
    "    X[col] = le.fit_transform(X[col])  # Encode the column\n",
    "    label_encoders[col] = le  # Store the encoder for potential inverse transformation or analysis\n",
    "\n",
    "# Split data into training and testing sets\n",
    "X_train, X_test, y_train, y_test = train_test_split(X, y, test_size=0.2, random_state=42)\n",
    "\n",
    "# Apply SMOTE to the training set\n",
    "smote = SMOTE(random_state=42)\n",
    "X_train_smote, y_train_smote = smote.fit_resample(X_train, y_train)\n",
    "\n",
    "# Initialize and train a Logistic Regression model with class weights\n",
    "logreg = LogisticRegression(max_iter=1000, class_weight='balanced')\n",
    "logreg.fit(X_train_smote, y_train_smote)\n",
    "\n",
    "# Make predictions on the test set\n",
    "y_pred = logreg.predict(X_test)\n",
    "\n",
    "# Evaluate the model\n",
    "print(\"Classification Report:\")\n",
    "print(classification_report(y_test, y_pred))\n",
    "\n",
    "# Confusion Matrix\n",
    "cm = confusion_matrix(y_test, y_pred)\n",
    "plt.figure(figsize=(8, 6))\n",
    "sns.heatmap(cm, annot=True, fmt='d', cmap='Blues')\n",
    "plt.title('Confusion Matrix with SMOTE and Class Weights')\n",
    "plt.xlabel('Predicted')\n",
    "plt.ylabel('Actual')\n",
    "plt.show()"
   ]
  },
  {
   "cell_type": "code",
   "execution_count": 123,
   "metadata": {
    "colab": {
     "base_uri": "https://localhost:8080/"
    },
    "id": "fipKh0q27DeW",
    "outputId": "faffb143-a9cc-4cb6-d437-0a7784ceaf0f"
   },
   "outputs": [
    {
     "data": {
      "text/plain": [
       "Index(['age', 'admission_type_id', 'discharge_disposition_id',\n",
       "       'admission_source_id', 'time_in_hospital', 'medical_specialty',\n",
       "       'max_glu_serum', 'A1Cresult', 'insulin', 'change', 'diabetesMed',\n",
       "       'readmitted', 'diag_1_name', 'dm', 'medical_complexity', 'num_visits'],\n",
       "      dtype='object')"
      ]
     },
     "execution_count": 123,
     "metadata": {},
     "output_type": "execute_result"
    }
   ],
   "source": [
    "df_copy.columns"
   ]
  },
  {
   "cell_type": "code",
   "execution_count": 124,
   "metadata": {
    "colab": {
     "base_uri": "https://localhost:8080/",
     "height": 738
    },
    "id": "YmOgoQ9VgyNz",
    "outputId": "cb343478-cfd2-4651-d39f-7e7e477ec585"
   },
   "outputs": [
    {
     "name": "stdout",
     "output_type": "stream",
     "text": [
      "Random Forest Classifier Performance:\n",
      "              precision    recall  f1-score   support\n",
      "\n",
      "           0       0.96      0.99      0.97     13151\n",
      "           1       0.07      0.01      0.01       621\n",
      "\n",
      "    accuracy                           0.95     13772\n",
      "   macro avg       0.51      0.50      0.49     13772\n",
      "weighted avg       0.92      0.95      0.93     13772\n",
      "\n"
     ]
    },
    {
     "name": "stderr",
     "output_type": "stream",
     "text": [
      "C:\\Users\\Admin\\AppData\\Local\\Temp\\ipykernel_1512\\1420470791.py:32: UserWarning: FigureCanvasAgg is non-interactive, and thus cannot be shown\n",
      "  plt.show()\n"
     ]
    }
   ],
   "source": [
    "from sklearn.ensemble import RandomForestClassifier\n",
    "from sklearn.model_selection import train_test_split\n",
    "from sklearn.metrics import classification_report, confusion_matrix\n",
    "import seaborn as sns\n",
    "import matplotlib.pyplot as plt\n",
    "\n",
    "# Define features (X) and target (y)\n",
    "X = df_copy.drop('readmitted', axis=1)\n",
    "y = df_copy['readmitted']\n",
    "\n",
    "# Split data into training and testing sets\n",
    "X_train, X_test, y_train, y_test = train_test_split(X, y, test_size=0.2, random_state=42)\n",
    "\n",
    "# Initialize and train a Random Forest Classifier with class weights\n",
    "rf = RandomForestClassifier(n_estimators=100, class_weight='balanced', random_state=42)\n",
    "rf.fit(X_train, y_train)\n",
    "\n",
    "# Make predictions on the test set\n",
    "y_pred = rf.predict(X_test)\n",
    "\n",
    "# Evaluate the model\n",
    "print(\"Random Forest Classifier Performance:\")\n",
    "print(classification_report(y_test, y_pred))\n",
    "\n",
    "# Confusion Matrix\n",
    "cm = confusion_matrix(y_test, y_pred)\n",
    "plt.figure(figsize=(8, 6))\n",
    "sns.heatmap(cm, annot=True, fmt='d', cmap='Blues')\n",
    "plt.title('Confusion Matrix - Random Forest with Class Weights')\n",
    "plt.xlabel('Predicted')\n",
    "plt.ylabel('Actual')\n",
    "plt.show()"
   ]
  },
  {
   "cell_type": "code",
   "execution_count": 125,
   "metadata": {
    "id": "muQknzjfg1ec"
   },
   "outputs": [],
   "source": [
    "## Q4\n",
    "# def create_confusion_matrix(df, col1, col2):\n",
    "#     matrix = pd.crosstab(df[col1], df[col2])\n",
    "#     plt.figure(figsize=(8, 6))\n",
    "#     sns.heatmap(matrix, annot=True, fmt='d', cmap='Blues')\n",
    "#     plt.title(f'Confusion Matrix: {col1} vs {col2}')\n",
    "#     plt.xlabel(col2)\n",
    "#     plt.ylabel(col1)\n",
    "#     plt.show()\n",
    "\n",
    "# # Example usage for 'A1Cresult' and 'change'\n",
    "# create_confusion_matrix(df, 'A1Cresult', 'change')"
   ]
  },
  {
   "cell_type": "code",
   "execution_count": 126,
   "metadata": {
    "colab": {
     "base_uri": "https://localhost:8080/"
    },
    "id": "IZBXUZeYhBXB",
    "outputId": "9e46cfcc-f460-4697-9f8b-36af2054dbfd"
   },
   "outputs": [
    {
     "data": {
      "text/plain": [
       "Index(['race', 'gender', 'age', 'admission_type_id',\n",
       "       'discharge_disposition_id', 'admission_source_id', 'time_in_hospital',\n",
       "       'medical_specialty', 'num_lab_procedures', 'num_procedures',\n",
       "       'num_medications', 'number_outpatient', 'number_emergency',\n",
       "       'number_inpatient', 'number_diagnoses', 'max_glu_serum', 'A1Cresult',\n",
       "       'metformin', 'glimepiride', 'glipizide', 'glyburide', 'pioglitazone',\n",
       "       'rosiglitazone', 'insulin', 'glyburide.metformin',\n",
       "       'glipizide.metformin', 'metformin.rosiglitazone',\n",
       "       'metformin.pioglitazone', 'change', 'diabetesMed', 'readmitted',\n",
       "       'diag_1_name'],\n",
       "      dtype='object')"
      ]
     },
     "execution_count": 126,
     "metadata": {},
     "output_type": "execute_result"
    }
   ],
   "source": [
    "df.columns\n"
   ]
  },
  {
   "cell_type": "code",
   "execution_count": 127,
   "metadata": {
    "id": "brYaAmVEVvQT"
   },
   "outputs": [],
   "source": [
    "# Scale numeric features only\n",
    "scaler = StandardScaler()\n",
    "X_scaled = scaler.fit_transform(X)"
   ]
  },
  {
   "cell_type": "code",
   "execution_count": 128,
   "metadata": {
    "colab": {
     "base_uri": "https://localhost:8080/"
    },
    "id": "JLBZ3HDvVzjc",
    "outputId": "5adea275-f4b5-42bf-f433-7cb4b40e4e66"
   },
   "outputs": [
    {
     "name": "stdout",
     "output_type": "stream",
     "text": [
      "Balanced Dataset Summary:\n",
      "readmitted\n",
      "0    65664\n",
      "1     3194\n",
      "Name: count, dtype: int64\n"
     ]
    }
   ],
   "source": [
    "print(\"Balanced Dataset Summary:\")\n",
    "print(df_copy['readmitted'].value_counts())"
   ]
  },
  {
   "cell_type": "code",
   "execution_count": 129,
   "metadata": {
    "id": "kIc_K2lh7vag"
   },
   "outputs": [],
   "source": [
    "df_copy1 = df_copy"
   ]
  },
  {
   "cell_type": "code",
   "execution_count": 130,
   "metadata": {
    "colab": {
     "base_uri": "https://localhost:8080/"
    },
    "id": "ppui6fkSU9ar",
    "outputId": "d00c5fa1-56db-4cef-fe05-d8fe3dae68c6"
   },
   "outputs": [
    {
     "name": "stdout",
     "output_type": "stream",
     "text": [
      "Optimization terminated successfully.\n",
      "         Current function value: 0.181811\n",
      "         Iterations 8\n",
      "                           Logit Regression Results                           \n",
      "==============================================================================\n",
      "Dep. Variable:             readmitted   No. Observations:                 5570\n",
      "Model:                          Logit   Df Residuals:                     5559\n",
      "Method:                           MLE   Df Model:                           10\n",
      "Date:                Thu, 24 Jul 2025   Pseudo R-squ.:                 0.06795\n",
      "Time:                        22:25:29   Log-Likelihood:                -1012.7\n",
      "converged:                       True   LL-Null:                       -1086.5\n",
      "Covariance Type:            nonrobust   LLR p-value:                 1.135e-26\n",
      "============================================================================================\n",
      "                               coef    std err          z      P>|z|      [0.025      0.975]\n",
      "--------------------------------------------------------------------------------------------\n",
      "const                       -4.3705      0.648     -6.745      0.000      -5.641      -3.100\n",
      "age                          0.1682      0.097      1.738      0.082      -0.022       0.358\n",
      "admission_type_id           -0.1783      0.110     -1.614      0.107      -0.395       0.038\n",
      "discharge_disposition_id     0.0922      0.020      4.619      0.000       0.053       0.131\n",
      "admission_source_id          0.1014      0.129      0.786      0.432      -0.151       0.354\n",
      "time_in_hospital            -0.0009      0.024     -0.037      0.971      -0.048       0.046\n",
      "medical_specialty            0.0377      0.065      0.580      0.562      -0.090       0.165\n",
      "max_glu_serum               -0.2401      0.187     -1.283      0.199      -0.607       0.127\n",
      "A1Cresult                    0.2915      0.113      2.590      0.010       0.071       0.512\n",
      "medical_complexity           0.0416      0.009      4.884      0.000       0.025       0.058\n",
      "num_visits                   0.1048      0.017      6.184      0.000       0.072       0.138\n",
      "============================================================================================\n"
     ]
    },
    {
     "name": "stderr",
     "output_type": "stream",
     "text": [
      "C:\\Users\\Admin\\AppData\\Local\\Temp\\ipykernel_1512\\3712957449.py:12: SettingWithCopyWarning: \n",
      "A value is trying to be set on a copy of a slice from a DataFrame.\n",
      "Try using .loc[row_indexer,col_indexer] = value instead\n",
      "\n",
      "See the caveats in the documentation: https://pandas.pydata.org/pandas-docs/stable/user_guide/indexing.html#returning-a-view-versus-a-copy\n",
      "  df_filtered['A1Cresult'] = le.fit_transform(df_filtered['A1Cresult'])\n"
     ]
    }
   ],
   "source": [
    "import pandas as pd\n",
    "import statsmodels.api as sm\n",
    "from sklearn.preprocessing import LabelEncoder\n",
    "\n",
    "# Step 3: Filter by primary diagnosis (e.g., 'diag_1_name' for specific disease focus)\n",
    "df_filtered = df_copy1[df_copy1['diag_1_name'] == 2]  # Ensure you reference the correct dataframe\n",
    "\n",
    "# Step 4: Encode categorical variables ('A1Cresult', 'Sex', etc.)\n",
    "le = LabelEncoder()\n",
    "\n",
    "# Encode A1Cresult (HbA1c levels)\n",
    "df_filtered['A1Cresult'] = le.fit_transform(df_filtered['A1Cresult'])\n",
    "\n",
    "# Step 5: Select relevant features (e.g., A1Cresult, Age, Sex)\n",
    "X = df_filtered[['age', 'admission_type_id', 'discharge_disposition_id',\n",
    "                 'admission_source_id', 'time_in_hospital', 'medical_specialty',\n",
    "                 'max_glu_serum', 'A1Cresult', 'medical_complexity', 'num_visits']]  # Add more features as necessary\n",
    "\n",
    "# Encoding any categorical features using LabelEncoder as needed\n",
    "# Ensure all features are numeric now\n",
    "\n",
    "# Add constant term for intercept in the model\n",
    "X = sm.add_constant(X)\n",
    "\n",
    "# Define the target variable (y)\n",
    "y = df_filtered['readmitted']\n",
    "\n",
    "# Step 6: Fit Logistic Regression Model\n",
    "model = sm.Logit(y, X)\n",
    "result = model.fit()\n",
    "\n",
    "# Step 7: Model Summary\n",
    "print(result.summary())\n"
   ]
  },
  {
   "cell_type": "code",
   "execution_count": 131,
   "metadata": {
    "id": "pEGC_TDnuQyq"
   },
   "outputs": [],
   "source": [
    "from sklearn.model_selection import train_test_split\n",
    "\n",
    "# Split data into train and test sets\n",
    "X_train, X_test, y_train, y_test = train_test_split(X, y, test_size=0.3, random_state=42)\n"
   ]
  },
  {
   "cell_type": "code",
   "execution_count": 132,
   "metadata": {
    "colab": {
     "base_uri": "https://localhost:8080/"
    },
    "id": "gWnuIDe1uSOZ",
    "outputId": "359e3753-2461-4e95-cc35-0f0d1c261d2e"
   },
   "outputs": [
    {
     "name": "stdout",
     "output_type": "stream",
     "text": [
      "Optimization terminated successfully.\n",
      "         Current function value: 0.178224\n",
      "         Iterations 8\n",
      "                           Logit Regression Results                           \n",
      "==============================================================================\n",
      "Dep. Variable:             readmitted   No. Observations:                 3899\n",
      "Model:                          Logit   Df Residuals:                     3888\n",
      "Method:                           MLE   Df Model:                           10\n",
      "Date:                Thu, 24 Jul 2025   Pseudo R-squ.:                 0.07767\n",
      "Time:                        22:25:29   Log-Likelihood:                -694.90\n",
      "converged:                       True   LL-Null:                       -753.42\n",
      "Covariance Type:            nonrobust   LLR p-value:                 2.017e-20\n",
      "============================================================================================\n",
      "                               coef    std err          z      P>|z|      [0.025      0.975]\n",
      "--------------------------------------------------------------------------------------------\n",
      "const                       -4.5151      0.771     -5.857      0.000      -6.026      -3.004\n",
      "age                          0.2068      0.117      1.770      0.077      -0.022       0.436\n",
      "admission_type_id           -0.1302      0.128     -1.020      0.308      -0.380       0.120\n",
      "discharge_disposition_id     0.0855      0.024      3.624      0.000       0.039       0.132\n",
      "admission_source_id          0.2259      0.148      1.530      0.126      -0.063       0.515\n",
      "time_in_hospital             0.0255      0.029      0.884      0.377      -0.031       0.082\n",
      "medical_specialty           -0.0212      0.076     -0.279      0.780      -0.170       0.127\n",
      "max_glu_serum               -0.3446      0.221     -1.556      0.120      -0.779       0.089\n",
      "A1Cresult                    0.5165      0.143      3.605      0.000       0.236       0.797\n",
      "medical_complexity           0.0337      0.010      3.281      0.001       0.014       0.054\n",
      "num_visits                   0.1047      0.019      5.414      0.000       0.067       0.143\n",
      "============================================================================================\n"
     ]
    }
   ],
   "source": [
    "model = sm.Logit(y_train, X_train)\n",
    "result = model.fit()\n",
    "\n",
    "# Check the model summary\n",
    "print(result.summary())\n"
   ]
  },
  {
   "cell_type": "markdown",
   "metadata": {
    "id": "X-ptotgVuQkK"
   },
   "source": []
  },
  {
   "cell_type": "code",
   "execution_count": 133,
   "metadata": {
    "id": "fKOEoW1_uVAT"
   },
   "outputs": [],
   "source": [
    "y_pred_prob = result.predict(X_test)  # Predict probabilities\n",
    "\n",
    "# Convert probabilities to class labels based on a threshold (e.g., 0.5)\n",
    "y_pred = (y_pred_prob >= 0.5).astype(int)\n"
   ]
  },
  {
   "cell_type": "code",
   "execution_count": 134,
   "metadata": {
    "colab": {
     "base_uri": "https://localhost:8080/"
    },
    "id": "9T9XygeVuYI9",
    "outputId": "ce2d9a25-59a9-408b-f89c-e011308e6c92"
   },
   "outputs": [
    {
     "name": "stdout",
     "output_type": "stream",
     "text": [
      "Accuracy: 0.9497307001795332\n",
      "Precision: 0.0\n",
      "Recall: 0.0\n",
      "F1-Score: 0.0\n",
      "ROC AUC Score: 0.6674955741590902\n",
      "Confusion Matrix: \n",
      "[[1587    0]\n",
      " [  84    0]]\n"
     ]
    },
    {
     "name": "stderr",
     "output_type": "stream",
     "text": [
      "c:\\Users\\Admin\\anaconda3\\Lib\\site-packages\\sklearn\\metrics\\_classification.py:1509: UndefinedMetricWarning: Precision is ill-defined and being set to 0.0 due to no predicted samples. Use `zero_division` parameter to control this behavior.\n",
      "  _warn_prf(average, modifier, f\"{metric.capitalize()} is\", len(result))\n"
     ]
    }
   ],
   "source": [
    "from sklearn.metrics import accuracy_score, precision_score, recall_score, f1_score, roc_auc_score, confusion_matrix\n",
    "\n",
    "# Accuracy\n",
    "accuracy = accuracy_score(y_test, y_pred)\n",
    "print(f\"Accuracy: {accuracy}\")\n",
    "\n",
    "# Precision\n",
    "precision = precision_score(y_test, y_pred)\n",
    "print(f\"Precision: {precision}\")\n",
    "\n",
    "# Recall\n",
    "recall = recall_score(y_test, y_pred)\n",
    "print(f\"Recall: {recall}\")\n",
    "\n",
    "# F1-Score\n",
    "f1 = f1_score(y_test, y_pred)\n",
    "print(f\"F1-Score: {f1}\")\n",
    "\n",
    "# ROC AUC Score\n",
    "roc_auc = roc_auc_score(y_test, y_pred_prob)\n",
    "print(f\"ROC AUC Score: {roc_auc}\")\n",
    "\n",
    "# Confusion Matrix\n",
    "cm = confusion_matrix(y_test, y_pred)\n",
    "print(f\"Confusion Matrix: \\n{cm}\")\n"
   ]
  },
  {
   "cell_type": "code",
   "execution_count": 135,
   "metadata": {
    "colab": {
     "base_uri": "https://localhost:8080/"
    },
    "id": "Gzwh0dG-uiJB",
    "outputId": "fbdaaee1-c66d-46f1-b8cf-5014d3b81733"
   },
   "outputs": [
    {
     "name": "stderr",
     "output_type": "stream",
     "text": [
      "C:\\Users\\Admin\\AppData\\Local\\Temp\\ipykernel_1512\\3407683287.py:7: RuntimeWarning: invalid value encountered in divide\n",
      "  optimal_idx = np.argmax(2 * precision * recall / (precision + recall))\n"
     ]
    }
   ],
   "source": [
    "# Tune threshold to maximize precision-recall trade-off if necessary\n",
    "from sklearn.metrics import precision_recall_curve\n",
    "\n",
    "precision, recall, thresholds = precision_recall_curve(y_test, y_pred_prob)\n",
    "\n",
    "# Example: Find the threshold where precision and recall are balanced\n",
    "optimal_idx = np.argmax(2 * precision * recall / (precision + recall))\n",
    "optimal_threshold = thresholds[optimal_idx]\n"
   ]
  },
  {
   "cell_type": "code",
   "execution_count": 136,
   "metadata": {
    "id": "kWNLd_S7ujwe"
   },
   "outputs": [],
   "source": [
    "# Use the optimal threshold to make predictions\n",
    "y_pred_optimized = (y_pred_prob >= optimal_threshold).astype(int)\n"
   ]
  },
  {
   "cell_type": "code",
   "execution_count": 137,
   "metadata": {
    "colab": {
     "base_uri": "https://localhost:8080/"
    },
    "id": "cJ3dHRAkvQXP",
    "outputId": "7a39b376-9302-4e9e-c010-71ba8356a743"
   },
   "outputs": [
    {
     "name": "stdout",
     "output_type": "stream",
     "text": [
      "Optimized Accuracy: 0.9461400359066428\n",
      "Optimized Precision: 0.0\n",
      "Optimized Recall: 0.0\n",
      "Optimized F1-Score: 0.0\n",
      "Optimized ROC AUC Score: 0.6674955741590902\n",
      "Optimized Confusion Matrix: \n",
      "[[1581    6]\n",
      " [  84    0]]\n"
     ]
    }
   ],
   "source": [
    "from sklearn.metrics import accuracy_score, precision_score, recall_score, f1_score, roc_auc_score, confusion_matrix\n",
    "\n",
    "# Accuracy\n",
    "accuracy_optimized = accuracy_score(y_test, y_pred_optimized)\n",
    "print(f\"Optimized Accuracy: {accuracy_optimized}\")\n",
    "\n",
    "# Precision\n",
    "precision_optimized = precision_score(y_test, y_pred_optimized)\n",
    "print(f\"Optimized Precision: {precision_optimized}\")\n",
    "\n",
    "# Recall\n",
    "recall_optimized = recall_score(y_test, y_pred_optimized)\n",
    "print(f\"Optimized Recall: {recall_optimized}\")\n",
    "\n",
    "# F1-Score\n",
    "f1_optimized = f1_score(y_test, y_pred_optimized)\n",
    "print(f\"Optimized F1-Score: {f1_optimized}\")\n",
    "\n",
    "# ROC AUC Score\n",
    "roc_auc_optimized = roc_auc_score(y_test, y_pred_prob)\n",
    "print(f\"Optimized ROC AUC Score: {roc_auc_optimized}\")\n",
    "\n",
    "# Confusion Matrix\n",
    "cm_optimized = confusion_matrix(y_test, y_pred_optimized)\n",
    "print(f\"Optimized Confusion Matrix: \\n{cm_optimized}\")\n"
   ]
  },
  {
   "cell_type": "code",
   "execution_count": 138,
   "metadata": {
    "colab": {
     "base_uri": "https://localhost:8080/",
     "height": 472
    },
    "id": "Wg9_hZgavWGZ",
    "outputId": "fac5ef54-195d-435f-83dc-c5b41c0fb35b"
   },
   "outputs": [
    {
     "name": "stderr",
     "output_type": "stream",
     "text": [
      "C:\\Users\\Admin\\AppData\\Local\\Temp\\ipykernel_1512\\1734246926.py:9: UserWarning: FigureCanvasAgg is non-interactive, and thus cannot be shown\n",
      "  plt.show()\n"
     ]
    }
   ],
   "source": [
    "import matplotlib.pyplot as plt\n",
    "\n",
    "plt.plot(thresholds, precision[:-1], label='Precision')\n",
    "plt.plot(thresholds, recall[:-1], label='Recall')\n",
    "plt.xlabel('Threshold')\n",
    "plt.ylabel('Score')\n",
    "plt.title('Precision-Recall Trade-off')\n",
    "plt.legend()\n",
    "plt.show()\n"
   ]
  },
  {
   "cell_type": "code",
   "execution_count": 139,
   "metadata": {
    "colab": {
     "base_uri": "https://localhost:8080/"
    },
    "id": "o78cRGthU9VO",
    "outputId": "4ffe4280-4255-4128-b8b7-930a4e05bc9a"
   },
   "outputs": [
    {
     "name": "stdout",
     "output_type": "stream",
     "text": [
      "Optimization terminated successfully.\n",
      "         Current function value: 0.605081\n",
      "         Iterations 5\n"
     ]
    }
   ],
   "source": [
    "from imblearn.over_sampling import SMOTE\n",
    "\n",
    "smote = SMOTE(sampling_strategy='minority')\n",
    "X_res, y_res = smote.fit_resample(X_train, y_train)\n",
    "\n",
    "# Train the model on resampled data\n",
    "model = sm.Logit(y_res, X_res)\n",
    "result = model.fit()\n"
   ]
  },
  {
   "cell_type": "code",
   "execution_count": 140,
   "metadata": {
    "colab": {
     "base_uri": "https://localhost:8080/"
    },
    "id": "fxzI1jPXv1BL",
    "outputId": "fb7ae52c-ad17-4289-dd7f-5c34e1a6cfb9"
   },
   "outputs": [
    {
     "name": "stdout",
     "output_type": "stream",
     "text": [
      "Optimization terminated successfully.\n",
      "         Current function value: 0.653320\n",
      "         Iterations 5\n"
     ]
    }
   ],
   "source": [
    "from sklearn.utils import resample\n",
    "\n",
    "# Separate majority and minority classes\n",
    "df_majority = df_copy1[df_copy1['readmitted'] == 0]\n",
    "df_minority = df_copy1[df_copy1['readmitted'] == 1]\n",
    "\n",
    "# Undersample majority class\n",
    "df_majority_undersampled = resample(df_majority,\n",
    "                                   replace=False,\n",
    "                                   n_samples=len(df_minority),\n",
    "                                   random_state=42)\n",
    "\n",
    "# Combine the undersampled majority class with the minority class\n",
    "df_undersampled = pd.concat([df_majority_undersampled, df_minority])\n",
    "\n",
    "# Resample data\n",
    "X_res = df_undersampled.drop(columns='readmitted')\n",
    "y_res = df_undersampled['readmitted']\n",
    "\n",
    "# Train model on balanced data\n",
    "model = sm.Logit(y_res, X_res)\n",
    "result = model.fit()\n"
   ]
  },
  {
   "cell_type": "code",
   "execution_count": 141,
   "metadata": {
    "colab": {
     "base_uri": "https://localhost:8080/"
    },
    "id": "W9jW-Vifv38q",
    "outputId": "ee98f8e8-e646-4b09-b7fe-67ab35043cca"
   },
   "outputs": [
    {
     "name": "stderr",
     "output_type": "stream",
     "text": [
      "c:\\Users\\Admin\\anaconda3\\Lib\\site-packages\\sklearn\\linear_model\\_logistic.py:469: ConvergenceWarning: lbfgs failed to converge (status=1):\n",
      "STOP: TOTAL NO. of ITERATIONS REACHED LIMIT.\n",
      "\n",
      "Increase the number of iterations (max_iter) or scale the data as shown in:\n",
      "    https://scikit-learn.org/stable/modules/preprocessing.html\n",
      "Please also refer to the documentation for alternative solver options:\n",
      "    https://scikit-learn.org/stable/modules/linear_model.html#logistic-regression\n",
      "  n_iter_i = _check_optimize_result(\n"
     ]
    }
   ],
   "source": [
    "from sklearn.linear_model import LogisticRegression\n",
    "\n",
    "# Logistic regression with balanced class weights\n",
    "model = LogisticRegression(class_weight='balanced')\n",
    "result = model.fit(X_train, y_train)\n"
   ]
  },
  {
   "cell_type": "code",
   "execution_count": 142,
   "metadata": {
    "colab": {
     "base_uri": "https://localhost:8080/"
    },
    "id": "YJYVba6GwSbd",
    "outputId": "b99ed362-5c7a-40df-bc21-8f290ca3d9f4"
   },
   "outputs": [
    {
     "name": "stdout",
     "output_type": "stream",
     "text": [
      "Cross-validation F1-score: 0.00975609756097561\n"
     ]
    }
   ],
   "source": [
    "from sklearn.model_selection import cross_val_score\n",
    "\n",
    "rf_model = RandomForestClassifier(class_weight='balanced')\n",
    "cv_scores = cross_val_score(rf_model, X_train, y_train, cv=5, scoring='f1')\n",
    "print(f\"Cross-validation F1-score: {cv_scores.mean()}\")\n"
   ]
  },
  {
   "cell_type": "code",
   "execution_count": 143,
   "metadata": {
    "colab": {
     "base_uri": "https://localhost:8080/"
    },
    "id": "86zPsAHTwJEH",
    "outputId": "c9578991-9bc6-420d-99b0-073d0d4ab528"
   },
   "outputs": [
    {
     "name": "stdout",
     "output_type": "stream",
     "text": [
      "Accuracy: 0.6762417713943746\n",
      "Precision: 0.09269162210338681\n",
      "Recall: 0.6190476190476191\n",
      "F1-Score: 0.16124031007751938\n",
      "ROC AUC Score: 0.6854239805563056\n",
      "Confusion Matrix:\n",
      " [[1078  509]\n",
      " [  32   52]]\n"
     ]
    }
   ],
   "source": [
    "from sklearn.metrics import accuracy_score, precision_score, recall_score, f1_score, roc_auc_score, confusion_matrix\n",
    "\n",
    "# Predict the target variable on the test set\n",
    "y_pred = model.predict(X_test)\n",
    "y_pred_prob = model.predict_proba(X_test)[:, 1]\n",
    "\n",
    "# Calculate performance metrics\n",
    "accuracy = accuracy_score(y_test, y_pred)\n",
    "precision = precision_score(y_test, y_pred)\n",
    "recall = recall_score(y_test, y_pred)\n",
    "f1 = f1_score(y_test, y_pred)\n",
    "roc_auc = roc_auc_score(y_test, y_pred_prob)\n",
    "conf_matrix = confusion_matrix(y_test, y_pred)\n",
    "\n",
    "# Display results\n",
    "print(\"Accuracy:\", accuracy)\n",
    "print(\"Precision:\", precision)\n",
    "print(\"Recall:\", recall)\n",
    "print(\"F1-Score:\", f1)\n",
    "print(\"ROC AUC Score:\", roc_auc)\n",
    "print(\"Confusion Matrix:\\n\", conf_matrix)"
   ]
  },
  {
   "cell_type": "code",
   "execution_count": 144,
   "metadata": {
    "colab": {
     "base_uri": "https://localhost:8080/"
    },
    "id": "RRxaIIMxwqpo",
    "outputId": "b0108366-6ec8-4b1a-e718-c9f4ea0ccfdd"
   },
   "outputs": [
    {
     "name": "stdout",
     "output_type": "stream",
     "text": [
      "Before SMOTE: (4456, 11), readmitted\n",
      "0    4239\n",
      "1     217\n",
      "Name: count, dtype: int64\n",
      "After SMOTE: (8478, 11), readmitted\n",
      "0    4239\n",
      "1    4239\n",
      "Name: count, dtype: int64\n"
     ]
    }
   ],
   "source": [
    "from imblearn.over_sampling import SMOTE\n",
    "from sklearn.model_selection import train_test_split\n",
    "\n",
    "# Assuming X and y are your feature matrix and target vector\n",
    "X_train, X_test, y_train, y_test = train_test_split(X, y, test_size=0.2, random_state=42)\n",
    "\n",
    "# Handle class imbalance with SMOTE\n",
    "smote = SMOTE(sampling_strategy='minority', random_state=42)\n",
    "X_res, y_res = smote.fit_resample(X_train, y_train)\n",
    "\n",
    "print(f\"Before SMOTE: {X_train.shape}, {y_train.value_counts()}\")\n",
    "print(f\"After SMOTE: {X_res.shape}, {y_res.value_counts()}\")\n"
   ]
  },
  {
   "cell_type": "code",
   "execution_count": 145,
   "metadata": {
    "colab": {
     "base_uri": "https://localhost:8080/"
    },
    "id": "hDFYUfm7wqjF",
    "outputId": "b015c5ed-31eb-4f80-d7d2-ac1cce7ceb02"
   },
   "outputs": [
    {
     "name": "stdout",
     "output_type": "stream",
     "text": [
      "Classification Report:\n",
      "               precision    recall  f1-score   support\n",
      "\n",
      "           0       0.95      0.93      0.94      1059\n",
      "           1       0.08      0.13      0.10        55\n",
      "\n",
      "    accuracy                           0.89      1114\n",
      "   macro avg       0.52      0.53      0.52      1114\n",
      "weighted avg       0.91      0.89      0.90      1114\n",
      "\n",
      "Confusion Matrix:\n",
      " [[983  76]\n",
      " [ 48   7]]\n"
     ]
    }
   ],
   "source": [
    "from sklearn.ensemble import RandomForestClassifier\n",
    "from sklearn.metrics import classification_report, confusion_matrix\n",
    "\n",
    "# Train a Random Forest classifier\n",
    "rf_model = RandomForestClassifier(random_state=42)\n",
    "rf_model.fit(X_res, y_res)\n",
    "\n",
    "# Make predictions\n",
    "y_pred = rf_model.predict(X_test)\n",
    "\n",
    "# Evaluate model\n",
    "print(\"Classification Report:\\n\", classification_report(y_test, y_pred))\n",
    "print(\"Confusion Matrix:\\n\", confusion_matrix(y_test, y_pred))\n"
   ]
  },
  {
   "cell_type": "code",
   "execution_count": 146,
   "metadata": {
    "colab": {
     "base_uri": "https://localhost:8080/"
    },
    "id": "Sdqx2KHpwqgJ",
    "outputId": "f2d6adf5-1f66-4bea-f5cf-6e8e8a8d9fce"
   },
   "outputs": [
    {
     "name": "stdout",
     "output_type": "stream",
     "text": [
      "Best Parameters: {'class_weight': 'balanced', 'max_depth': None, 'min_samples_leaf': 1, 'min_samples_split': 2, 'n_estimators': 100}\n",
      "Tuned Model Classification Report:\n",
      "               precision    recall  f1-score   support\n",
      "\n",
      "           0       0.95      0.93      0.94      1059\n",
      "           1       0.08      0.13      0.10        55\n",
      "\n",
      "    accuracy                           0.89      1114\n",
      "   macro avg       0.52      0.53      0.52      1114\n",
      "weighted avg       0.91      0.89      0.90      1114\n",
      "\n",
      "Tuned Model Confusion Matrix:\n",
      " [[983  76]\n",
      " [ 48   7]]\n"
     ]
    }
   ],
   "source": [
    "from sklearn.model_selection import GridSearchCV\n",
    "\n",
    "# Set up hyperparameter grid\n",
    "param_grid = {\n",
    "    'n_estimators': [100, 200],\n",
    "    'max_depth': [10, 20, None],\n",
    "    'min_samples_split': [2, 5],\n",
    "    'min_samples_leaf': [1, 2],\n",
    "    'class_weight': ['balanced', None]\n",
    "}\n",
    "\n",
    "# Grid search\n",
    "grid_search = GridSearchCV(estimator=rf_model, param_grid=param_grid, cv=5, scoring='accuracy', n_jobs=-1)\n",
    "grid_search.fit(X_res, y_res)\n",
    "\n",
    "# Best parameters and model evaluation\n",
    "print(\"Best Parameters:\", grid_search.best_params_)\n",
    "best_rf_model = grid_search.best_estimator_\n",
    "y_pred_best = best_rf_model.predict(X_test)\n",
    "\n",
    "# Evaluate the tuned model\n",
    "print(\"Tuned Model Classification Report:\\n\", classification_report(y_test, y_pred_best))\n",
    "print(\"Tuned Model Confusion Matrix:\\n\", confusion_matrix(y_test, y_pred_best))\n"
   ]
  },
  {
   "cell_type": "code",
   "execution_count": 147,
   "metadata": {
    "colab": {
     "base_uri": "https://localhost:8080/",
     "height": 80
    },
    "id": "GtXwXikwND9s",
    "outputId": "af6dbe8c-3915-4c19-e4b0-3a203422e505"
   },
   "outputs": [
    {
     "data": {
      "text/html": [
       "<style>#sk-container-id-1 {\n",
       "  /* Definition of color scheme common for light and dark mode */\n",
       "  --sklearn-color-text: black;\n",
       "  --sklearn-color-line: gray;\n",
       "  /* Definition of color scheme for unfitted estimators */\n",
       "  --sklearn-color-unfitted-level-0: #fff5e6;\n",
       "  --sklearn-color-unfitted-level-1: #f6e4d2;\n",
       "  --sklearn-color-unfitted-level-2: #ffe0b3;\n",
       "  --sklearn-color-unfitted-level-3: chocolate;\n",
       "  /* Definition of color scheme for fitted estimators */\n",
       "  --sklearn-color-fitted-level-0: #f0f8ff;\n",
       "  --sklearn-color-fitted-level-1: #d4ebff;\n",
       "  --sklearn-color-fitted-level-2: #b3dbfd;\n",
       "  --sklearn-color-fitted-level-3: cornflowerblue;\n",
       "\n",
       "  /* Specific color for light theme */\n",
       "  --sklearn-color-text-on-default-background: var(--sg-text-color, var(--theme-code-foreground, var(--jp-content-font-color1, black)));\n",
       "  --sklearn-color-background: var(--sg-background-color, var(--theme-background, var(--jp-layout-color0, white)));\n",
       "  --sklearn-color-border-box: var(--sg-text-color, var(--theme-code-foreground, var(--jp-content-font-color1, black)));\n",
       "  --sklearn-color-icon: #696969;\n",
       "\n",
       "  @media (prefers-color-scheme: dark) {\n",
       "    /* Redefinition of color scheme for dark theme */\n",
       "    --sklearn-color-text-on-default-background: var(--sg-text-color, var(--theme-code-foreground, var(--jp-content-font-color1, white)));\n",
       "    --sklearn-color-background: var(--sg-background-color, var(--theme-background, var(--jp-layout-color0, #111)));\n",
       "    --sklearn-color-border-box: var(--sg-text-color, var(--theme-code-foreground, var(--jp-content-font-color1, white)));\n",
       "    --sklearn-color-icon: #878787;\n",
       "  }\n",
       "}\n",
       "\n",
       "#sk-container-id-1 {\n",
       "  color: var(--sklearn-color-text);\n",
       "}\n",
       "\n",
       "#sk-container-id-1 pre {\n",
       "  padding: 0;\n",
       "}\n",
       "\n",
       "#sk-container-id-1 input.sk-hidden--visually {\n",
       "  border: 0;\n",
       "  clip: rect(1px 1px 1px 1px);\n",
       "  clip: rect(1px, 1px, 1px, 1px);\n",
       "  height: 1px;\n",
       "  margin: -1px;\n",
       "  overflow: hidden;\n",
       "  padding: 0;\n",
       "  position: absolute;\n",
       "  width: 1px;\n",
       "}\n",
       "\n",
       "#sk-container-id-1 div.sk-dashed-wrapped {\n",
       "  border: 1px dashed var(--sklearn-color-line);\n",
       "  margin: 0 0.4em 0.5em 0.4em;\n",
       "  box-sizing: border-box;\n",
       "  padding-bottom: 0.4em;\n",
       "  background-color: var(--sklearn-color-background);\n",
       "}\n",
       "\n",
       "#sk-container-id-1 div.sk-container {\n",
       "  /* jupyter's `normalize.less` sets `[hidden] { display: none; }`\n",
       "     but bootstrap.min.css set `[hidden] { display: none !important; }`\n",
       "     so we also need the `!important` here to be able to override the\n",
       "     default hidden behavior on the sphinx rendered scikit-learn.org.\n",
       "     See: https://github.com/scikit-learn/scikit-learn/issues/21755 */\n",
       "  display: inline-block !important;\n",
       "  position: relative;\n",
       "}\n",
       "\n",
       "#sk-container-id-1 div.sk-text-repr-fallback {\n",
       "  display: none;\n",
       "}\n",
       "\n",
       "div.sk-parallel-item,\n",
       "div.sk-serial,\n",
       "div.sk-item {\n",
       "  /* draw centered vertical line to link estimators */\n",
       "  background-image: linear-gradient(var(--sklearn-color-text-on-default-background), var(--sklearn-color-text-on-default-background));\n",
       "  background-size: 2px 100%;\n",
       "  background-repeat: no-repeat;\n",
       "  background-position: center center;\n",
       "}\n",
       "\n",
       "/* Parallel-specific style estimator block */\n",
       "\n",
       "#sk-container-id-1 div.sk-parallel-item::after {\n",
       "  content: \"\";\n",
       "  width: 100%;\n",
       "  border-bottom: 2px solid var(--sklearn-color-text-on-default-background);\n",
       "  flex-grow: 1;\n",
       "}\n",
       "\n",
       "#sk-container-id-1 div.sk-parallel {\n",
       "  display: flex;\n",
       "  align-items: stretch;\n",
       "  justify-content: center;\n",
       "  background-color: var(--sklearn-color-background);\n",
       "  position: relative;\n",
       "}\n",
       "\n",
       "#sk-container-id-1 div.sk-parallel-item {\n",
       "  display: flex;\n",
       "  flex-direction: column;\n",
       "}\n",
       "\n",
       "#sk-container-id-1 div.sk-parallel-item:first-child::after {\n",
       "  align-self: flex-end;\n",
       "  width: 50%;\n",
       "}\n",
       "\n",
       "#sk-container-id-1 div.sk-parallel-item:last-child::after {\n",
       "  align-self: flex-start;\n",
       "  width: 50%;\n",
       "}\n",
       "\n",
       "#sk-container-id-1 div.sk-parallel-item:only-child::after {\n",
       "  width: 0;\n",
       "}\n",
       "\n",
       "/* Serial-specific style estimator block */\n",
       "\n",
       "#sk-container-id-1 div.sk-serial {\n",
       "  display: flex;\n",
       "  flex-direction: column;\n",
       "  align-items: center;\n",
       "  background-color: var(--sklearn-color-background);\n",
       "  padding-right: 1em;\n",
       "  padding-left: 1em;\n",
       "}\n",
       "\n",
       "\n",
       "/* Toggleable style: style used for estimator/Pipeline/ColumnTransformer box that is\n",
       "clickable and can be expanded/collapsed.\n",
       "- Pipeline and ColumnTransformer use this feature and define the default style\n",
       "- Estimators will overwrite some part of the style using the `sk-estimator` class\n",
       "*/\n",
       "\n",
       "/* Pipeline and ColumnTransformer style (default) */\n",
       "\n",
       "#sk-container-id-1 div.sk-toggleable {\n",
       "  /* Default theme specific background. It is overwritten whether we have a\n",
       "  specific estimator or a Pipeline/ColumnTransformer */\n",
       "  background-color: var(--sklearn-color-background);\n",
       "}\n",
       "\n",
       "/* Toggleable label */\n",
       "#sk-container-id-1 label.sk-toggleable__label {\n",
       "  cursor: pointer;\n",
       "  display: block;\n",
       "  width: 100%;\n",
       "  margin-bottom: 0;\n",
       "  padding: 0.5em;\n",
       "  box-sizing: border-box;\n",
       "  text-align: center;\n",
       "}\n",
       "\n",
       "#sk-container-id-1 label.sk-toggleable__label-arrow:before {\n",
       "  /* Arrow on the left of the label */\n",
       "  content: \"▸\";\n",
       "  float: left;\n",
       "  margin-right: 0.25em;\n",
       "  color: var(--sklearn-color-icon);\n",
       "}\n",
       "\n",
       "#sk-container-id-1 label.sk-toggleable__label-arrow:hover:before {\n",
       "  color: var(--sklearn-color-text);\n",
       "}\n",
       "\n",
       "/* Toggleable content - dropdown */\n",
       "\n",
       "#sk-container-id-1 div.sk-toggleable__content {\n",
       "  max-height: 0;\n",
       "  max-width: 0;\n",
       "  overflow: hidden;\n",
       "  text-align: left;\n",
       "  /* unfitted */\n",
       "  background-color: var(--sklearn-color-unfitted-level-0);\n",
       "}\n",
       "\n",
       "#sk-container-id-1 div.sk-toggleable__content.fitted {\n",
       "  /* fitted */\n",
       "  background-color: var(--sklearn-color-fitted-level-0);\n",
       "}\n",
       "\n",
       "#sk-container-id-1 div.sk-toggleable__content pre {\n",
       "  margin: 0.2em;\n",
       "  border-radius: 0.25em;\n",
       "  color: var(--sklearn-color-text);\n",
       "  /* unfitted */\n",
       "  background-color: var(--sklearn-color-unfitted-level-0);\n",
       "}\n",
       "\n",
       "#sk-container-id-1 div.sk-toggleable__content.fitted pre {\n",
       "  /* unfitted */\n",
       "  background-color: var(--sklearn-color-fitted-level-0);\n",
       "}\n",
       "\n",
       "#sk-container-id-1 input.sk-toggleable__control:checked~div.sk-toggleable__content {\n",
       "  /* Expand drop-down */\n",
       "  max-height: 200px;\n",
       "  max-width: 100%;\n",
       "  overflow: auto;\n",
       "}\n",
       "\n",
       "#sk-container-id-1 input.sk-toggleable__control:checked~label.sk-toggleable__label-arrow:before {\n",
       "  content: \"▾\";\n",
       "}\n",
       "\n",
       "/* Pipeline/ColumnTransformer-specific style */\n",
       "\n",
       "#sk-container-id-1 div.sk-label input.sk-toggleable__control:checked~label.sk-toggleable__label {\n",
       "  color: var(--sklearn-color-text);\n",
       "  background-color: var(--sklearn-color-unfitted-level-2);\n",
       "}\n",
       "\n",
       "#sk-container-id-1 div.sk-label.fitted input.sk-toggleable__control:checked~label.sk-toggleable__label {\n",
       "  background-color: var(--sklearn-color-fitted-level-2);\n",
       "}\n",
       "\n",
       "/* Estimator-specific style */\n",
       "\n",
       "/* Colorize estimator box */\n",
       "#sk-container-id-1 div.sk-estimator input.sk-toggleable__control:checked~label.sk-toggleable__label {\n",
       "  /* unfitted */\n",
       "  background-color: var(--sklearn-color-unfitted-level-2);\n",
       "}\n",
       "\n",
       "#sk-container-id-1 div.sk-estimator.fitted input.sk-toggleable__control:checked~label.sk-toggleable__label {\n",
       "  /* fitted */\n",
       "  background-color: var(--sklearn-color-fitted-level-2);\n",
       "}\n",
       "\n",
       "#sk-container-id-1 div.sk-label label.sk-toggleable__label,\n",
       "#sk-container-id-1 div.sk-label label {\n",
       "  /* The background is the default theme color */\n",
       "  color: var(--sklearn-color-text-on-default-background);\n",
       "}\n",
       "\n",
       "/* On hover, darken the color of the background */\n",
       "#sk-container-id-1 div.sk-label:hover label.sk-toggleable__label {\n",
       "  color: var(--sklearn-color-text);\n",
       "  background-color: var(--sklearn-color-unfitted-level-2);\n",
       "}\n",
       "\n",
       "/* Label box, darken color on hover, fitted */\n",
       "#sk-container-id-1 div.sk-label.fitted:hover label.sk-toggleable__label.fitted {\n",
       "  color: var(--sklearn-color-text);\n",
       "  background-color: var(--sklearn-color-fitted-level-2);\n",
       "}\n",
       "\n",
       "/* Estimator label */\n",
       "\n",
       "#sk-container-id-1 div.sk-label label {\n",
       "  font-family: monospace;\n",
       "  font-weight: bold;\n",
       "  display: inline-block;\n",
       "  line-height: 1.2em;\n",
       "}\n",
       "\n",
       "#sk-container-id-1 div.sk-label-container {\n",
       "  text-align: center;\n",
       "}\n",
       "\n",
       "/* Estimator-specific */\n",
       "#sk-container-id-1 div.sk-estimator {\n",
       "  font-family: monospace;\n",
       "  border: 1px dotted var(--sklearn-color-border-box);\n",
       "  border-radius: 0.25em;\n",
       "  box-sizing: border-box;\n",
       "  margin-bottom: 0.5em;\n",
       "  /* unfitted */\n",
       "  background-color: var(--sklearn-color-unfitted-level-0);\n",
       "}\n",
       "\n",
       "#sk-container-id-1 div.sk-estimator.fitted {\n",
       "  /* fitted */\n",
       "  background-color: var(--sklearn-color-fitted-level-0);\n",
       "}\n",
       "\n",
       "/* on hover */\n",
       "#sk-container-id-1 div.sk-estimator:hover {\n",
       "  /* unfitted */\n",
       "  background-color: var(--sklearn-color-unfitted-level-2);\n",
       "}\n",
       "\n",
       "#sk-container-id-1 div.sk-estimator.fitted:hover {\n",
       "  /* fitted */\n",
       "  background-color: var(--sklearn-color-fitted-level-2);\n",
       "}\n",
       "\n",
       "/* Specification for estimator info (e.g. \"i\" and \"?\") */\n",
       "\n",
       "/* Common style for \"i\" and \"?\" */\n",
       "\n",
       ".sk-estimator-doc-link,\n",
       "a:link.sk-estimator-doc-link,\n",
       "a:visited.sk-estimator-doc-link {\n",
       "  float: right;\n",
       "  font-size: smaller;\n",
       "  line-height: 1em;\n",
       "  font-family: monospace;\n",
       "  background-color: var(--sklearn-color-background);\n",
       "  border-radius: 1em;\n",
       "  height: 1em;\n",
       "  width: 1em;\n",
       "  text-decoration: none !important;\n",
       "  margin-left: 1ex;\n",
       "  /* unfitted */\n",
       "  border: var(--sklearn-color-unfitted-level-1) 1pt solid;\n",
       "  color: var(--sklearn-color-unfitted-level-1);\n",
       "}\n",
       "\n",
       ".sk-estimator-doc-link.fitted,\n",
       "a:link.sk-estimator-doc-link.fitted,\n",
       "a:visited.sk-estimator-doc-link.fitted {\n",
       "  /* fitted */\n",
       "  border: var(--sklearn-color-fitted-level-1) 1pt solid;\n",
       "  color: var(--sklearn-color-fitted-level-1);\n",
       "}\n",
       "\n",
       "/* On hover */\n",
       "div.sk-estimator:hover .sk-estimator-doc-link:hover,\n",
       ".sk-estimator-doc-link:hover,\n",
       "div.sk-label-container:hover .sk-estimator-doc-link:hover,\n",
       ".sk-estimator-doc-link:hover {\n",
       "  /* unfitted */\n",
       "  background-color: var(--sklearn-color-unfitted-level-3);\n",
       "  color: var(--sklearn-color-background);\n",
       "  text-decoration: none;\n",
       "}\n",
       "\n",
       "div.sk-estimator.fitted:hover .sk-estimator-doc-link.fitted:hover,\n",
       ".sk-estimator-doc-link.fitted:hover,\n",
       "div.sk-label-container:hover .sk-estimator-doc-link.fitted:hover,\n",
       ".sk-estimator-doc-link.fitted:hover {\n",
       "  /* fitted */\n",
       "  background-color: var(--sklearn-color-fitted-level-3);\n",
       "  color: var(--sklearn-color-background);\n",
       "  text-decoration: none;\n",
       "}\n",
       "\n",
       "/* Span, style for the box shown on hovering the info icon */\n",
       ".sk-estimator-doc-link span {\n",
       "  display: none;\n",
       "  z-index: 9999;\n",
       "  position: relative;\n",
       "  font-weight: normal;\n",
       "  right: .2ex;\n",
       "  padding: .5ex;\n",
       "  margin: .5ex;\n",
       "  width: min-content;\n",
       "  min-width: 20ex;\n",
       "  max-width: 50ex;\n",
       "  color: var(--sklearn-color-text);\n",
       "  box-shadow: 2pt 2pt 4pt #999;\n",
       "  /* unfitted */\n",
       "  background: var(--sklearn-color-unfitted-level-0);\n",
       "  border: .5pt solid var(--sklearn-color-unfitted-level-3);\n",
       "}\n",
       "\n",
       ".sk-estimator-doc-link.fitted span {\n",
       "  /* fitted */\n",
       "  background: var(--sklearn-color-fitted-level-0);\n",
       "  border: var(--sklearn-color-fitted-level-3);\n",
       "}\n",
       "\n",
       ".sk-estimator-doc-link:hover span {\n",
       "  display: block;\n",
       "}\n",
       "\n",
       "/* \"?\"-specific style due to the `<a>` HTML tag */\n",
       "\n",
       "#sk-container-id-1 a.estimator_doc_link {\n",
       "  float: right;\n",
       "  font-size: 1rem;\n",
       "  line-height: 1em;\n",
       "  font-family: monospace;\n",
       "  background-color: var(--sklearn-color-background);\n",
       "  border-radius: 1rem;\n",
       "  height: 1rem;\n",
       "  width: 1rem;\n",
       "  text-decoration: none;\n",
       "  /* unfitted */\n",
       "  color: var(--sklearn-color-unfitted-level-1);\n",
       "  border: var(--sklearn-color-unfitted-level-1) 1pt solid;\n",
       "}\n",
       "\n",
       "#sk-container-id-1 a.estimator_doc_link.fitted {\n",
       "  /* fitted */\n",
       "  border: var(--sklearn-color-fitted-level-1) 1pt solid;\n",
       "  color: var(--sklearn-color-fitted-level-1);\n",
       "}\n",
       "\n",
       "/* On hover */\n",
       "#sk-container-id-1 a.estimator_doc_link:hover {\n",
       "  /* unfitted */\n",
       "  background-color: var(--sklearn-color-unfitted-level-3);\n",
       "  color: var(--sklearn-color-background);\n",
       "  text-decoration: none;\n",
       "}\n",
       "\n",
       "#sk-container-id-1 a.estimator_doc_link.fitted:hover {\n",
       "  /* fitted */\n",
       "  background-color: var(--sklearn-color-fitted-level-3);\n",
       "}\n",
       "</style><div id=\"sk-container-id-1\" class=\"sk-top-container\"><div class=\"sk-text-repr-fallback\"><pre>RandomForestClassifier(class_weight={0: 1, 1: 10}, random_state=42)</pre><b>In a Jupyter environment, please rerun this cell to show the HTML representation or trust the notebook. <br />On GitHub, the HTML representation is unable to render, please try loading this page with nbviewer.org.</b></div><div class=\"sk-container\" hidden><div class=\"sk-item\"><div class=\"sk-estimator fitted sk-toggleable\"><input class=\"sk-toggleable__control sk-hidden--visually\" id=\"sk-estimator-id-1\" type=\"checkbox\" checked><label for=\"sk-estimator-id-1\" class=\"sk-toggleable__label fitted sk-toggleable__label-arrow fitted\">&nbsp;&nbsp;RandomForestClassifier<a class=\"sk-estimator-doc-link fitted\" rel=\"noreferrer\" target=\"_blank\" href=\"https://scikit-learn.org/1.4/modules/generated/sklearn.ensemble.RandomForestClassifier.html\">?<span>Documentation for RandomForestClassifier</span></a><span class=\"sk-estimator-doc-link fitted\">i<span>Fitted</span></span></label><div class=\"sk-toggleable__content fitted\"><pre>RandomForestClassifier(class_weight={0: 1, 1: 10}, random_state=42)</pre></div> </div></div></div></div>"
      ],
      "text/plain": [
       "RandomForestClassifier(class_weight={0: 1, 1: 10}, random_state=42)"
      ]
     },
     "execution_count": 147,
     "metadata": {},
     "output_type": "execute_result"
    }
   ],
   "source": [
    "rf = RandomForestClassifier(n_estimators=100, class_weight={0: 1, 1: 10}, random_state=42)\n",
    "rf.fit(X_train, y_train)\n"
   ]
  },
  {
   "cell_type": "code",
   "execution_count": 148,
   "metadata": {
    "colab": {
     "base_uri": "https://localhost:8080/"
    },
    "id": "lfergQSHNHdm",
    "outputId": "de567718-4ed9-4a61-88ab-f0ff3e11a237"
   },
   "outputs": [
    {
     "name": "stdout",
     "output_type": "stream",
     "text": [
      "Precision-Recall AUC: 0.09277841814077785\n"
     ]
    }
   ],
   "source": [
    "from sklearn.metrics import precision_recall_curve, auc\n",
    "\n",
    "precision, recall, _ = precision_recall_curve(y_test, rf.predict_proba(X_test)[:, 1])\n",
    "pr_auc = auc(recall, precision)\n",
    "print(f\"Precision-Recall AUC: {pr_auc}\")\n"
   ]
  },
  {
   "cell_type": "code",
   "execution_count": 149,
   "metadata": {
    "colab": {
     "base_uri": "https://localhost:8080/"
    },
    "id": "JCq4Zwz6NLTC",
    "outputId": "9a05a915-2cd3-4bb5-a994-d448b75a6746"
   },
   "outputs": [
    {
     "name": "stdout",
     "output_type": "stream",
     "text": [
      "              precision    recall  f1-score   support\n",
      "\n",
      "           0       0.95      0.98      0.97      1059\n",
      "           1       0.22      0.09      0.13        55\n",
      "\n",
      "    accuracy                           0.94      1114\n",
      "   macro avg       0.59      0.54      0.55      1114\n",
      "weighted avg       0.92      0.94      0.93      1114\n",
      "\n"
     ]
    }
   ],
   "source": [
    "# Get the predicted probabilities\n",
    "y_prob = rf.predict_proba(X_test)[:, 1]\n",
    "\n",
    "# Adjust the threshold to 0.3 or 0.4\n",
    "y_pred_adjusted = (y_prob >= 0.3).astype(int)\n",
    "\n",
    "# Evaluate the model\n",
    "print(classification_report(y_test, y_pred_adjusted))\n"
   ]
  },
  {
   "cell_type": "markdown",
   "metadata": {
    "id": "sIT6PqhC158O"
   },
   "source": [
    "\n",
    "\n",
    "---\n",
    "\n",
    "\n",
    "\n",
    "---\n",
    "\n",
    "\n",
    "\n",
    "---\n",
    "\n"
   ]
  },
  {
   "cell_type": "code",
   "execution_count": 150,
   "metadata": {
    "colab": {
     "base_uri": "https://localhost:8080/"
    },
    "id": "BVfaex6wNWn1",
    "outputId": "634cc08a-928b-4112-946a-039b86e4c394"
   },
   "outputs": [
    {
     "name": "stderr",
     "output_type": "stream",
     "text": [
      "C:\\Users\\Admin\\AppData\\Local\\Temp\\ipykernel_1512\\3308326735.py:8: SettingWithCopyWarning: \n",
      "A value is trying to be set on a copy of a slice from a DataFrame.\n",
      "Try using .loc[row_indexer,col_indexer] = value instead\n",
      "\n",
      "See the caveats in the documentation: https://pandas.pydata.org/pandas-docs/stable/user_guide/indexing.html#returning-a-view-versus-a-copy\n",
      "  df_filtered['A1Cresult'] = le.fit_transform(df_filtered['A1Cresult'])\n"
     ]
    }
   ],
   "source": [
    "# Step 3: Filter by primary diagnosis (e.g., 'diag_1_name' for specific disease focus)\n",
    "df_filtered = df_copy1[df_copy1['diag_1_name'] == 2]  # Ensure you reference the correct dataframe\n",
    "\n",
    "# Step 4: Encode categorical variables ('A1Cresult', 'Sex', etc.)\n",
    "le = LabelEncoder()\n",
    "\n",
    "# Encode A1Cresult (HbA1c levels)\n",
    "df_filtered['A1Cresult'] = le.fit_transform(df_filtered['A1Cresult'])\n",
    "\n",
    "# Step 5: Select relevant features (e.g., A1Cresult, Age, Sex)\n",
    "X = df_filtered[['age', 'admission_type_id', 'discharge_disposition_id',\n",
    "                 'admission_source_id', 'time_in_hospital', 'medical_specialty',\n",
    "                 'max_glu_serum', 'A1Cresult', 'medical_complexity', 'num_visits']]  # Add more features as necessary\n",
    "\n",
    "# Encoding any categorical features using LabelEncoder as needed\n",
    "# Ensure all features are numeric now\n",
    "\n",
    "# Add constant term for intercept in the model\n",
    "X = sm.add_constant(X)\n",
    "\n",
    "# Define the target variable (y)\n",
    "y = df_filtered['readmitted']"
   ]
  },
  {
   "cell_type": "code",
   "execution_count": 151,
   "metadata": {
    "colab": {
     "base_uri": "https://localhost:8080/"
    },
    "id": "w_F3z1rlNWjc",
    "outputId": "96ea5c8a-7a1f-46d3-ccab-49c0557271b2"
   },
   "outputs": [
    {
     "name": "stdout",
     "output_type": "stream",
     "text": [
      "Training data shape: (4456, 11), Test data shape: (1114, 11)\n"
     ]
    }
   ],
   "source": [
    "import xgboost as xgb\n",
    "from sklearn.model_selection import train_test_split\n",
    "from sklearn.metrics import classification_report, confusion_matrix, roc_auc_score\n",
    "\n",
    "# Split the dataset into training and test sets\n",
    "X_train, X_test, y_train, y_test = train_test_split(X, y, test_size=0.2, random_state=42)\n",
    "\n",
    "print(f\"Training data shape: {X_train.shape}, Test data shape: {X_test.shape}\")\n"
   ]
  },
  {
   "cell_type": "code",
   "execution_count": 152,
   "metadata": {
    "colab": {
     "base_uri": "https://localhost:8080/"
    },
    "id": "Qmujt5L-NWhW",
    "outputId": "0e29f4e6-e41b-4ca4-d251-40628298f0bc"
   },
   "outputs": [
    {
     "name": "stdout",
     "output_type": "stream",
     "text": [
      "Classification Report:\n",
      "               precision    recall  f1-score   support\n",
      "\n",
      "           0       0.95      0.99      0.97      1059\n",
      "           1       0.17      0.04      0.06        55\n",
      "\n",
      "    accuracy                           0.94      1114\n",
      "   macro avg       0.56      0.51      0.52      1114\n",
      "weighted avg       0.91      0.94      0.93      1114\n",
      "\n",
      "Confusion Matrix:\n",
      " [[1049   10]\n",
      " [  53    2]]\n",
      "ROC AUC Score: 0.6235556700145936\n"
     ]
    },
    {
     "name": "stderr",
     "output_type": "stream",
     "text": [
      "c:\\Users\\Admin\\anaconda3\\Lib\\site-packages\\xgboost\\training.py:183: UserWarning: [22:28:36] WARNING: C:\\actions-runner\\_work\\xgboost\\xgboost\\src\\learner.cc:738: \n",
      "Parameters: { \"use_label_encoder\" } are not used.\n",
      "\n",
      "  bst.update(dtrain, iteration=i, fobj=obj)\n"
     ]
    }
   ],
   "source": [
    "import xgboost as xgb\n",
    "from sklearn.model_selection import train_test_split\n",
    "from sklearn.metrics import classification_report, confusion_matrix, roc_auc_score\n",
    "\n",
    "# Assuming X_train and y_train are defined already\n",
    "\n",
    "# Create an XGBoost model\n",
    "xgb_model = xgb.XGBClassifier(\n",
    "    objective='binary:logistic',  # Binary classification\n",
    "    eval_metric='logloss',        # Evaluation metric for log loss\n",
    "    use_label_encoder=False,      # Avoid deprecation warning\n",
    "    random_state=42,\n",
    "    n_jobs=-1                     # Make use of all available cores\n",
    ")\n",
    "\n",
    "# Train the model\n",
    "xgb_model.fit(X_train, y_train)\n",
    "\n",
    "# Make predictions\n",
    "y_pred = xgb_model.predict(X_test)\n",
    "y_pred_prob = xgb_model.predict_proba(X_test)[:, 1]\n",
    "\n",
    "# Evaluate the model\n",
    "print(\"Classification Report:\\n\", classification_report(y_test, y_pred))\n",
    "print(\"Confusion Matrix:\\n\", confusion_matrix(y_test, y_pred))\n",
    "print(f\"ROC AUC Score: {roc_auc_score(y_test, y_pred_prob)}\")\n"
   ]
  },
  {
   "cell_type": "code",
   "execution_count": null,
   "metadata": {
    "id": "5qHU8e3XKIHd"
   },
   "outputs": [],
   "source": []
  },
  {
   "cell_type": "markdown",
   "metadata": {
    "id": "iNdz_9Voz7Sv"
   },
   "source": [
    "\n",
    "\n",
    "---\n",
    "\n"
   ]
  },
  {
   "cell_type": "markdown",
   "metadata": {
    "id": "67OE-U6YdK7K"
   },
   "source": [
    "**Q4**"
   ]
  },
  {
   "cell_type": "code",
   "execution_count": 153,
   "metadata": {
    "colab": {
     "base_uri": "https://localhost:8080/",
     "height": 564
    },
    "id": "V3qDcuXONWfd",
    "outputId": "aa545630-77d8-4d5a-d963-115dc825db93"
   },
   "outputs": [
    {
     "name": "stderr",
     "output_type": "stream",
     "text": [
      "C:\\Users\\Admin\\AppData\\Local\\Temp\\ipykernel_1512\\1243561514.py:8: UserWarning: FigureCanvasAgg is non-interactive, and thus cannot be shown\n",
      "  plt.show()\n"
     ]
    }
   ],
   "source": [
    "\n",
    "\n",
    "def create_confusion_matrix(df, col1, col2):\n",
    "    matrix = pd.crosstab(df[col1], df[col2])\n",
    "    plt.figure(figsize=(8, 6))\n",
    "    sns.heatmap(matrix, annot=True, fmt='d', cmap='Blues')\n",
    "    plt.title(f'Confusion Matrix: {col1} vs {col2}')\n",
    "    plt.xlabel(col2)\n",
    "    plt.ylabel(col1)\n",
    "    plt.show()\n",
    "\n",
    "# Example usage for 'A1Cresult' and 'change'\n",
    "create_confusion_matrix(df, 'A1Cresult', 'change')"
   ]
  },
  {
   "cell_type": "code",
   "execution_count": 154,
   "metadata": {
    "colab": {
     "base_uri": "https://localhost:8080/",
     "height": 1000
    },
    "id": "h5a-SRQsNWdj",
    "outputId": "490bc60c-4795-4497-ad70-ad0aa62dbd6c"
   },
   "outputs": [
    {
     "name": "stderr",
     "output_type": "stream",
     "text": [
      "C:\\Users\\Admin\\AppData\\Local\\Temp\\ipykernel_1512\\3271222880.py:2: RuntimeWarning: More than 20 figures have been opened. Figures created through the pyplot interface (`matplotlib.pyplot.figure`) are retained until explicitly closed and may consume too much memory. (To control this warning, see the rcParam `figure.max_open_warning`). Consider using `matplotlib.pyplot.close()`.\n",
      "  plt.figure(figsize=(10, 6))\n",
      "C:\\Users\\Admin\\AppData\\Local\\Temp\\ipykernel_1512\\3271222880.py:3: FutureWarning: \n",
      "\n",
      "Passing `palette` without assigning `hue` is deprecated and will be removed in v0.14.0. Assign the `x` variable to `hue` and set `legend=False` for the same effect.\n",
      "\n",
      "  sns.boxplot(x=\"change\", y=\"A1Cresult\", data=df, palette=\"coolwarm\")\n",
      "C:\\Users\\Admin\\AppData\\Local\\Temp\\ipykernel_1512\\3271222880.py:7: UserWarning: FigureCanvasAgg is non-interactive, and thus cannot be shown\n",
      "  plt.show()\n",
      "C:\\Users\\Admin\\AppData\\Local\\Temp\\ipykernel_1512\\3271222880.py:11: FutureWarning: \n",
      "\n",
      "Passing `palette` without assigning `hue` is deprecated and will be removed in v0.14.0. Assign the `x` variable to `hue` and set `legend=False` for the same effect.\n",
      "\n",
      "  sns.violinplot(x=\"change\", y=\"A1Cresult\", data=df, palette=\"coolwarm\")\n",
      "C:\\Users\\Admin\\AppData\\Local\\Temp\\ipykernel_1512\\3271222880.py:15: UserWarning: FigureCanvasAgg is non-interactive, and thus cannot be shown\n",
      "  plt.show()\n"
     ]
    }
   ],
   "source": [
    "# Boxplot: HbA1c distribution by medication change category\n",
    "plt.figure(figsize=(10, 6))\n",
    "sns.boxplot(x=\"change\", y=\"A1Cresult\", data=df, palette=\"coolwarm\")\n",
    "plt.title(\"HbA1c Levels Across Medication Changes\")\n",
    "plt.xlabel(\"Medication Change\")\n",
    "plt.ylabel(\"HbA1c (%)\")\n",
    "plt.show()\n",
    "\n",
    "# Violin plot for better distribution insights\n",
    "plt.figure(figsize=(10, 6))\n",
    "sns.violinplot(x=\"change\", y=\"A1Cresult\", data=df, palette=\"coolwarm\")\n",
    "plt.title(\"HbA1c Levels Across Medication Changes\")\n",
    "plt.xlabel(\"Medication Change\")\n",
    "plt.ylabel(\"HbA1c (%)\")\n",
    "plt.show()\n"
   ]
  },
  {
   "cell_type": "code",
   "execution_count": 155,
   "metadata": {
    "colab": {
     "base_uri": "https://localhost:8080/",
     "height": 566
    },
    "id": "YbbJtCsgNWbX",
    "outputId": "c60f2359-90f5-48e0-c3da-6ad5b626ab96"
   },
   "outputs": [
    {
     "name": "stderr",
     "output_type": "stream",
     "text": [
      "C:\\Users\\Admin\\AppData\\Local\\Temp\\ipykernel_1512\\2498774192.py:10: UserWarning: FigureCanvasAgg is non-interactive, and thus cannot be shown\n",
      "  plt.show()\n"
     ]
    }
   ],
   "source": [
    "hba1c_change_counts = df.groupby([\"A1Cresult\", \"change\"]).size().unstack()\n",
    "\n",
    "# Bar plot\n",
    "hba1c_change_counts.plot(kind=\"bar\", stacked=True, figsize=(10, 6), colormap=\"coolwarm\")\n",
    "plt.title(\"Medication Changes Across HbA1c Categories\")\n",
    "plt.xlabel(\"HbA1c Category\")\n",
    "plt.ylabel(\"Count\")\n",
    "plt.legend(title=\"Medication Change\")\n",
    "plt.xticks(rotation=45)\n",
    "plt.show()"
   ]
  },
  {
   "cell_type": "code",
   "execution_count": 156,
   "metadata": {
    "colab": {
     "base_uri": "https://localhost:8080/"
    },
    "id": "1U-OYIvjNWZc",
    "outputId": "1e57ff68-33ea-4355-fa06-9142ccd3145e"
   },
   "outputs": [
    {
     "name": "stdout",
     "output_type": "stream",
     "text": [
      "Chi-Square Statistic: 1028.7692756879674\n",
      "P-Value: 1.0330249206541538e-222\n",
      "Degrees of Freedom: 3\n",
      "There is a significant relationship between HbA1c levels and medication change.\n"
     ]
    }
   ],
   "source": [
    "from scipy.stats import chi2_contingency\n",
    "\n",
    "# Create a contingency table\n",
    "contingency_table = pd.crosstab(df[\"A1Cresult\"], df[\"change\"])\n",
    "\n",
    "# Perform Chi-Square Test\n",
    "chi2, p, dof, expected = chi2_contingency(contingency_table)\n",
    "\n",
    "print(\"Chi-Square Statistic:\", chi2)\n",
    "print(\"P-Value:\", p)\n",
    "print(\"Degrees of Freedom:\", dof)\n",
    "\n",
    "# Interpretation\n",
    "if p < 0.05:\n",
    "    print(\"There is a significant relationship between HbA1c levels and medication change.\")\n",
    "else:\n",
    "    print(\"No significant relationship found between HbA1c levels and medication change.\")\n"
   ]
  },
  {
   "cell_type": "code",
   "execution_count": 157,
   "metadata": {
    "colab": {
     "base_uri": "https://localhost:8080/",
     "height": 564
    },
    "id": "H5efOjAfNWXQ",
    "outputId": "14f8b2a7-1cb9-4a67-8688-cb5c80f4de89"
   },
   "outputs": [
    {
     "name": "stderr",
     "output_type": "stream",
     "text": [
      "C:\\Users\\Admin\\AppData\\Local\\Temp\\ipykernel_1512\\608236916.py:6: UserWarning: FigureCanvasAgg is non-interactive, and thus cannot be shown\n",
      "  plt.show()\n"
     ]
    }
   ],
   "source": [
    "plt.figure(figsize=(10, 6))\n",
    "sns.heatmap(pd.DataFrame(expected, index=contingency_table.index, columns=contingency_table.columns), annot=True, cmap=\"coolwarm\", fmt=\".2f\")\n",
    "plt.title(\"Expected Frequency of Medication Changes Across HbA1c Categories\")\n",
    "plt.xlabel(\"Medication Change\")\n",
    "plt.ylabel(\"HbA1c Category\")\n",
    "plt.show()\n"
   ]
  },
  {
   "cell_type": "code",
   "execution_count": null,
   "metadata": {
    "id": "gFlHMsWuNWVS"
   },
   "outputs": [],
   "source": []
  },
  {
   "cell_type": "markdown",
   "metadata": {
    "id": "An7jJQZ_0C8k"
   },
   "source": [
    "\n",
    "\n",
    "---\n",
    "\n"
   ]
  },
  {
   "cell_type": "markdown",
   "metadata": {
    "id": "3yAGY5v3eRrl"
   },
   "source": [
    "**Q5**"
   ]
  },
  {
   "cell_type": "code",
   "execution_count": 158,
   "metadata": {
    "colab": {
     "base_uri": "https://localhost:8080/",
     "height": 545
    },
    "id": "AvD_Q2J2eQwe",
    "outputId": "8f2f7790-d8ef-4b93-f765-833093bfe54f"
   },
   "outputs": [
    {
     "name": "stderr",
     "output_type": "stream",
     "text": [
      "C:\\Users\\Admin\\AppData\\Local\\Temp\\ipykernel_1512\\1320924593.py:27: UserWarning: FigureCanvasAgg is non-interactive, and thus cannot be shown\n",
      "  plt.show()\n"
     ]
    }
   ],
   "source": [
    "def cramers_v(x, y):\n",
    "    contingency_table = pd.crosstab(df[x], df[y])\n",
    "    chi2 = chi2_contingency(contingency_table)[0]\n",
    "    n = contingency_table.sum().sum()\n",
    "    phi2 = chi2 / n\n",
    "    r, k = contingency_table.shape\n",
    "    phi2corr = max(0, phi2 - ((k-1)*(r-1)) / (n-1))\n",
    "    r_corr = r - ((r-1)**2) / (n-1)\n",
    "    k_corr = k - ((k-1)**2) / (n-1)\n",
    "    return np.sqrt(phi2corr / min(r_corr-1, k_corr-1))\n",
    "\n",
    "# Compute pairwise Cramér's V for categorical variables\n",
    "categorical_vars = [\"A1Cresult\", \"change\"]  # Add other categorical columns if needed\n",
    "cramers_matrix = pd.DataFrame(index=categorical_vars, columns=categorical_vars)\n",
    "\n",
    "for var1 in categorical_vars:\n",
    "    for var2 in categorical_vars:\n",
    "        cramers_matrix.loc[var1, var2] = cramers_v(var1, var2)\n",
    "\n",
    "# Convert to numeric type\n",
    "cramers_matrix = cramers_matrix.astype(float)\n",
    "\n",
    "# Plot heatmap\n",
    "plt.figure(figsize=(8, 6))\n",
    "sns.heatmap(cramers_matrix, annot=True, cmap=\"coolwarm\", fmt=\".2f\")\n",
    "plt.title(\"Cramér's V Heatmap (Categorical Correlation)\")\n",
    "plt.show()"
   ]
  },
  {
   "cell_type": "markdown",
   "metadata": {
    "id": "ra7DFW1aedsO"
   },
   "source": [
    "Values close to 1 → Strong association (potential multicollinearity).\n",
    "Values close to 0 → Weak association (low multicollinearity)."
   ]
  },
  {
   "cell_type": "code",
   "execution_count": null,
   "metadata": {
    "id": "uaYMn4ZkmOll"
   },
   "outputs": [],
   "source": []
  },
  {
   "cell_type": "code",
   "execution_count": 159,
   "metadata": {
    "colab": {
     "base_uri": "https://localhost:8080/"
    },
    "id": "NAKYEWxNeQq2",
    "outputId": "449d43bd-be05-46d6-b6eb-46cb3e42e431"
   },
   "outputs": [
    {
     "name": "stdout",
     "output_type": "stream",
     "text": [
      "insulin          int64\n",
      "dm               int64\n",
      "diabetesMed      int32\n",
      "change           int32\n",
      "A1Cresult        int32\n",
      "max_glu_serum    int32\n",
      "readmitted       int32\n",
      "dtype: object\n"
     ]
    }
   ],
   "source": [
    "print(df_encoded.dtypes)\n"
   ]
  },
  {
   "cell_type": "code",
   "execution_count": 160,
   "metadata": {
    "id": "tZ8a6658eQos"
   },
   "outputs": [],
   "source": [
    "df_encoded = df_encoded.apply(pd.to_numeric, errors='coerce')\n"
   ]
  },
  {
   "cell_type": "code",
   "execution_count": 161,
   "metadata": {
    "colab": {
     "base_uri": "https://localhost:8080/"
    },
    "id": "2oalWBrgeQmr",
    "outputId": "8540a831-6e7f-4449-b9b3-7e5b2b3be952"
   },
   "outputs": [
    {
     "name": "stdout",
     "output_type": "stream",
     "text": [
      "Non-numeric columns: Index([], dtype='object')\n"
     ]
    }
   ],
   "source": [
    "X = df_encoded.drop(columns=[\"readmitted\"])  # Replace with actual target variable\n",
    "\n",
    "# Check for non-numeric columns\n",
    "non_numeric_cols = X.select_dtypes(exclude=['number']).columns\n",
    "print(\"Non-numeric columns:\", non_numeric_cols)\n",
    "\n",
    "# Convert to numeric (if necessary)\n",
    "X[non_numeric_cols] = X[non_numeric_cols].apply(pd.to_numeric, errors='coerce')\n"
   ]
  },
  {
   "cell_type": "code",
   "execution_count": 162,
   "metadata": {
    "colab": {
     "base_uri": "https://localhost:8080/"
    },
    "id": "b6Fai0I7eQkf",
    "outputId": "e46de390-de65-4866-cf35-e312ba69b5cb"
   },
   "outputs": [
    {
     "name": "stdout",
     "output_type": "stream",
     "text": [
      "         Feature        VIF\n",
      "0        insulin   5.324069\n",
      "1             dm   6.230254\n",
      "2    diabetesMed   5.214457\n",
      "3         change   4.191526\n",
      "4      A1Cresult  12.346581\n",
      "5  max_glu_serum  20.397580\n"
     ]
    }
   ],
   "source": [
    "from statsmodels.stats.outliers_influence import variance_inflation_factor\n",
    "\n",
    "# Ensure X is a NumPy array\n",
    "X_values = X.values.astype(float)\n",
    "\n",
    "# Compute VIF\n",
    "vif_data = pd.DataFrame()\n",
    "vif_data[\"Feature\"] = X.columns\n",
    "vif_data[\"VIF\"] = [variance_inflation_factor(X_values, i) for i in range(X.shape[1])]\n",
    "\n",
    "print(vif_data)\n"
   ]
  },
  {
   "cell_type": "code",
   "execution_count": 163,
   "metadata": {
    "colab": {
     "base_uri": "https://localhost:8080/"
    },
    "id": "jRf3Gi_LeQgV",
    "outputId": "3bea9dcd-a0e1-4326-8681-c56547f82fb5"
   },
   "outputs": [
    {
     "name": "stdout",
     "output_type": "stream",
     "text": [
      "Dropping features with high VIF: ['A1Cresult', 'max_glu_serum']\n",
      "\n",
      "Updated VIF Data:\n",
      "       Feature       VIF\n",
      "0      insulin  5.320226\n",
      "1           dm  5.894093\n",
      "2  diabetesMed  2.227447\n",
      "3       change  1.513446\n",
      "No features with VIF > 10 found. Exiting the loop.\n"
     ]
    }
   ],
   "source": [
    "# Loop to drop features with VIF > 10\n",
    "while True:\n",
    "    # Identify features with high VIF (VIF > 10)\n",
    "    high_vif_cols = vif_data[vif_data[\"VIF\"] > 10][\"Feature\"].tolist()\n",
    "\n",
    "    # If there are any features with high VIF, drop them\n",
    "    if high_vif_cols:\n",
    "        print(f\"Dropping features with high VIF: {high_vif_cols}\")\n",
    "        X.drop(columns=high_vif_cols, inplace=True)\n",
    "\n",
    "        # Recompute VIF after dropping features\n",
    "        X_values = X.values.astype(float)\n",
    "        vif_data = pd.DataFrame()\n",
    "        vif_data[\"Feature\"] = X.columns\n",
    "        vif_data[\"VIF\"] = [variance_inflation_factor(X_values, i) for i in range(X.shape[1])]\n",
    "\n",
    "        # Print updated VIF\n",
    "        print(\"\\nUpdated VIF Data:\")\n",
    "        print(vif_data)\n",
    "    else:\n",
    "        print(\"No features with VIF > 10 found. Exiting the loop.\")\n",
    "        break"
   ]
  },
  {
   "cell_type": "code",
   "execution_count": 164,
   "metadata": {
    "colab": {
     "base_uri": "https://localhost:8080/"
    },
    "id": "qC-tfP68Iy9N",
    "outputId": "f3296d41-d844-4ca3-d10e-ae758fbee294"
   },
   "outputs": [
    {
     "name": "stdout",
     "output_type": "stream",
     "text": [
      "Features with VIF < 10:\n"
     ]
    },
    {
     "data": {
      "text/plain": [
       "['insulin', 'dm', 'diabetesMed', 'change']"
      ]
     },
     "execution_count": 164,
     "metadata": {},
     "output_type": "execute_result"
    }
   ],
   "source": [
    "# prompt: make a list of variables having vif < 10\n",
    "\n",
    "# Assuming vif_data DataFrame is created as in the provided code.\n",
    "\n",
    "# Filter for features with VIF < 10\n",
    "low_vif_features = vif_data[vif_data[\"VIF\"] < 10][\"Feature\"].tolist()\n",
    "\n",
    "print(\"Features with VIF < 10:\")\n",
    "low_vif_features"
   ]
  },
  {
   "cell_type": "code",
   "execution_count": 165,
   "metadata": {
    "colab": {
     "base_uri": "https://localhost:8080/"
    },
    "id": "AOqrMvOOeQd5",
    "outputId": "b1851035-f5ea-4686-a294-980c70a2a4ac"
   },
   "outputs": [
    {
     "name": "stdout",
     "output_type": "stream",
     "text": [
      "Classification Report:\n",
      "               precision    recall  f1-score   support\n",
      "\n",
      "           0       0.95      1.00      0.98     13151\n",
      "           1       0.00      0.00      0.00       621\n",
      "\n",
      "    accuracy                           0.95     13772\n",
      "   macro avg       0.48      0.50      0.49     13772\n",
      "weighted avg       0.91      0.95      0.93     13772\n",
      "\n",
      "Confusion Matrix:\n",
      " [[13151     0]\n",
      " [  621     0]]\n",
      "Accuracy: 0.9549085100203311\n"
     ]
    },
    {
     "name": "stderr",
     "output_type": "stream",
     "text": [
      "c:\\Users\\Admin\\anaconda3\\Lib\\site-packages\\sklearn\\metrics\\_classification.py:1509: UndefinedMetricWarning: Precision is ill-defined and being set to 0.0 in labels with no predicted samples. Use `zero_division` parameter to control this behavior.\n",
      "  _warn_prf(average, modifier, f\"{metric.capitalize()} is\", len(result))\n",
      "c:\\Users\\Admin\\anaconda3\\Lib\\site-packages\\sklearn\\metrics\\_classification.py:1509: UndefinedMetricWarning: Precision is ill-defined and being set to 0.0 in labels with no predicted samples. Use `zero_division` parameter to control this behavior.\n",
      "  _warn_prf(average, modifier, f\"{metric.capitalize()} is\", len(result))\n",
      "c:\\Users\\Admin\\anaconda3\\Lib\\site-packages\\sklearn\\metrics\\_classification.py:1509: UndefinedMetricWarning: Precision is ill-defined and being set to 0.0 in labels with no predicted samples. Use `zero_division` parameter to control this behavior.\n",
      "  _warn_prf(average, modifier, f\"{metric.capitalize()} is\", len(result))\n"
     ]
    }
   ],
   "source": [
    "# prompt: using the features above, fit a binary logistic regression model for predicting readmitted\n",
    "\n",
    "from sklearn.linear_model import LogisticRegression\n",
    "\n",
    "# Scale numeric features only\n",
    "scaler = StandardScaler()\n",
    "X_scaled = scaler.fit_transform(X)\n",
    "\n",
    "# Assuming X and y are your feature matrix and target vector after preprocessing and feature selection\n",
    "X = df_encoded[low_vif_features]\n",
    "y = df_encoded['readmitted']\n",
    "\n",
    "# Split the data\n",
    "X_train, X_test, y_train, y_test = train_test_split(X, y, test_size=0.2, random_state=42)\n",
    "\n",
    "# Initialize and train the logistic regression model\n",
    "logreg_model = LogisticRegression(random_state=42)  # You can add hyperparameters here if needed\n",
    "logreg_model.fit(X_train, y_train)\n",
    "\n",
    "# Make predictions on the test set\n",
    "y_pred = logreg_model.predict(X_test)\n",
    "\n",
    "# Evaluate the model\n",
    "print(\"Classification Report:\\n\", classification_report(y_test, y_pred))\n",
    "print(\"Confusion Matrix:\\n\", confusion_matrix(y_test, y_pred))\n",
    "print(f\"Accuracy: {accuracy_score(y_test, y_pred)}\")"
   ]
  },
  {
   "cell_type": "code",
   "execution_count": 166,
   "metadata": {
    "colab": {
     "base_uri": "https://localhost:8080/"
    },
    "id": "ipp_LO089WxA",
    "outputId": "59177619-d792-44cd-fc15-831a3819f8e9"
   },
   "outputs": [
    {
     "name": "stdout",
     "output_type": "stream",
     "text": [
      "Collecting catboostNote: you may need to restart the kernel to use updated packages.\n",
      "\n",
      "  Downloading catboost-1.2.8-cp312-cp312-win_amd64.whl.metadata (1.5 kB)\n",
      "Collecting graphviz (from catboost)\n",
      "  Downloading graphviz-0.21-py3-none-any.whl.metadata (12 kB)\n",
      "Requirement already satisfied: matplotlib in c:\\users\\admin\\anaconda3\\lib\\site-packages (from catboost) (3.8.4)\n",
      "Requirement already satisfied: numpy<3.0,>=1.16.0 in c:\\users\\admin\\anaconda3\\lib\\site-packages (from catboost) (1.26.4)\n",
      "Requirement already satisfied: pandas>=0.24 in c:\\users\\admin\\anaconda3\\lib\\site-packages (from catboost) (2.2.2)\n",
      "Requirement already satisfied: scipy in c:\\users\\admin\\anaconda3\\lib\\site-packages (from catboost) (1.13.1)\n",
      "Requirement already satisfied: plotly in c:\\users\\admin\\anaconda3\\lib\\site-packages (from catboost) (5.22.0)\n",
      "Requirement already satisfied: six in c:\\users\\admin\\anaconda3\\lib\\site-packages (from catboost) (1.16.0)\n",
      "Requirement already satisfied: python-dateutil>=2.8.2 in c:\\users\\admin\\anaconda3\\lib\\site-packages (from pandas>=0.24->catboost) (2.9.0.post0)\n",
      "Requirement already satisfied: pytz>=2020.1 in c:\\users\\admin\\anaconda3\\lib\\site-packages (from pandas>=0.24->catboost) (2024.1)\n",
      "Requirement already satisfied: tzdata>=2022.7 in c:\\users\\admin\\anaconda3\\lib\\site-packages (from pandas>=0.24->catboost) (2023.3)\n",
      "Requirement already satisfied: contourpy>=1.0.1 in c:\\users\\admin\\anaconda3\\lib\\site-packages (from matplotlib->catboost) (1.2.0)\n",
      "Requirement already satisfied: cycler>=0.10 in c:\\users\\admin\\anaconda3\\lib\\site-packages (from matplotlib->catboost) (0.11.0)\n",
      "Requirement already satisfied: fonttools>=4.22.0 in c:\\users\\admin\\anaconda3\\lib\\site-packages (from matplotlib->catboost) (4.51.0)\n",
      "Requirement already satisfied: kiwisolver>=1.3.1 in c:\\users\\admin\\anaconda3\\lib\\site-packages (from matplotlib->catboost) (1.4.4)\n",
      "Requirement already satisfied: packaging>=20.0 in c:\\users\\admin\\anaconda3\\lib\\site-packages (from matplotlib->catboost) (23.2)\n",
      "Requirement already satisfied: pillow>=8 in c:\\users\\admin\\anaconda3\\lib\\site-packages (from matplotlib->catboost) (10.3.0)\n",
      "Requirement already satisfied: pyparsing>=2.3.1 in c:\\users\\admin\\anaconda3\\lib\\site-packages (from matplotlib->catboost) (3.0.9)\n",
      "Requirement already satisfied: tenacity>=6.2.0 in c:\\users\\admin\\anaconda3\\lib\\site-packages (from plotly->catboost) (8.2.2)\n",
      "Downloading catboost-1.2.8-cp312-cp312-win_amd64.whl (102.4 MB)\n",
      "   ---------------------------------------- 0.0/102.4 MB ? eta -:--:--\n",
      "   ---------------------------------------- 0.0/102.4 MB ? eta -:--:--\n",
      "   ---------------------------------------- 0.0/102.4 MB ? eta -:--:--\n",
      "   ---------------------------------------- 0.0/102.4 MB 435.7 kB/s eta 0:03:55\n",
      "   ---------------------------------------- 0.0/102.4 MB 326.8 kB/s eta 0:05:14\n",
      "   ---------------------------------------- 0.1/102.4 MB 508.4 kB/s eta 0:03:22\n",
      "   ---------------------------------------- 0.2/102.4 MB 1.1 MB/s eta 0:01:37\n",
      "   ---------------------------------------- 0.8/102.4 MB 3.1 MB/s eta 0:00:33\n",
      "   ---------------------------------------- 1.0/102.4 MB 3.3 MB/s eta 0:00:31\n",
      "   ---------------------------------------- 1.2/102.4 MB 3.3 MB/s eta 0:00:31\n",
      "   ---------------------------------------- 1.2/102.4 MB 3.3 MB/s eta 0:00:31\n",
      "    --------------------------------------- 1.4/102.4 MB 2.8 MB/s eta 0:00:37\n",
      "    --------------------------------------- 2.0/102.4 MB 3.6 MB/s eta 0:00:29\n",
      "    --------------------------------------- 2.2/102.4 MB 3.6 MB/s eta 0:00:28\n",
      "    --------------------------------------- 2.5/102.4 MB 3.6 MB/s eta 0:00:28\n",
      "   - -------------------------------------- 2.8/102.4 MB 3.6 MB/s eta 0:00:28\n",
      "   - -------------------------------------- 3.0/102.4 MB 3.7 MB/s eta 0:00:28\n",
      "   - -------------------------------------- 3.2/102.4 MB 3.6 MB/s eta 0:00:28\n",
      "   - -------------------------------------- 3.5/102.4 MB 3.6 MB/s eta 0:00:28\n",
      "   - -------------------------------------- 3.9/102.4 MB 3.7 MB/s eta 0:00:27\n",
      "   - -------------------------------------- 4.3/102.4 MB 3.7 MB/s eta 0:00:27\n",
      "   - -------------------------------------- 4.8/102.4 MB 3.7 MB/s eta 0:00:27\n",
      "   -- ------------------------------------- 5.1/102.4 MB 3.7 MB/s eta 0:00:27\n",
      "   -- ------------------------------------- 5.6/102.4 MB 3.8 MB/s eta 0:00:26\n",
      "   -- ------------------------------------- 5.8/102.4 MB 3.8 MB/s eta 0:00:26\n",
      "   -- ------------------------------------- 6.2/102.4 MB 3.8 MB/s eta 0:00:26\n",
      "   -- ------------------------------------- 6.7/102.4 MB 3.8 MB/s eta 0:00:26\n",
      "   -- ------------------------------------- 7.0/102.4 MB 3.8 MB/s eta 0:00:26\n",
      "   -- ------------------------------------- 7.1/102.4 MB 3.8 MB/s eta 0:00:26\n",
      "   -- ------------------------------------- 7.1/102.4 MB 3.8 MB/s eta 0:00:26\n",
      "   --- ------------------------------------ 8.5/102.4 MB 3.7 MB/s eta 0:00:26\n",
      "   --- ------------------------------------ 8.9/102.4 MB 3.8 MB/s eta 0:00:25\n",
      "   --- ------------------------------------ 9.2/102.4 MB 3.8 MB/s eta 0:00:25\n",
      "   --- ------------------------------------ 9.7/102.4 MB 3.8 MB/s eta 0:00:25\n",
      "   --- ------------------------------------ 9.9/102.4 MB 3.7 MB/s eta 0:00:26\n",
      "   ---- ----------------------------------- 11.0/102.4 MB 3.9 MB/s eta 0:00:24\n",
      "   ---- ----------------------------------- 11.3/102.4 MB 3.9 MB/s eta 0:00:24\n",
      "   ---- ----------------------------------- 11.6/102.4 MB 4.0 MB/s eta 0:00:23\n",
      "   ---- ----------------------------------- 11.8/102.4 MB 3.9 MB/s eta 0:00:23\n",
      "   ---- ----------------------------------- 12.0/102.4 MB 3.9 MB/s eta 0:00:24\n",
      "   ---- ----------------------------------- 12.2/102.4 MB 3.9 MB/s eta 0:00:24\n",
      "   ---- ----------------------------------- 12.4/102.4 MB 3.9 MB/s eta 0:00:24\n",
      "   ---- ----------------------------------- 12.6/102.4 MB 3.9 MB/s eta 0:00:24\n",
      "   ---- ----------------------------------- 12.8/102.4 MB 3.9 MB/s eta 0:00:24\n",
      "   ----- ---------------------------------- 13.0/102.4 MB 3.9 MB/s eta 0:00:23\n",
      "   ----- ---------------------------------- 13.3/102.4 MB 3.9 MB/s eta 0:00:23\n",
      "   ----- ---------------------------------- 13.7/102.4 MB 3.9 MB/s eta 0:00:23\n",
      "   ----- ---------------------------------- 14.0/102.4 MB 3.9 MB/s eta 0:00:23\n",
      "   ----- ---------------------------------- 14.6/102.4 MB 3.9 MB/s eta 0:00:23\n",
      "   ----- ---------------------------------- 14.9/102.4 MB 3.9 MB/s eta 0:00:23\n",
      "   ----- ---------------------------------- 15.3/102.4 MB 3.9 MB/s eta 0:00:23\n",
      "   ------ --------------------------------- 15.9/102.4 MB 3.9 MB/s eta 0:00:23\n",
      "   ------ --------------------------------- 16.3/102.4 MB 3.9 MB/s eta 0:00:23\n",
      "   ------ --------------------------------- 16.6/102.4 MB 3.9 MB/s eta 0:00:22\n",
      "   ------ --------------------------------- 16.9/102.4 MB 3.9 MB/s eta 0:00:22\n",
      "   ------ --------------------------------- 17.3/102.4 MB 3.9 MB/s eta 0:00:22\n",
      "   ------ --------------------------------- 17.6/102.4 MB 4.4 MB/s eta 0:00:20\n",
      "   ------ --------------------------------- 17.9/102.4 MB 4.3 MB/s eta 0:00:20\n",
      "   ------- -------------------------------- 18.1/102.4 MB 4.1 MB/s eta 0:00:21\n",
      "   ------- -------------------------------- 18.5/102.4 MB 4.0 MB/s eta 0:00:21\n",
      "   ------- -------------------------------- 18.8/102.4 MB 3.9 MB/s eta 0:00:22\n",
      "   ------- -------------------------------- 19.1/102.4 MB 3.9 MB/s eta 0:00:22\n",
      "   ------- -------------------------------- 19.5/102.4 MB 3.9 MB/s eta 0:00:22\n",
      "   ------- -------------------------------- 19.9/102.4 MB 3.9 MB/s eta 0:00:22\n",
      "   ------- -------------------------------- 20.2/102.4 MB 4.1 MB/s eta 0:00:21\n",
      "   ------- -------------------------------- 20.4/102.4 MB 4.0 MB/s eta 0:00:21\n",
      "   -------- ------------------------------- 20.7/102.4 MB 4.0 MB/s eta 0:00:21\n",
      "   -------- ------------------------------- 21.0/102.4 MB 3.9 MB/s eta 0:00:21\n",
      "   -------- ------------------------------- 21.2/102.4 MB 3.9 MB/s eta 0:00:21\n",
      "   -------- ------------------------------- 21.4/102.4 MB 3.9 MB/s eta 0:00:21\n",
      "   -------- ------------------------------- 21.7/102.4 MB 3.9 MB/s eta 0:00:21\n",
      "   -------- ------------------------------- 22.1/102.4 MB 3.9 MB/s eta 0:00:21\n",
      "   -------- ------------------------------- 22.3/102.4 MB 3.9 MB/s eta 0:00:21\n",
      "   -------- ------------------------------- 22.5/102.4 MB 3.9 MB/s eta 0:00:21\n",
      "   -------- ------------------------------- 22.7/102.4 MB 3.9 MB/s eta 0:00:21\n",
      "   --------- ------------------------------ 23.1/102.4 MB 3.9 MB/s eta 0:00:21\n",
      "   --------- ------------------------------ 23.4/102.4 MB 3.9 MB/s eta 0:00:21\n",
      "   --------- ------------------------------ 23.6/102.4 MB 3.9 MB/s eta 0:00:21\n",
      "   --------- ------------------------------ 23.8/102.4 MB 3.9 MB/s eta 0:00:21\n",
      "   --------- ------------------------------ 24.1/102.4 MB 3.9 MB/s eta 0:00:21\n",
      "   --------- ------------------------------ 24.3/102.4 MB 3.9 MB/s eta 0:00:21\n",
      "   --------- ------------------------------ 24.5/102.4 MB 3.9 MB/s eta 0:00:20\n",
      "   --------- ------------------------------ 24.7/102.4 MB 3.9 MB/s eta 0:00:20\n",
      "   --------- ------------------------------ 24.9/102.4 MB 3.9 MB/s eta 0:00:20\n",
      "   --------- ------------------------------ 25.2/102.4 MB 3.9 MB/s eta 0:00:20\n",
      "   --------- ------------------------------ 25.4/102.4 MB 3.9 MB/s eta 0:00:20\n",
      "   ---------- ----------------------------- 25.6/102.4 MB 3.9 MB/s eta 0:00:20\n",
      "   ---------- ----------------------------- 25.8/102.4 MB 3.9 MB/s eta 0:00:20\n",
      "   ---------- ----------------------------- 26.2/102.4 MB 3.9 MB/s eta 0:00:20\n",
      "   ---------- ----------------------------- 26.4/102.4 MB 3.9 MB/s eta 0:00:20\n",
      "   ---------- ----------------------------- 26.7/102.4 MB 3.9 MB/s eta 0:00:20\n",
      "   ---------- ----------------------------- 27.0/102.4 MB 3.9 MB/s eta 0:00:20\n",
      "   ---------- ----------------------------- 27.2/102.4 MB 3.9 MB/s eta 0:00:20\n",
      "   ---------- ----------------------------- 27.4/102.4 MB 3.9 MB/s eta 0:00:20\n",
      "   ---------- ----------------------------- 28.2/102.4 MB 3.9 MB/s eta 0:00:20\n",
      "   ----------- ---------------------------- 28.7/102.4 MB 3.9 MB/s eta 0:00:19\n",
      "   ----------- ---------------------------- 28.8/102.4 MB 3.9 MB/s eta 0:00:19\n",
      "   ----------- ---------------------------- 29.1/102.4 MB 3.9 MB/s eta 0:00:19\n",
      "   ----------- ---------------------------- 29.4/102.4 MB 3.9 MB/s eta 0:00:19\n",
      "   ----------- ---------------------------- 30.2/102.4 MB 3.9 MB/s eta 0:00:19\n",
      "   ------------ --------------------------- 30.9/102.4 MB 3.9 MB/s eta 0:00:19\n",
      "   ------------ --------------------------- 31.1/102.4 MB 3.9 MB/s eta 0:00:19\n",
      "   ------------ --------------------------- 31.3/102.4 MB 3.9 MB/s eta 0:00:19\n",
      "   ------------ --------------------------- 31.5/102.4 MB 3.9 MB/s eta 0:00:19\n",
      "   ------------ --------------------------- 31.7/102.4 MB 3.9 MB/s eta 0:00:19\n",
      "   ------------ --------------------------- 31.9/102.4 MB 3.9 MB/s eta 0:00:19\n",
      "   ------------ --------------------------- 32.2/102.4 MB 3.9 MB/s eta 0:00:19\n",
      "   ------------ --------------------------- 32.8/102.4 MB 3.9 MB/s eta 0:00:18\n",
      "   ------------- -------------------------- 33.5/102.4 MB 3.9 MB/s eta 0:00:18\n",
      "   ------------- -------------------------- 34.0/102.4 MB 3.9 MB/s eta 0:00:18\n",
      "   ------------- -------------------------- 35.0/102.4 MB 3.9 MB/s eta 0:00:18\n",
      "   ------------- -------------------------- 35.6/102.4 MB 3.9 MB/s eta 0:00:18\n",
      "   ------------- -------------------------- 35.8/102.4 MB 3.9 MB/s eta 0:00:18\n",
      "   -------------- ------------------------- 36.1/102.4 MB 3.9 MB/s eta 0:00:18\n",
      "   -------------- ------------------------- 36.7/102.4 MB 3.9 MB/s eta 0:00:17\n",
      "   -------------- ------------------------- 37.3/102.4 MB 3.9 MB/s eta 0:00:17\n",
      "   -------------- ------------------------- 37.6/102.4 MB 3.9 MB/s eta 0:00:17\n",
      "   -------------- ------------------------- 37.9/102.4 MB 3.9 MB/s eta 0:00:17\n",
      "   -------------- ------------------------- 38.1/102.4 MB 3.9 MB/s eta 0:00:17\n",
      "   -------------- ------------------------- 38.3/102.4 MB 3.9 MB/s eta 0:00:17\n",
      "   --------------- ------------------------ 38.5/102.4 MB 3.9 MB/s eta 0:00:17\n",
      "   --------------- ------------------------ 38.8/102.4 MB 3.9 MB/s eta 0:00:17\n",
      "   --------------- ------------------------ 39.5/102.4 MB 3.9 MB/s eta 0:00:17\n",
      "   --------------- ------------------------ 39.8/102.4 MB 4.0 MB/s eta 0:00:16\n",
      "   --------------- ------------------------ 40.2/102.4 MB 3.9 MB/s eta 0:00:16\n",
      "   --------------- ------------------------ 40.4/102.4 MB 3.9 MB/s eta 0:00:16\n",
      "   --------------- ------------------------ 40.6/102.4 MB 3.9 MB/s eta 0:00:16\n",
      "   --------------- ------------------------ 40.9/102.4 MB 3.8 MB/s eta 0:00:17\n",
      "   ---------------- ----------------------- 41.7/102.4 MB 3.9 MB/s eta 0:00:16\n",
      "   ---------------- ----------------------- 42.1/102.4 MB 3.9 MB/s eta 0:00:16\n",
      "   ---------------- ----------------------- 42.5/102.4 MB 3.9 MB/s eta 0:00:16\n",
      "   ---------------- ----------------------- 42.7/102.4 MB 3.9 MB/s eta 0:00:16\n",
      "   ---------------- ----------------------- 43.4/102.4 MB 3.9 MB/s eta 0:00:15\n",
      "   ----------------- ---------------------- 43.7/102.4 MB 3.9 MB/s eta 0:00:16\n",
      "   ----------------- ---------------------- 44.3/102.4 MB 3.9 MB/s eta 0:00:15\n",
      "   ----------------- ---------------------- 44.9/102.4 MB 3.9 MB/s eta 0:00:15\n",
      "   ----------------- ---------------------- 44.9/102.4 MB 3.9 MB/s eta 0:00:15\n",
      "   ----------------- ---------------------- 44.9/102.4 MB 3.9 MB/s eta 0:00:15\n",
      "   ------------------ --------------------- 46.5/102.4 MB 3.4 MB/s eta 0:00:17\n",
      "   ------------------ --------------------- 47.0/102.4 MB 3.4 MB/s eta 0:00:17\n",
      "   ------------------ --------------------- 47.5/102.4 MB 3.5 MB/s eta 0:00:16\n",
      "   ------------------ --------------------- 48.2/102.4 MB 3.6 MB/s eta 0:00:16\n",
      "   ------------------- -------------------- 48.7/102.4 MB 3.7 MB/s eta 0:00:15\n",
      "   ------------------- -------------------- 48.9/102.4 MB 3.7 MB/s eta 0:00:15\n",
      "   ------------------- -------------------- 49.1/102.4 MB 3.7 MB/s eta 0:00:15\n",
      "   ------------------- -------------------- 49.2/102.4 MB 3.7 MB/s eta 0:00:15\n",
      "   ------------------- -------------------- 49.2/102.4 MB 3.7 MB/s eta 0:00:15\n",
      "   ------------------- -------------------- 49.9/102.4 MB 3.7 MB/s eta 0:00:15\n",
      "   ------------------- -------------------- 50.4/102.4 MB 3.7 MB/s eta 0:00:14\n",
      "   ------------------- -------------------- 50.7/102.4 MB 3.7 MB/s eta 0:00:15\n",
      "   ------------------- -------------------- 50.9/102.4 MB 3.8 MB/s eta 0:00:14\n",
      "   ------------------- -------------------- 51.1/102.4 MB 3.7 MB/s eta 0:00:14\n",
      "   -------------------- ------------------- 51.3/102.4 MB 3.8 MB/s eta 0:00:14\n",
      "   -------------------- ------------------- 51.5/102.4 MB 3.8 MB/s eta 0:00:14\n",
      "   -------------------- ------------------- 51.8/102.4 MB 3.7 MB/s eta 0:00:14\n",
      "   -------------------- ------------------- 52.4/102.4 MB 3.6 MB/s eta 0:00:14\n",
      "   -------------------- ------------------- 53.2/102.4 MB 3.7 MB/s eta 0:00:14\n",
      "   -------------------- ------------------- 53.4/102.4 MB 3.7 MB/s eta 0:00:14\n",
      "   -------------------- ------------------- 53.6/102.4 MB 3.7 MB/s eta 0:00:14\n",
      "   --------------------- ------------------ 54.3/102.4 MB 3.7 MB/s eta 0:00:14\n",
      "   --------------------- ------------------ 54.5/102.4 MB 3.7 MB/s eta 0:00:13\n",
      "   --------------------- ------------------ 55.1/102.4 MB 3.7 MB/s eta 0:00:13\n",
      "   --------------------- ------------------ 55.5/102.4 MB 4.5 MB/s eta 0:00:11\n",
      "   --------------------- ------------------ 56.0/102.4 MB 4.4 MB/s eta 0:00:11\n",
      "   ---------------------- ----------------- 56.4/102.4 MB 4.4 MB/s eta 0:00:11\n",
      "   ---------------------- ----------------- 57.1/102.4 MB 4.3 MB/s eta 0:00:11\n",
      "   ---------------------- ----------------- 57.3/102.4 MB 4.3 MB/s eta 0:00:11\n",
      "   ---------------------- ----------------- 57.6/102.4 MB 4.1 MB/s eta 0:00:11\n",
      "   ---------------------- ----------------- 58.4/102.4 MB 4.0 MB/s eta 0:00:12\n",
      "   ---------------------- ----------------- 58.6/102.4 MB 3.9 MB/s eta 0:00:12\n",
      "   ----------------------- ---------------- 58.9/102.4 MB 3.9 MB/s eta 0:00:12\n",
      "   ----------------------- ---------------- 59.3/102.4 MB 3.8 MB/s eta 0:00:12\n",
      "   ----------------------- ---------------- 59.8/102.4 MB 3.9 MB/s eta 0:00:11\n",
      "   ----------------------- ---------------- 60.2/102.4 MB 3.9 MB/s eta 0:00:11\n",
      "   ----------------------- ---------------- 60.6/102.4 MB 3.8 MB/s eta 0:00:11\n",
      "   ----------------------- ---------------- 60.9/102.4 MB 3.7 MB/s eta 0:00:12\n",
      "   ----------------------- ---------------- 61.3/102.4 MB 3.7 MB/s eta 0:00:12\n",
      "   ------------------------ --------------- 61.6/102.4 MB 3.7 MB/s eta 0:00:11\n",
      "   ------------------------ --------------- 62.2/102.4 MB 3.8 MB/s eta 0:00:11\n",
      "   ------------------------ --------------- 62.8/102.4 MB 3.9 MB/s eta 0:00:11\n",
      "   ------------------------ --------------- 63.2/102.4 MB 3.9 MB/s eta 0:00:11\n",
      "   ------------------------ --------------- 63.7/102.4 MB 3.9 MB/s eta 0:00:11\n",
      "   ------------------------ --------------- 64.0/102.4 MB 3.9 MB/s eta 0:00:10\n",
      "   ------------------------- -------------- 64.3/102.4 MB 3.9 MB/s eta 0:00:10\n",
      "   ------------------------- -------------- 65.4/102.4 MB 3.9 MB/s eta 0:00:10\n",
      "   ------------------------- -------------- 65.5/102.4 MB 3.8 MB/s eta 0:00:10\n",
      "   ------------------------- -------------- 66.1/102.4 MB 3.8 MB/s eta 0:00:10\n",
      "   ------------------------- -------------- 66.5/102.4 MB 3.9 MB/s eta 0:00:10\n",
      "   -------------------------- ------------- 66.7/102.4 MB 3.9 MB/s eta 0:00:10\n",
      "   -------------------------- ------------- 67.3/102.4 MB 3.9 MB/s eta 0:00:10\n",
      "   -------------------------- ------------- 68.0/102.4 MB 3.9 MB/s eta 0:00:09\n",
      "   -------------------------- ------------- 68.5/102.4 MB 3.9 MB/s eta 0:00:09\n",
      "   -------------------------- ------------- 69.0/102.4 MB 3.9 MB/s eta 0:00:09\n",
      "   --------------------------- ------------ 69.6/102.4 MB 3.9 MB/s eta 0:00:09\n",
      "   --------------------------- ------------ 70.0/102.4 MB 3.9 MB/s eta 0:00:09\n",
      "   --------------------------- ------------ 70.4/102.4 MB 3.9 MB/s eta 0:00:09\n",
      "   --------------------------- ------------ 70.9/102.4 MB 4.0 MB/s eta 0:00:08\n",
      "   --------------------------- ------------ 71.3/102.4 MB 4.1 MB/s eta 0:00:08\n",
      "   --------------------------- ------------ 71.6/102.4 MB 4.1 MB/s eta 0:00:08\n",
      "   ---------------------------- ----------- 72.0/102.4 MB 4.0 MB/s eta 0:00:08\n",
      "   ---------------------------- ----------- 72.5/102.4 MB 4.0 MB/s eta 0:00:08\n",
      "   ---------------------------- ----------- 73.6/102.4 MB 3.9 MB/s eta 0:00:08\n",
      "   ---------------------------- ----------- 74.0/102.4 MB 3.9 MB/s eta 0:00:08\n",
      "   ----------------------------- ---------- 74.3/102.4 MB 3.9 MB/s eta 0:00:08\n",
      "   ----------------------------- ---------- 74.7/102.4 MB 4.0 MB/s eta 0:00:07\n",
      "   ----------------------------- ---------- 74.9/102.4 MB 4.0 MB/s eta 0:00:07\n",
      "   ----------------------------- ---------- 75.3/102.4 MB 3.9 MB/s eta 0:00:07\n",
      "   ----------------------------- ---------- 75.5/102.4 MB 3.8 MB/s eta 0:00:08\n",
      "   ----------------------------- ---------- 76.2/102.4 MB 4.0 MB/s eta 0:00:07\n",
      "   ------------------------------ --------- 77.0/102.4 MB 3.9 MB/s eta 0:00:07\n",
      "   ------------------------------ --------- 77.4/102.4 MB 3.9 MB/s eta 0:00:07\n",
      "   ------------------------------ --------- 77.9/102.4 MB 3.9 MB/s eta 0:00:07\n",
      "   ------------------------------ --------- 78.2/102.4 MB 3.9 MB/s eta 0:00:07\n",
      "   ------------------------------ --------- 78.4/102.4 MB 3.9 MB/s eta 0:00:07\n",
      "   ------------------------------ --------- 79.0/102.4 MB 3.9 MB/s eta 0:00:07\n",
      "   ------------------------------ --------- 79.4/102.4 MB 4.0 MB/s eta 0:00:06\n",
      "   ------------------------------- -------- 79.7/102.4 MB 3.9 MB/s eta 0:00:06\n",
      "   ------------------------------- -------- 80.1/102.4 MB 3.9 MB/s eta 0:00:06\n",
      "   ------------------------------- -------- 80.3/102.4 MB 3.9 MB/s eta 0:00:06\n",
      "   ------------------------------- -------- 80.6/102.4 MB 3.9 MB/s eta 0:00:06\n",
      "   ------------------------------- -------- 81.6/102.4 MB 3.9 MB/s eta 0:00:06\n",
      "   ------------------------------- -------- 81.9/102.4 MB 3.9 MB/s eta 0:00:06\n",
      "   -------------------------------- ------- 82.2/102.4 MB 3.9 MB/s eta 0:00:06\n",
      "   -------------------------------- ------- 82.5/102.4 MB 3.9 MB/s eta 0:00:06\n",
      "   -------------------------------- ------- 82.7/102.4 MB 3.9 MB/s eta 0:00:05\n",
      "   -------------------------------- ------- 83.1/102.4 MB 3.9 MB/s eta 0:00:05\n",
      "   -------------------------------- ------- 83.8/102.4 MB 3.9 MB/s eta 0:00:05\n",
      "   -------------------------------- ------- 84.2/102.4 MB 3.9 MB/s eta 0:00:05\n",
      "   -------------------------------- ------- 84.5/102.4 MB 3.9 MB/s eta 0:00:05\n",
      "   --------------------------------- ------ 84.9/102.4 MB 3.9 MB/s eta 0:00:05\n",
      "   --------------------------------- ------ 85.3/102.4 MB 3.9 MB/s eta 0:00:05\n",
      "   --------------------------------- ------ 85.7/102.4 MB 4.0 MB/s eta 0:00:05\n",
      "   --------------------------------- ------ 86.2/102.4 MB 3.9 MB/s eta 0:00:05\n",
      "   --------------------------------- ------ 86.5/102.4 MB 3.9 MB/s eta 0:00:05\n",
      "   --------------------------------- ------ 87.0/102.4 MB 3.9 MB/s eta 0:00:04\n",
      "   ---------------------------------- ----- 87.3/102.4 MB 3.9 MB/s eta 0:00:04\n",
      "   ---------------------------------- ----- 87.7/102.4 MB 3.9 MB/s eta 0:00:04\n",
      "   ---------------------------------- ----- 88.0/102.4 MB 3.9 MB/s eta 0:00:04\n",
      "   ---------------------------------- ----- 88.6/102.4 MB 3.9 MB/s eta 0:00:04\n",
      "   ---------------------------------- ----- 89.0/102.4 MB 3.9 MB/s eta 0:00:04\n",
      "   ---------------------------------- ----- 89.3/102.4 MB 3.9 MB/s eta 0:00:04\n",
      "   ----------------------------------- ---- 89.7/102.4 MB 3.9 MB/s eta 0:00:04\n",
      "   ----------------------------------- ---- 90.6/102.4 MB 3.9 MB/s eta 0:00:04\n",
      "   ----------------------------------- ---- 90.8/102.4 MB 3.9 MB/s eta 0:00:04\n",
      "   ----------------------------------- ---- 91.2/102.4 MB 4.0 MB/s eta 0:00:03\n",
      "   ----------------------------------- ---- 91.5/102.4 MB 3.9 MB/s eta 0:00:03\n",
      "   ----------------------------------- ---- 91.8/102.4 MB 3.9 MB/s eta 0:00:03\n",
      "   ----------------------------------- ---- 92.2/102.4 MB 3.9 MB/s eta 0:00:03\n",
      "   ------------------------------------ --- 92.4/102.4 MB 3.9 MB/s eta 0:00:03\n",
      "   ------------------------------------ --- 92.7/102.4 MB 3.9 MB/s eta 0:00:03\n",
      "   ------------------------------------ --- 92.9/102.4 MB 3.9 MB/s eta 0:00:03\n",
      "   ------------------------------------ --- 93.2/102.4 MB 3.9 MB/s eta 0:00:03\n",
      "   ------------------------------------ --- 93.4/102.4 MB 3.9 MB/s eta 0:00:03\n",
      "   ------------------------------------ --- 93.6/102.4 MB 3.9 MB/s eta 0:00:03\n",
      "   ------------------------------------ --- 93.8/102.4 MB 3.9 MB/s eta 0:00:03\n",
      "   ------------------------------------ --- 94.0/102.4 MB 3.9 MB/s eta 0:00:03\n",
      "   ------------------------------------ --- 94.4/102.4 MB 3.9 MB/s eta 0:00:03\n",
      "   ------------------------------------ --- 94.6/102.4 MB 3.9 MB/s eta 0:00:02\n",
      "   ------------------------------------- -- 95.2/102.4 MB 3.9 MB/s eta 0:00:02\n",
      "   ------------------------------------- -- 95.6/102.4 MB 3.9 MB/s eta 0:00:02\n",
      "   ------------------------------------- -- 96.1/102.4 MB 3.9 MB/s eta 0:00:02\n",
      "   ------------------------------------- -- 96.5/102.4 MB 3.9 MB/s eta 0:00:02\n",
      "   ------------------------------------- -- 96.8/102.4 MB 3.9 MB/s eta 0:00:02\n",
      "   -------------------------------------- - 97.4/102.4 MB 3.9 MB/s eta 0:00:02\n",
      "   -------------------------------------- - 97.7/102.4 MB 3.9 MB/s eta 0:00:02\n",
      "   -------------------------------------- - 98.0/102.4 MB 3.9 MB/s eta 0:00:02\n",
      "   -------------------------------------- - 98.4/102.4 MB 4.0 MB/s eta 0:00:02\n",
      "   -------------------------------------- - 98.7/102.4 MB 3.9 MB/s eta 0:00:01\n",
      "   -------------------------------------- - 98.9/102.4 MB 3.9 MB/s eta 0:00:01\n",
      "   -------------------------------------- - 99.1/102.4 MB 3.9 MB/s eta 0:00:01\n",
      "   -------------------------------------- - 99.3/102.4 MB 3.9 MB/s eta 0:00:01\n",
      "   -------------------------------------- - 99.7/102.4 MB 3.9 MB/s eta 0:00:01\n",
      "   ---------------------------------------  100.0/102.4 MB 3.9 MB/s eta 0:00:01\n",
      "   ---------------------------------------  100.2/102.4 MB 4.0 MB/s eta 0:00:01\n",
      "   ---------------------------------------  100.4/102.4 MB 3.9 MB/s eta 0:00:01\n",
      "   ---------------------------------------  100.7/102.4 MB 3.9 MB/s eta 0:00:01\n",
      "   ---------------------------------------  100.9/102.4 MB 3.9 MB/s eta 0:00:01\n",
      "   ---------------------------------------  101.1/102.4 MB 3.9 MB/s eta 0:00:01\n",
      "   ---------------------------------------  101.4/102.4 MB 3.9 MB/s eta 0:00:01\n",
      "   ---------------------------------------  101.6/102.4 MB 3.9 MB/s eta 0:00:01\n",
      "   ---------------------------------------  101.8/102.4 MB 3.9 MB/s eta 0:00:01\n",
      "   ---------------------------------------  102.0/102.4 MB 3.9 MB/s eta 0:00:01\n",
      "   ---------------------------------------  102.2/102.4 MB 3.9 MB/s eta 0:00:01\n",
      "   ---------------------------------------  102.4/102.4 MB 3.9 MB/s eta 0:00:01\n",
      "   ---------------------------------------  102.4/102.4 MB 3.9 MB/s eta 0:00:01\n",
      "   ---------------------------------------  102.4/102.4 MB 3.9 MB/s eta 0:00:01\n",
      "   ---------------------------------------  102.4/102.4 MB 3.9 MB/s eta 0:00:01\n",
      "   ---------------------------------------  102.4/102.4 MB 3.9 MB/s eta 0:00:01\n",
      "   ---------------------------------------  102.4/102.4 MB 3.9 MB/s eta 0:00:01\n",
      "   ---------------------------------------  102.4/102.4 MB 3.9 MB/s eta 0:00:01\n",
      "   ---------------------------------------  102.4/102.4 MB 3.9 MB/s eta 0:00:01\n",
      "   ---------------------------------------  102.4/102.4 MB 3.9 MB/s eta 0:00:01\n",
      "   ---------------------------------------  102.4/102.4 MB 3.9 MB/s eta 0:00:01\n",
      "   ---------------------------------------- 102.4/102.4 MB 3.2 MB/s eta 0:00:00\n",
      "Downloading graphviz-0.21-py3-none-any.whl (47 kB)\n",
      "   ---------------------------------------- 0.0/47.3 kB ? eta -:--:--\n",
      "   ---------------------------------------- 47.3/47.3 kB 1.2 MB/s eta 0:00:00\n",
      "Installing collected packages: graphviz, catboost\n",
      "Successfully installed catboost-1.2.8 graphviz-0.21\n"
     ]
    }
   ],
   "source": [
    "pip install catboost"
   ]
  },
  {
   "cell_type": "code",
   "execution_count": 168,
   "metadata": {},
   "outputs": [
    {
     "name": "stdout",
     "output_type": "stream",
     "text": [
      "Collecting lightgbmNote: you may need to restart the kernel to use updated packages.\n",
      "\n",
      "  Downloading lightgbm-4.6.0-py3-none-win_amd64.whl.metadata (17 kB)\n",
      "Requirement already satisfied: numpy>=1.17.0 in c:\\users\\admin\\anaconda3\\lib\\site-packages (from lightgbm) (1.26.4)\n",
      "Requirement already satisfied: scipy in c:\\users\\admin\\anaconda3\\lib\\site-packages (from lightgbm) (1.13.1)\n",
      "Downloading lightgbm-4.6.0-py3-none-win_amd64.whl (1.5 MB)\n",
      "   ---------------------------------------- 0.0/1.5 MB ? eta -:--:--\n",
      "   ---------------------------------------- 0.0/1.5 MB ? eta -:--:--\n",
      "   ---------------------------------------- 0.0/1.5 MB ? eta -:--:--\n",
      "    --------------------------------------- 0.0/1.5 MB 435.7 kB/s eta 0:00:04\n",
      "   - -------------------------------------- 0.1/1.5 MB 550.5 kB/s eta 0:00:03\n",
      "   ----- ---------------------------------- 0.2/1.5 MB 1.2 MB/s eta 0:00:02\n",
      "   --------------------- ------------------ 0.8/1.5 MB 3.5 MB/s eta 0:00:01\n",
      "   -------------------------- ------------- 1.0/1.5 MB 3.6 MB/s eta 0:00:01\n",
      "   -------------------------------- ------- 1.2/1.5 MB 3.7 MB/s eta 0:00:01\n",
      "   ---------------------------------- ----- 1.2/1.5 MB 3.7 MB/s eta 0:00:01\n",
      "   ---------------------------------------  1.4/1.5 MB 3.7 MB/s eta 0:00:01\n",
      "   ---------------------------------------- 1.5/1.5 MB 3.4 MB/s eta 0:00:00\n",
      "Installing collected packages: lightgbm\n",
      "Successfully installed lightgbm-4.6.0\n"
     ]
    }
   ],
   "source": [
    "pip install lightgbm\n"
   ]
  },
  {
   "cell_type": "code",
   "execution_count": 169,
   "metadata": {
    "colab": {
     "base_uri": "https://localhost:8080/"
    },
    "id": "KprZwwpAJn9n",
    "outputId": "46399d1e-83c8-4ee6-bf96-1cee333d80c0"
   },
   "outputs": [
    {
     "name": "stderr",
     "output_type": "stream",
     "text": [
      "c:\\Users\\Admin\\anaconda3\\Lib\\site-packages\\imblearn\\ensemble\\_forest.py:577: FutureWarning: The default of `sampling_strategy` will change from `'auto'` to `'all'` in version 0.13. This change will follow the implementation proposed in the original paper. Set to `'all'` to silence this warning and adopt the future behaviour.\n",
      "  warn(\n",
      "c:\\Users\\Admin\\anaconda3\\Lib\\site-packages\\imblearn\\ensemble\\_forest.py:589: FutureWarning: The default of `replacement` will change from `False` to `True` in version 0.13. This change will follow the implementation proposed in the original paper. Set to `True` to silence this warning and adopt the future behaviour.\n",
      "  warn(\n",
      "c:\\Users\\Admin\\anaconda3\\Lib\\site-packages\\imblearn\\ensemble\\_forest.py:601: FutureWarning: The default of `bootstrap` will change from `True` to `False` in version 0.13. This change will follow the implementation proposed in the original paper. Set to `False` to silence this warning and adopt the future behaviour.\n",
      "  warn(\n"
     ]
    },
    {
     "name": "stdout",
     "output_type": "stream",
     "text": [
      "              precision    recall  f1-score   support\n",
      "\n",
      "           0       0.00      0.00      0.00     13151\n",
      "           1       0.05      1.00      0.09       621\n",
      "\n",
      "    accuracy                           0.05     13772\n",
      "   macro avg       0.02      0.50      0.04     13772\n",
      "weighted avg       0.00      0.05      0.00     13772\n",
      "\n",
      "Precision-Recall AUC: 0.0644453841349463\n",
      "Accuracy: 0.9549085100203311\n"
     ]
    },
    {
     "name": "stderr",
     "output_type": "stream",
     "text": [
      "c:\\Users\\Admin\\anaconda3\\Lib\\site-packages\\sklearn\\metrics\\_classification.py:1509: UndefinedMetricWarning: Precision is ill-defined and being set to 0.0 in labels with no predicted samples. Use `zero_division` parameter to control this behavior.\n",
      "  _warn_prf(average, modifier, f\"{metric.capitalize()} is\", len(result))\n",
      "c:\\Users\\Admin\\anaconda3\\Lib\\site-packages\\sklearn\\metrics\\_classification.py:1509: UndefinedMetricWarning: Precision is ill-defined and being set to 0.0 in labels with no predicted samples. Use `zero_division` parameter to control this behavior.\n",
      "  _warn_prf(average, modifier, f\"{metric.capitalize()} is\", len(result))\n",
      "c:\\Users\\Admin\\anaconda3\\Lib\\site-packages\\sklearn\\metrics\\_classification.py:1509: UndefinedMetricWarning: Precision is ill-defined and being set to 0.0 in labels with no predicted samples. Use `zero_division` parameter to control this behavior.\n",
      "  _warn_prf(average, modifier, f\"{metric.capitalize()} is\", len(result))\n"
     ]
    }
   ],
   "source": [
    "# prompt: use rfclassifier\n",
    "# Scale numeric features only\n",
    "scaler = StandardScaler()\n",
    "X_scaled = scaler.fit_transform(X)\n",
    "\n",
    "from imblearn.ensemble import BalancedRandomForestClassifier\n",
    "from sklearn.metrics import auc\n",
    "from sklearn.metrics import precision_recall_curve\n",
    "from sklearn.naive_bayes import GaussianNB\n",
    "from sklearn.neighbors import KNeighborsClassifier\n",
    "from sklearn.svm import SVC\n",
    "from sklearn.ensemble import GradientBoostingClassifier\n",
    "from sklearn.model_selection import cross_val_score\n",
    "from sklearn.metrics import classification_report, confusion_matrix\n",
    "from sklearn.model_selection import GridSearchCV\n",
    "import xgboost as xgb\n",
    "import lightgbm as lgb\n",
    "from catboost import CatBoostClassifier\n",
    "from statsmodels.stats.outliers_influence import variance_inflation_factor\n",
    "from scipy.stats import chi2_contingency\n",
    "\n",
    "\n",
    "# Assuming X and y are your feature matrix and target vector after preprocessing and feature selection\n",
    "X = df_encoded[low_vif_features]\n",
    "y = df_encoded['readmitted']\n",
    "\n",
    "# Train Balanced Random Forest\n",
    "brf = BalancedRandomForestClassifier(n_estimators=100, random_state=42, class_weight='balanced') # Use class_weight instead of class\n",
    "brf.fit(X_train, y_train)\n",
    "\n",
    "# Evaluate the model\n",
    "y_pred_brf = brf.predict(X_test)\n",
    "print(classification_report(y_test, y_pred_brf))\n",
    "\n",
    "precision, recall, _ = precision_recall_curve(y_test, brf.predict_proba(X_test)[:, 1])\n",
    "pr_auc = auc(recall, precision)\n",
    "print(f\"Precision-Recall AUC: {pr_auc}\")\n",
    "print(f\"Accuracy: {accuracy_score(y_test, y_pred)}\")"
   ]
  },
  {
   "cell_type": "code",
   "execution_count": 170,
   "metadata": {
    "colab": {
     "base_uri": "https://localhost:8080/"
    },
    "id": "Hy2EjnGKeQWa",
    "outputId": "b5200f65-f1c5-4540-f644-0e1f2ab213c2"
   },
   "outputs": [
    {
     "name": "stderr",
     "output_type": "stream",
     "text": [
      "c:\\Users\\Admin\\anaconda3\\Lib\\site-packages\\xgboost\\training.py:183: UserWarning: [22:40:59] WARNING: C:\\actions-runner\\_work\\xgboost\\xgboost\\src\\learner.cc:738: \n",
      "Parameters: { \"use_label_encoder\" } are not used.\n",
      "\n",
      "  bst.update(dtrain, iteration=i, fobj=obj)\n",
      "c:\\Users\\Admin\\anaconda3\\Lib\\site-packages\\sklearn\\metrics\\_classification.py:1509: UndefinedMetricWarning: Precision is ill-defined and being set to 0.0 in labels with no predicted samples. Use `zero_division` parameter to control this behavior.\n",
      "  _warn_prf(average, modifier, f\"{metric.capitalize()} is\", len(result))\n",
      "c:\\Users\\Admin\\anaconda3\\Lib\\site-packages\\sklearn\\metrics\\_classification.py:1509: UndefinedMetricWarning: Precision is ill-defined and being set to 0.0 in labels with no predicted samples. Use `zero_division` parameter to control this behavior.\n",
      "  _warn_prf(average, modifier, f\"{metric.capitalize()} is\", len(result))\n",
      "c:\\Users\\Admin\\anaconda3\\Lib\\site-packages\\sklearn\\metrics\\_classification.py:1509: UndefinedMetricWarning: Precision is ill-defined and being set to 0.0 in labels with no predicted samples. Use `zero_division` parameter to control this behavior.\n",
      "  _warn_prf(average, modifier, f\"{metric.capitalize()} is\", len(result))\n"
     ]
    },
    {
     "name": "stdout",
     "output_type": "stream",
     "text": [
      "Classification Report:\n",
      "               precision    recall  f1-score   support\n",
      "\n",
      "           0       0.95      1.00      0.98     13151\n",
      "           1       0.00      0.00      0.00       621\n",
      "\n",
      "    accuracy                           0.95     13772\n",
      "   macro avg       0.48      0.50      0.49     13772\n",
      "weighted avg       0.91      0.95      0.93     13772\n",
      "\n",
      "Confusion Matrix:\n",
      " [[13151     0]\n",
      " [  621     0]]\n",
      "ROC AUC Score: 0.5160949168282054\n"
     ]
    }
   ],
   "source": [
    "# prompt: use xgboost\n",
    "\n",
    "# Assuming X_train, y_train, X_test, and y_test are defined from previous code\n",
    "\n",
    "# Create an XGBoost model\n",
    "xgb_model = xgb.XGBClassifier(\n",
    "    objective='binary:logistic',  # Binary classification\n",
    "    eval_metric='logloss',        # Evaluation metric for log loss\n",
    "    use_label_encoder=False,      # Avoid deprecation warning\n",
    "    random_state=42,\n",
    "    n_jobs=-1                     # Make use of all available cores\n",
    ")\n",
    "\n",
    "# Train the model\n",
    "xgb_model.fit(X_train, y_train)\n",
    "\n",
    "# Make predictions\n",
    "y_pred = xgb_model.predict(X_test)\n",
    "y_pred_prob = xgb_model.predict_proba(X_test)[:, 1]\n",
    "\n",
    "# Evaluate the model\n",
    "print(\"Classification Report:\\n\", classification_report(y_test, y_pred))\n",
    "print(\"Confusion Matrix:\\n\", confusion_matrix(y_test, y_pred))\n",
    "print(f\"ROC AUC Score: {roc_auc_score(y_test, y_pred_prob)}\")"
   ]
  },
  {
   "cell_type": "code",
   "execution_count": 171,
   "metadata": {
    "colab": {
     "base_uri": "https://localhost:8080/"
    },
    "id": "r2tX40UGeQSo",
    "outputId": "03655a7f-bcaa-45a0-e332-55b358ef60a9"
   },
   "outputs": [
    {
     "name": "stdout",
     "output_type": "stream",
     "text": [
      "XGBoost Accuracy: 0.9549085100203311\n"
     ]
    }
   ],
   "source": [
    "# prompt: give accuracy of the above model\n",
    "\n",
    "# Assuming y_test and y_pred are defined from the XGBoost model evaluation\n",
    "accuracy = accuracy_score(y_test, y_pred)\n",
    "print(f\"XGBoost Accuracy: {accuracy}\")"
   ]
  },
  {
   "cell_type": "code",
   "execution_count": 172,
   "metadata": {
    "colab": {
     "base_uri": "https://localhost:8080/"
    },
    "id": "5RYl7-n4eQPo",
    "outputId": "a968d2f2-2c15-4fd8-87ae-e78b1b587685"
   },
   "outputs": [
    {
     "name": "stderr",
     "output_type": "stream",
     "text": [
      "c:\\Users\\Admin\\anaconda3\\Lib\\site-packages\\sklearn\\ensemble\\_weight_boosting.py:519: FutureWarning: The SAMME.R algorithm (the default) is deprecated and will be removed in 1.6. Use the SAMME algorithm to circumvent this warning.\n",
      "  warnings.warn(\n"
     ]
    },
    {
     "name": "stdout",
     "output_type": "stream",
     "text": [
      "Classification Report:\n",
      "               precision    recall  f1-score   support\n",
      "\n",
      "           0       0.95      1.00      0.98     13151\n",
      "           1       0.00      0.00      0.00       621\n",
      "\n",
      "    accuracy                           0.95     13772\n",
      "   macro avg       0.48      0.50      0.49     13772\n",
      "weighted avg       0.91      0.95      0.93     13772\n",
      "\n",
      "Confusion Matrix:\n",
      " [[13151     0]\n",
      " [  621     0]]\n",
      "ROC AUC Score: 0.5156264330174067\n",
      "AdaBoost Accuracy: 0.9549085100203311\n"
     ]
    },
    {
     "name": "stderr",
     "output_type": "stream",
     "text": [
      "c:\\Users\\Admin\\anaconda3\\Lib\\site-packages\\sklearn\\metrics\\_classification.py:1509: UndefinedMetricWarning: Precision is ill-defined and being set to 0.0 in labels with no predicted samples. Use `zero_division` parameter to control this behavior.\n",
      "  _warn_prf(average, modifier, f\"{metric.capitalize()} is\", len(result))\n",
      "c:\\Users\\Admin\\anaconda3\\Lib\\site-packages\\sklearn\\metrics\\_classification.py:1509: UndefinedMetricWarning: Precision is ill-defined and being set to 0.0 in labels with no predicted samples. Use `zero_division` parameter to control this behavior.\n",
      "  _warn_prf(average, modifier, f\"{metric.capitalize()} is\", len(result))\n",
      "c:\\Users\\Admin\\anaconda3\\Lib\\site-packages\\sklearn\\metrics\\_classification.py:1509: UndefinedMetricWarning: Precision is ill-defined and being set to 0.0 in labels with no predicted samples. Use `zero_division` parameter to control this behavior.\n",
      "  _warn_prf(average, modifier, f\"{metric.capitalize()} is\", len(result))\n"
     ]
    }
   ],
   "source": [
    "# prompt: use adaboost\n",
    "\n",
    "from sklearn.ensemble import AdaBoostClassifier\n",
    "\n",
    "# Assuming X_train, y_train, X_test, and y_test are defined from previous code\n",
    "\n",
    "# Create an AdaBoost model\n",
    "ada_model = AdaBoostClassifier(random_state=42, n_estimators=100) # You can adjust hyperparameters\n",
    "\n",
    "# Train the model\n",
    "ada_model.fit(X_train, y_train)\n",
    "\n",
    "# Make predictions\n",
    "y_pred = ada_model.predict(X_test)\n",
    "y_pred_prob = ada_model.predict_proba(X_test)[:, 1]\n",
    "\n",
    "# Evaluate the model\n",
    "print(\"Classification Report:\\n\", classification_report(y_test, y_pred))\n",
    "print(\"Confusion Matrix:\\n\", confusion_matrix(y_test, y_pred))\n",
    "print(f\"ROC AUC Score: {roc_auc_score(y_test, y_pred_prob)}\")\n",
    "\n",
    "accuracy = accuracy_score(y_test, y_pred)\n",
    "print(f\"AdaBoost Accuracy: {accuracy}\")"
   ]
  },
  {
   "cell_type": "markdown",
   "metadata": {
    "id": "5dpUGXqjW2GH"
   },
   "source": [
    "\n",
    "\n",
    "---\n",
    "\n",
    "\n",
    "\n",
    "---\n",
    "\n",
    "\n",
    "\n",
    "---\n",
    "\n"
   ]
  },
  {
   "cell_type": "markdown",
   "metadata": {
    "id": "HkyuXiwKAwMs"
   },
   "source": [
    "Histogram and kde\n"
   ]
  },
  {
   "cell_type": "markdown",
   "metadata": {
    "id": "ziyhZ7hDAtxh"
   },
   "source": [
    "Box plot"
   ]
  },
  {
   "cell_type": "markdown",
   "metadata": {
    "id": "wVq2yu_IBv9f"
   },
   "source": [
    "Identify noise by looking for outliers"
   ]
  },
  {
   "cell_type": "markdown",
   "metadata": {
    "id": "9byJOERnCGaT"
   },
   "source": [
    "Skewness and kurtosis\n"
   ]
  },
  {
   "cell_type": "markdown",
   "metadata": {
    "id": "PW_nQBOK_CwK"
   },
   "source": [
    "Categorical data"
   ]
  },
  {
   "cell_type": "markdown",
   "metadata": {
    "id": "W2wiOCY3AjbB"
   },
   "source": [
    "# **Multivariate analysis**\n",
    "\n"
   ]
  },
  {
   "cell_type": "markdown",
   "metadata": {
    "id": "BwPBfMAICybd"
   },
   "source": [
    "1. Scatterplot (Num - Num)"
   ]
  },
  {
   "cell_type": "markdown",
   "metadata": {
    "id": "VFsRmQDFE-XU"
   },
   "source": [
    "Particular"
   ]
  },
  {
   "cell_type": "code",
   "execution_count": 173,
   "metadata": {
    "colab": {
     "base_uri": "https://localhost:8080/",
     "height": 581
    },
    "id": "Bit516ebt5pN",
    "outputId": "b883dde7-87bc-4a08-d371-e4d4c86c24b9"
   },
   "outputs": [
    {
     "name": "stdout",
     "output_type": "stream",
     "text": [
      "Correlation between num_medications and time_in_hospital: 0.456803959350464\n"
     ]
    },
    {
     "name": "stderr",
     "output_type": "stream",
     "text": [
      "C:\\Users\\Admin\\AppData\\Local\\Temp\\ipykernel_1512\\4234320007.py:6: UserWarning: FigureCanvasAgg is non-interactive, and thus cannot be shown\n",
      "  plt.show()\n"
     ]
    }
   ],
   "source": [
    "\n",
    "plt.figure(figsize=(8, 6))\n",
    "sns.scatterplot(x='num_medications', y='time_in_hospital', data=df)\n",
    "plt.title('Scatter Plot of num_medications vs. time_in_hospital')\n",
    "plt.xlabel('Number of Medications')\n",
    "plt.ylabel('Time in Hospital')\n",
    "plt.show()\n",
    "\n",
    "correlation = df['num_medications'].corr(df['time_in_hospital'])\n",
    "print(f\"Correlation between num_medications and time_in_hospital: {correlation}\")"
   ]
  },
  {
   "cell_type": "code",
   "execution_count": 174,
   "metadata": {
    "id": "0EvXT-hDE-Db"
   },
   "outputs": [],
   "source": [
    "#sns.scatterplot(df['time_in_hospitals'],df['num_medications'],hue = df['race'], style = df['gender'], size = df[''])\n",
    "# z is categorical variable on which basis the x and y is sep\n",
    "# c is another cat var\n",
    "# s is no. of that particular occurrence"
   ]
  },
  {
   "cell_type": "code",
   "execution_count": 175,
   "metadata": {
    "colab": {
     "base_uri": "https://localhost:8080/",
     "height": 467
    },
    "id": "jfEBxt39uqC6",
    "outputId": "843558f7-b6ac-4198-99ba-63c2d8c3ebcd"
   },
   "outputs": [
    {
     "data": {
      "text/plain": [
       "<Axes: title={'center': 'Scatter Plot of num_medications vs. time_in_hospital'}, xlabel='Number of Medications', ylabel='Time in Hospital'>"
      ]
     },
     "execution_count": 175,
     "metadata": {},
     "output_type": "execute_result"
    }
   ],
   "source": [
    "import seaborn as sns\n",
    "sns.scatterplot(x = 'time_in_hospital',y = 'num_medications', data =df, hue = 'race')\n",
    "# z is categorical variable on which basis the x and y is sep\n",
    "# c is another cat var\n",
    "# s is no. of that particular occurrence"
   ]
  }
 ],
 "metadata": {
  "colab": {
   "provenance": []
  },
  "kernelspec": {
   "display_name": "base",
   "language": "python",
   "name": "python3"
  },
  "language_info": {
   "codemirror_mode": {
    "name": "ipython",
    "version": 3
   },
   "file_extension": ".py",
   "mimetype": "text/x-python",
   "name": "python",
   "nbconvert_exporter": "python",
   "pygments_lexer": "ipython3",
   "version": "3.12.4"
  },
  "widgets": {
   "application/vnd.jupyter.widget-state+json": {
    "0141e08fd1ba472181a196cec80e9d87": {
     "model_module": "@jupyter-widgets/base",
     "model_module_version": "1.2.0",
     "model_name": "LayoutModel",
     "state": {
      "_model_module": "@jupyter-widgets/base",
      "_model_module_version": "1.2.0",
      "_model_name": "LayoutModel",
      "_view_count": null,
      "_view_module": "@jupyter-widgets/base",
      "_view_module_version": "1.2.0",
      "_view_name": "LayoutView",
      "align_content": null,
      "align_items": null,
      "align_self": null,
      "border": null,
      "bottom": null,
      "display": null,
      "flex": null,
      "flex_flow": null,
      "grid_area": null,
      "grid_auto_columns": null,
      "grid_auto_flow": null,
      "grid_auto_rows": null,
      "grid_column": null,
      "grid_gap": null,
      "grid_row": null,
      "grid_template_areas": null,
      "grid_template_columns": null,
      "grid_template_rows": null,
      "height": null,
      "justify_content": null,
      "justify_items": null,
      "left": null,
      "margin": null,
      "max_height": null,
      "max_width": null,
      "min_height": null,
      "min_width": null,
      "object_fit": null,
      "object_position": null,
      "order": null,
      "overflow": null,
      "overflow_x": null,
      "overflow_y": null,
      "padding": null,
      "right": null,
      "top": null,
      "visibility": null,
      "width": null
     }
    },
    "0233e7b4fc2241baa1c78d038e6c8a08": {
     "model_module": "@jupyter-widgets/controls",
     "model_module_version": "1.5.0",
     "model_name": "HTMLModel",
     "state": {
      "_dom_classes": [],
      "_model_module": "@jupyter-widgets/controls",
      "_model_module_version": "1.5.0",
      "_model_name": "HTMLModel",
      "_view_count": null,
      "_view_module": "@jupyter-widgets/controls",
      "_view_module_version": "1.5.0",
      "_view_name": "HTMLView",
      "description": "",
      "description_tooltip": null,
      "layout": "IPY_MODEL_897d042db70b4128bcfe3f5c28cf279d",
      "placeholder": "​",
      "style": "IPY_MODEL_9924a8d6c5e94f23be48932db8caa0af",
      "value": "Summarize dataset: 100%"
     }
    },
    "05c3564fc055430c979bef316e6cfc30": {
     "model_module": "@jupyter-widgets/controls",
     "model_module_version": "1.5.0",
     "model_name": "HTMLModel",
     "state": {
      "_dom_classes": [],
      "_model_module": "@jupyter-widgets/controls",
      "_model_module_version": "1.5.0",
      "_model_name": "HTMLModel",
      "_view_count": null,
      "_view_module": "@jupyter-widgets/controls",
      "_view_module_version": "1.5.0",
      "_view_name": "HTMLView",
      "description": "",
      "description_tooltip": null,
      "layout": "IPY_MODEL_49407e59cf15458ba58c091fd875e666",
      "placeholder": "​",
      "style": "IPY_MODEL_9ecbcee25e8841c3a8a741c7e905f1aa",
      "value": " 179/179 [01:05&lt;00:00,  2.54it/s, Completed]"
     }
    },
    "1224a931795d4ab8aaa259544d0641f0": {
     "model_module": "@jupyter-widgets/base",
     "model_module_version": "1.2.0",
     "model_name": "LayoutModel",
     "state": {
      "_model_module": "@jupyter-widgets/base",
      "_model_module_version": "1.2.0",
      "_model_name": "LayoutModel",
      "_view_count": null,
      "_view_module": "@jupyter-widgets/base",
      "_view_module_version": "1.2.0",
      "_view_name": "LayoutView",
      "align_content": null,
      "align_items": null,
      "align_self": null,
      "border": null,
      "bottom": null,
      "display": null,
      "flex": null,
      "flex_flow": null,
      "grid_area": null,
      "grid_auto_columns": null,
      "grid_auto_flow": null,
      "grid_auto_rows": null,
      "grid_column": null,
      "grid_gap": null,
      "grid_row": null,
      "grid_template_areas": null,
      "grid_template_columns": null,
      "grid_template_rows": null,
      "height": null,
      "justify_content": null,
      "justify_items": null,
      "left": null,
      "margin": null,
      "max_height": null,
      "max_width": null,
      "min_height": null,
      "min_width": null,
      "object_fit": null,
      "object_position": null,
      "order": null,
      "overflow": null,
      "overflow_x": null,
      "overflow_y": null,
      "padding": null,
      "right": null,
      "top": null,
      "visibility": null,
      "width": null
     }
    },
    "1442aaf3b87044878a8db8be4a66c4e6": {
     "model_module": "@jupyter-widgets/base",
     "model_module_version": "1.2.0",
     "model_name": "LayoutModel",
     "state": {
      "_model_module": "@jupyter-widgets/base",
      "_model_module_version": "1.2.0",
      "_model_name": "LayoutModel",
      "_view_count": null,
      "_view_module": "@jupyter-widgets/base",
      "_view_module_version": "1.2.0",
      "_view_name": "LayoutView",
      "align_content": null,
      "align_items": null,
      "align_self": null,
      "border": null,
      "bottom": null,
      "display": null,
      "flex": null,
      "flex_flow": null,
      "grid_area": null,
      "grid_auto_columns": null,
      "grid_auto_flow": null,
      "grid_auto_rows": null,
      "grid_column": null,
      "grid_gap": null,
      "grid_row": null,
      "grid_template_areas": null,
      "grid_template_columns": null,
      "grid_template_rows": null,
      "height": null,
      "justify_content": null,
      "justify_items": null,
      "left": null,
      "margin": null,
      "max_height": null,
      "max_width": null,
      "min_height": null,
      "min_width": null,
      "object_fit": null,
      "object_position": null,
      "order": null,
      "overflow": null,
      "overflow_x": null,
      "overflow_y": null,
      "padding": null,
      "right": null,
      "top": null,
      "visibility": null,
      "width": null
     }
    },
    "1d657523ca2142289d40c3eabb70c0a3": {
     "model_module": "@jupyter-widgets/controls",
     "model_module_version": "1.5.0",
     "model_name": "FloatProgressModel",
     "state": {
      "_dom_classes": [],
      "_model_module": "@jupyter-widgets/controls",
      "_model_module_version": "1.5.0",
      "_model_name": "FloatProgressModel",
      "_view_count": null,
      "_view_module": "@jupyter-widgets/controls",
      "_view_module_version": "1.5.0",
      "_view_name": "ProgressView",
      "bar_style": "success",
      "description": "",
      "description_tooltip": null,
      "layout": "IPY_MODEL_48f6569dabb4422789cfc6f229c0f697",
      "max": 5,
      "min": 0,
      "orientation": "horizontal",
      "style": "IPY_MODEL_1e7c4f6c41bc49d78f839319a012dece",
      "value": 5
     }
    },
    "1e7c4f6c41bc49d78f839319a012dece": {
     "model_module": "@jupyter-widgets/controls",
     "model_module_version": "1.5.0",
     "model_name": "ProgressStyleModel",
     "state": {
      "_model_module": "@jupyter-widgets/controls",
      "_model_module_version": "1.5.0",
      "_model_name": "ProgressStyleModel",
      "_view_count": null,
      "_view_module": "@jupyter-widgets/base",
      "_view_module_version": "1.2.0",
      "_view_name": "StyleView",
      "bar_color": null,
      "description_width": ""
     }
    },
    "25827cc472444eb6a05af6c41f2d5e47": {
     "model_module": "@jupyter-widgets/controls",
     "model_module_version": "1.5.0",
     "model_name": "ProgressStyleModel",
     "state": {
      "_model_module": "@jupyter-widgets/controls",
      "_model_module_version": "1.5.0",
      "_model_name": "ProgressStyleModel",
      "_view_count": null,
      "_view_module": "@jupyter-widgets/base",
      "_view_module_version": "1.2.0",
      "_view_name": "StyleView",
      "bar_color": null,
      "description_width": ""
     }
    },
    "2663be6c69274849a8f07161084360b8": {
     "model_module": "@jupyter-widgets/controls",
     "model_module_version": "1.5.0",
     "model_name": "HTMLModel",
     "state": {
      "_dom_classes": [],
      "_model_module": "@jupyter-widgets/controls",
      "_model_module_version": "1.5.0",
      "_model_name": "HTMLModel",
      "_view_count": null,
      "_view_module": "@jupyter-widgets/controls",
      "_view_module_version": "1.5.0",
      "_view_name": "HTMLView",
      "description": "",
      "description_tooltip": null,
      "layout": "IPY_MODEL_0141e08fd1ba472181a196cec80e9d87",
      "placeholder": "​",
      "style": "IPY_MODEL_3e917c5d9af94127958e18d97194197c",
      "value": "Render HTML: 100%"
     }
    },
    "2fb24695599e4f9787c50fa14442e41a": {
     "model_module": "@jupyter-widgets/base",
     "model_module_version": "1.2.0",
     "model_name": "LayoutModel",
     "state": {
      "_model_module": "@jupyter-widgets/base",
      "_model_module_version": "1.2.0",
      "_model_name": "LayoutModel",
      "_view_count": null,
      "_view_module": "@jupyter-widgets/base",
      "_view_module_version": "1.2.0",
      "_view_name": "LayoutView",
      "align_content": null,
      "align_items": null,
      "align_self": null,
      "border": null,
      "bottom": null,
      "display": null,
      "flex": null,
      "flex_flow": null,
      "grid_area": null,
      "grid_auto_columns": null,
      "grid_auto_flow": null,
      "grid_auto_rows": null,
      "grid_column": null,
      "grid_gap": null,
      "grid_row": null,
      "grid_template_areas": null,
      "grid_template_columns": null,
      "grid_template_rows": null,
      "height": null,
      "justify_content": null,
      "justify_items": null,
      "left": null,
      "margin": null,
      "max_height": null,
      "max_width": null,
      "min_height": null,
      "min_width": null,
      "object_fit": null,
      "object_position": null,
      "order": null,
      "overflow": null,
      "overflow_x": null,
      "overflow_y": null,
      "padding": null,
      "right": null,
      "top": null,
      "visibility": null,
      "width": null
     }
    },
    "34c29e38fe84428693fe181da0cc7ccf": {
     "model_module": "@jupyter-widgets/controls",
     "model_module_version": "1.5.0",
     "model_name": "HTMLModel",
     "state": {
      "_dom_classes": [],
      "_model_module": "@jupyter-widgets/controls",
      "_model_module_version": "1.5.0",
      "_model_name": "HTMLModel",
      "_view_count": null,
      "_view_module": "@jupyter-widgets/controls",
      "_view_module_version": "1.5.0",
      "_view_name": "HTMLView",
      "description": "",
      "description_tooltip": null,
      "layout": "IPY_MODEL_a5a82b559ad14fd1bf643d7c3d673d8a",
      "placeholder": "​",
      "style": "IPY_MODEL_44de262de96b4bb6b0356ba728ece686",
      "value": " 1/1 [00:22&lt;00:00, 22.06s/it]"
     }
    },
    "36c8786cbd4c43d8b060e277b500c0e5": {
     "model_module": "@jupyter-widgets/controls",
     "model_module_version": "1.5.0",
     "model_name": "DescriptionStyleModel",
     "state": {
      "_model_module": "@jupyter-widgets/controls",
      "_model_module_version": "1.5.0",
      "_model_name": "DescriptionStyleModel",
      "_view_count": null,
      "_view_module": "@jupyter-widgets/base",
      "_view_module_version": "1.2.0",
      "_view_name": "StyleView",
      "description_width": ""
     }
    },
    "3910d700a48143c5a3a4fc75e34147f1": {
     "model_module": "@jupyter-widgets/controls",
     "model_module_version": "1.5.0",
     "model_name": "DescriptionStyleModel",
     "state": {
      "_model_module": "@jupyter-widgets/controls",
      "_model_module_version": "1.5.0",
      "_model_name": "DescriptionStyleModel",
      "_view_count": null,
      "_view_module": "@jupyter-widgets/base",
      "_view_module_version": "1.2.0",
      "_view_name": "StyleView",
      "description_width": ""
     }
    },
    "3ce32daea0ad40cfbb3803a967f248fb": {
     "model_module": "@jupyter-widgets/base",
     "model_module_version": "1.2.0",
     "model_name": "LayoutModel",
     "state": {
      "_model_module": "@jupyter-widgets/base",
      "_model_module_version": "1.2.0",
      "_model_name": "LayoutModel",
      "_view_count": null,
      "_view_module": "@jupyter-widgets/base",
      "_view_module_version": "1.2.0",
      "_view_name": "LayoutView",
      "align_content": null,
      "align_items": null,
      "align_self": null,
      "border": null,
      "bottom": null,
      "display": null,
      "flex": null,
      "flex_flow": null,
      "grid_area": null,
      "grid_auto_columns": null,
      "grid_auto_flow": null,
      "grid_auto_rows": null,
      "grid_column": null,
      "grid_gap": null,
      "grid_row": null,
      "grid_template_areas": null,
      "grid_template_columns": null,
      "grid_template_rows": null,
      "height": null,
      "justify_content": null,
      "justify_items": null,
      "left": null,
      "margin": null,
      "max_height": null,
      "max_width": null,
      "min_height": null,
      "min_width": null,
      "object_fit": null,
      "object_position": null,
      "order": null,
      "overflow": null,
      "overflow_x": null,
      "overflow_y": null,
      "padding": null,
      "right": null,
      "top": null,
      "visibility": null,
      "width": null
     }
    },
    "3e917c5d9af94127958e18d97194197c": {
     "model_module": "@jupyter-widgets/controls",
     "model_module_version": "1.5.0",
     "model_name": "DescriptionStyleModel",
     "state": {
      "_model_module": "@jupyter-widgets/controls",
      "_model_module_version": "1.5.0",
      "_model_name": "DescriptionStyleModel",
      "_view_count": null,
      "_view_module": "@jupyter-widgets/base",
      "_view_module_version": "1.2.0",
      "_view_name": "StyleView",
      "description_width": ""
     }
    },
    "41606a9168184301ace805cf4b4bb4fb": {
     "model_module": "@jupyter-widgets/controls",
     "model_module_version": "1.5.0",
     "model_name": "HTMLModel",
     "state": {
      "_dom_classes": [],
      "_model_module": "@jupyter-widgets/controls",
      "_model_module_version": "1.5.0",
      "_model_name": "HTMLModel",
      "_view_count": null,
      "_view_module": "@jupyter-widgets/controls",
      "_view_module_version": "1.5.0",
      "_view_name": "HTMLView",
      "description": "",
      "description_tooltip": null,
      "layout": "IPY_MODEL_3ce32daea0ad40cfbb3803a967f248fb",
      "placeholder": "​",
      "style": "IPY_MODEL_c0a528ded517494a99fba73705a88aba",
      "value": "Export report to file: 100%"
     }
    },
    "44de262de96b4bb6b0356ba728ece686": {
     "model_module": "@jupyter-widgets/controls",
     "model_module_version": "1.5.0",
     "model_name": "DescriptionStyleModel",
     "state": {
      "_model_module": "@jupyter-widgets/controls",
      "_model_module_version": "1.5.0",
      "_model_name": "DescriptionStyleModel",
      "_view_count": null,
      "_view_module": "@jupyter-widgets/base",
      "_view_module_version": "1.2.0",
      "_view_name": "StyleView",
      "description_width": ""
     }
    },
    "48f6569dabb4422789cfc6f229c0f697": {
     "model_module": "@jupyter-widgets/base",
     "model_module_version": "1.2.0",
     "model_name": "LayoutModel",
     "state": {
      "_model_module": "@jupyter-widgets/base",
      "_model_module_version": "1.2.0",
      "_model_name": "LayoutModel",
      "_view_count": null,
      "_view_module": "@jupyter-widgets/base",
      "_view_module_version": "1.2.0",
      "_view_name": "LayoutView",
      "align_content": null,
      "align_items": null,
      "align_self": null,
      "border": null,
      "bottom": null,
      "display": null,
      "flex": null,
      "flex_flow": null,
      "grid_area": null,
      "grid_auto_columns": null,
      "grid_auto_flow": null,
      "grid_auto_rows": null,
      "grid_column": null,
      "grid_gap": null,
      "grid_row": null,
      "grid_template_areas": null,
      "grid_template_columns": null,
      "grid_template_rows": null,
      "height": null,
      "justify_content": null,
      "justify_items": null,
      "left": null,
      "margin": null,
      "max_height": null,
      "max_width": null,
      "min_height": null,
      "min_width": null,
      "object_fit": null,
      "object_position": null,
      "order": null,
      "overflow": null,
      "overflow_x": null,
      "overflow_y": null,
      "padding": null,
      "right": null,
      "top": null,
      "visibility": null,
      "width": null
     }
    },
    "49407e59cf15458ba58c091fd875e666": {
     "model_module": "@jupyter-widgets/base",
     "model_module_version": "1.2.0",
     "model_name": "LayoutModel",
     "state": {
      "_model_module": "@jupyter-widgets/base",
      "_model_module_version": "1.2.0",
      "_model_name": "LayoutModel",
      "_view_count": null,
      "_view_module": "@jupyter-widgets/base",
      "_view_module_version": "1.2.0",
      "_view_name": "LayoutView",
      "align_content": null,
      "align_items": null,
      "align_self": null,
      "border": null,
      "bottom": null,
      "display": null,
      "flex": null,
      "flex_flow": null,
      "grid_area": null,
      "grid_auto_columns": null,
      "grid_auto_flow": null,
      "grid_auto_rows": null,
      "grid_column": null,
      "grid_gap": null,
      "grid_row": null,
      "grid_template_areas": null,
      "grid_template_columns": null,
      "grid_template_rows": null,
      "height": null,
      "justify_content": null,
      "justify_items": null,
      "left": null,
      "margin": null,
      "max_height": null,
      "max_width": null,
      "min_height": null,
      "min_width": null,
      "object_fit": null,
      "object_position": null,
      "order": null,
      "overflow": null,
      "overflow_x": null,
      "overflow_y": null,
      "padding": null,
      "right": null,
      "top": null,
      "visibility": null,
      "width": null
     }
    },
    "49c5fb7f2e7b44b8a548f8c9629775ff": {
     "model_module": "@jupyter-widgets/base",
     "model_module_version": "1.2.0",
     "model_name": "LayoutModel",
     "state": {
      "_model_module": "@jupyter-widgets/base",
      "_model_module_version": "1.2.0",
      "_model_name": "LayoutModel",
      "_view_count": null,
      "_view_module": "@jupyter-widgets/base",
      "_view_module_version": "1.2.0",
      "_view_name": "LayoutView",
      "align_content": null,
      "align_items": null,
      "align_self": null,
      "border": null,
      "bottom": null,
      "display": null,
      "flex": null,
      "flex_flow": null,
      "grid_area": null,
      "grid_auto_columns": null,
      "grid_auto_flow": null,
      "grid_auto_rows": null,
      "grid_column": null,
      "grid_gap": null,
      "grid_row": null,
      "grid_template_areas": null,
      "grid_template_columns": null,
      "grid_template_rows": null,
      "height": null,
      "justify_content": null,
      "justify_items": null,
      "left": null,
      "margin": null,
      "max_height": null,
      "max_width": null,
      "min_height": null,
      "min_width": null,
      "object_fit": null,
      "object_position": null,
      "order": null,
      "overflow": null,
      "overflow_x": null,
      "overflow_y": null,
      "padding": null,
      "right": null,
      "top": null,
      "visibility": null,
      "width": null
     }
    },
    "4fe7ceacc7914aff9e3d17fe0005cbb9": {
     "model_module": "@jupyter-widgets/base",
     "model_module_version": "1.2.0",
     "model_name": "LayoutModel",
     "state": {
      "_model_module": "@jupyter-widgets/base",
      "_model_module_version": "1.2.0",
      "_model_name": "LayoutModel",
      "_view_count": null,
      "_view_module": "@jupyter-widgets/base",
      "_view_module_version": "1.2.0",
      "_view_name": "LayoutView",
      "align_content": null,
      "align_items": null,
      "align_self": null,
      "border": null,
      "bottom": null,
      "display": null,
      "flex": null,
      "flex_flow": null,
      "grid_area": null,
      "grid_auto_columns": null,
      "grid_auto_flow": null,
      "grid_auto_rows": null,
      "grid_column": null,
      "grid_gap": null,
      "grid_row": null,
      "grid_template_areas": null,
      "grid_template_columns": null,
      "grid_template_rows": null,
      "height": null,
      "justify_content": null,
      "justify_items": null,
      "left": null,
      "margin": null,
      "max_height": null,
      "max_width": null,
      "min_height": null,
      "min_width": null,
      "object_fit": null,
      "object_position": null,
      "order": null,
      "overflow": null,
      "overflow_x": null,
      "overflow_y": null,
      "padding": null,
      "right": null,
      "top": null,
      "visibility": null,
      "width": null
     }
    },
    "56c02833f0a0490a8bb469a77bb81e6d": {
     "model_module": "@jupyter-widgets/controls",
     "model_module_version": "1.5.0",
     "model_name": "FloatProgressModel",
     "state": {
      "_dom_classes": [],
      "_model_module": "@jupyter-widgets/controls",
      "_model_module_version": "1.5.0",
      "_model_name": "FloatProgressModel",
      "_view_count": null,
      "_view_module": "@jupyter-widgets/controls",
      "_view_module_version": "1.5.0",
      "_view_name": "ProgressView",
      "bar_style": "success",
      "description": "",
      "description_tooltip": null,
      "layout": "IPY_MODEL_8036fe4244bc457285e941f2c1ea2338",
      "max": 1,
      "min": 0,
      "orientation": "horizontal",
      "style": "IPY_MODEL_70a0bd35487349b2ac5f729196d6a2f9",
      "value": 1
     }
    },
    "5f38794590184aecabd0c9f763612698": {
     "model_module": "@jupyter-widgets/controls",
     "model_module_version": "1.5.0",
     "model_name": "HTMLModel",
     "state": {
      "_dom_classes": [],
      "_model_module": "@jupyter-widgets/controls",
      "_model_module_version": "1.5.0",
      "_model_name": "HTMLModel",
      "_view_count": null,
      "_view_module": "@jupyter-widgets/controls",
      "_view_module_version": "1.5.0",
      "_view_name": "HTMLView",
      "description": "",
      "description_tooltip": null,
      "layout": "IPY_MODEL_d4f7fa87fde84930b32c24e3938fea2e",
      "placeholder": "​",
      "style": "IPY_MODEL_36c8786cbd4c43d8b060e277b500c0e5",
      "value": " 1/1 [00:05&lt;00:00,  5.66s/it]"
     }
    },
    "65855d99ff5540f5935664bd8b22ef89": {
     "model_module": "@jupyter-widgets/controls",
     "model_module_version": "1.5.0",
     "model_name": "FloatProgressModel",
     "state": {
      "_dom_classes": [],
      "_model_module": "@jupyter-widgets/controls",
      "_model_module_version": "1.5.0",
      "_model_name": "FloatProgressModel",
      "_view_count": null,
      "_view_module": "@jupyter-widgets/controls",
      "_view_module_version": "1.5.0",
      "_view_name": "ProgressView",
      "bar_style": "success",
      "description": "",
      "description_tooltip": null,
      "layout": "IPY_MODEL_1224a931795d4ab8aaa259544d0641f0",
      "max": 1,
      "min": 0,
      "orientation": "horizontal",
      "style": "IPY_MODEL_ee642709008443898be3ddfda6bb4364",
      "value": 1
     }
    },
    "661791c28ec643b0a08178f05989935c": {
     "model_module": "@jupyter-widgets/controls",
     "model_module_version": "1.5.0",
     "model_name": "HTMLModel",
     "state": {
      "_dom_classes": [],
      "_model_module": "@jupyter-widgets/controls",
      "_model_module_version": "1.5.0",
      "_model_name": "HTMLModel",
      "_view_count": null,
      "_view_module": "@jupyter-widgets/controls",
      "_view_module_version": "1.5.0",
      "_view_name": "HTMLView",
      "description": "",
      "description_tooltip": null,
      "layout": "IPY_MODEL_e52af85d5f3b4d0bb674f46b773ad361",
      "placeholder": "​",
      "style": "IPY_MODEL_3910d700a48143c5a3a4fc75e34147f1",
      "value": " 1/1 [00:00&lt;00:00, 13.18it/s]"
     }
    },
    "70a0bd35487349b2ac5f729196d6a2f9": {
     "model_module": "@jupyter-widgets/controls",
     "model_module_version": "1.5.0",
     "model_name": "ProgressStyleModel",
     "state": {
      "_model_module": "@jupyter-widgets/controls",
      "_model_module_version": "1.5.0",
      "_model_name": "ProgressStyleModel",
      "_view_count": null,
      "_view_module": "@jupyter-widgets/base",
      "_view_module_version": "1.2.0",
      "_view_name": "StyleView",
      "bar_color": null,
      "description_width": ""
     }
    },
    "72daea4fd4f04e80937ead8b5b7ca4fb": {
     "model_module": "@jupyter-widgets/controls",
     "model_module_version": "1.5.0",
     "model_name": "HBoxModel",
     "state": {
      "_dom_classes": [],
      "_model_module": "@jupyter-widgets/controls",
      "_model_module_version": "1.5.0",
      "_model_name": "HBoxModel",
      "_view_count": null,
      "_view_module": "@jupyter-widgets/controls",
      "_view_module_version": "1.5.0",
      "_view_name": "HBoxView",
      "box_style": "",
      "children": [
       "IPY_MODEL_41606a9168184301ace805cf4b4bb4fb",
       "IPY_MODEL_56c02833f0a0490a8bb469a77bb81e6d",
       "IPY_MODEL_661791c28ec643b0a08178f05989935c"
      ],
      "layout": "IPY_MODEL_7d504a519b8a44e2ae4924ba464346d5"
     }
    },
    "7d504a519b8a44e2ae4924ba464346d5": {
     "model_module": "@jupyter-widgets/base",
     "model_module_version": "1.2.0",
     "model_name": "LayoutModel",
     "state": {
      "_model_module": "@jupyter-widgets/base",
      "_model_module_version": "1.2.0",
      "_model_name": "LayoutModel",
      "_view_count": null,
      "_view_module": "@jupyter-widgets/base",
      "_view_module_version": "1.2.0",
      "_view_name": "LayoutView",
      "align_content": null,
      "align_items": null,
      "align_self": null,
      "border": null,
      "bottom": null,
      "display": null,
      "flex": null,
      "flex_flow": null,
      "grid_area": null,
      "grid_auto_columns": null,
      "grid_auto_flow": null,
      "grid_auto_rows": null,
      "grid_column": null,
      "grid_gap": null,
      "grid_row": null,
      "grid_template_areas": null,
      "grid_template_columns": null,
      "grid_template_rows": null,
      "height": null,
      "justify_content": null,
      "justify_items": null,
      "left": null,
      "margin": null,
      "max_height": null,
      "max_width": null,
      "min_height": null,
      "min_width": null,
      "object_fit": null,
      "object_position": null,
      "order": null,
      "overflow": null,
      "overflow_x": null,
      "overflow_y": null,
      "padding": null,
      "right": null,
      "top": null,
      "visibility": null,
      "width": null
     }
    },
    "7e788b830a564a5ba78393cdd56f336b": {
     "model_module": "@jupyter-widgets/controls",
     "model_module_version": "1.5.0",
     "model_name": "HTMLModel",
     "state": {
      "_dom_classes": [],
      "_model_module": "@jupyter-widgets/controls",
      "_model_module_version": "1.5.0",
      "_model_name": "HTMLModel",
      "_view_count": null,
      "_view_module": "@jupyter-widgets/controls",
      "_view_module_version": "1.5.0",
      "_view_name": "HTMLView",
      "description": "",
      "description_tooltip": null,
      "layout": "IPY_MODEL_1442aaf3b87044878a8db8be4a66c4e6",
      "placeholder": "​",
      "style": "IPY_MODEL_f94324221235404fbc118a19d84ce1c2",
      "value": "Generate report structure: 100%"
     }
    },
    "8036fe4244bc457285e941f2c1ea2338": {
     "model_module": "@jupyter-widgets/base",
     "model_module_version": "1.2.0",
     "model_name": "LayoutModel",
     "state": {
      "_model_module": "@jupyter-widgets/base",
      "_model_module_version": "1.2.0",
      "_model_name": "LayoutModel",
      "_view_count": null,
      "_view_module": "@jupyter-widgets/base",
      "_view_module_version": "1.2.0",
      "_view_name": "LayoutView",
      "align_content": null,
      "align_items": null,
      "align_self": null,
      "border": null,
      "bottom": null,
      "display": null,
      "flex": null,
      "flex_flow": null,
      "grid_area": null,
      "grid_auto_columns": null,
      "grid_auto_flow": null,
      "grid_auto_rows": null,
      "grid_column": null,
      "grid_gap": null,
      "grid_row": null,
      "grid_template_areas": null,
      "grid_template_columns": null,
      "grid_template_rows": null,
      "height": null,
      "justify_content": null,
      "justify_items": null,
      "left": null,
      "margin": null,
      "max_height": null,
      "max_width": null,
      "min_height": null,
      "min_width": null,
      "object_fit": null,
      "object_position": null,
      "order": null,
      "overflow": null,
      "overflow_x": null,
      "overflow_y": null,
      "padding": null,
      "right": null,
      "top": null,
      "visibility": null,
      "width": null
     }
    },
    "897d042db70b4128bcfe3f5c28cf279d": {
     "model_module": "@jupyter-widgets/base",
     "model_module_version": "1.2.0",
     "model_name": "LayoutModel",
     "state": {
      "_model_module": "@jupyter-widgets/base",
      "_model_module_version": "1.2.0",
      "_model_name": "LayoutModel",
      "_view_count": null,
      "_view_module": "@jupyter-widgets/base",
      "_view_module_version": "1.2.0",
      "_view_name": "LayoutView",
      "align_content": null,
      "align_items": null,
      "align_self": null,
      "border": null,
      "bottom": null,
      "display": null,
      "flex": null,
      "flex_flow": null,
      "grid_area": null,
      "grid_auto_columns": null,
      "grid_auto_flow": null,
      "grid_auto_rows": null,
      "grid_column": null,
      "grid_gap": null,
      "grid_row": null,
      "grid_template_areas": null,
      "grid_template_columns": null,
      "grid_template_rows": null,
      "height": null,
      "justify_content": null,
      "justify_items": null,
      "left": null,
      "margin": null,
      "max_height": null,
      "max_width": null,
      "min_height": null,
      "min_width": null,
      "object_fit": null,
      "object_position": null,
      "order": null,
      "overflow": null,
      "overflow_x": null,
      "overflow_y": null,
      "padding": null,
      "right": null,
      "top": null,
      "visibility": null,
      "width": null
     }
    },
    "93556f200a684433b8c5d6573e469ac0": {
     "model_module": "@jupyter-widgets/controls",
     "model_module_version": "1.5.0",
     "model_name": "FloatProgressModel",
     "state": {
      "_dom_classes": [],
      "_model_module": "@jupyter-widgets/controls",
      "_model_module_version": "1.5.0",
      "_model_name": "FloatProgressModel",
      "_view_count": null,
      "_view_module": "@jupyter-widgets/controls",
      "_view_module_version": "1.5.0",
      "_view_name": "ProgressView",
      "bar_style": "success",
      "description": "",
      "description_tooltip": null,
      "layout": "IPY_MODEL_2fb24695599e4f9787c50fa14442e41a",
      "max": 1,
      "min": 0,
      "orientation": "horizontal",
      "style": "IPY_MODEL_25827cc472444eb6a05af6c41f2d5e47",
      "value": 1
     }
    },
    "9924a8d6c5e94f23be48932db8caa0af": {
     "model_module": "@jupyter-widgets/controls",
     "model_module_version": "1.5.0",
     "model_name": "DescriptionStyleModel",
     "state": {
      "_model_module": "@jupyter-widgets/controls",
      "_model_module_version": "1.5.0",
      "_model_name": "DescriptionStyleModel",
      "_view_count": null,
      "_view_module": "@jupyter-widgets/base",
      "_view_module_version": "1.2.0",
      "_view_name": "StyleView",
      "description_width": ""
     }
    },
    "9ecbcee25e8841c3a8a741c7e905f1aa": {
     "model_module": "@jupyter-widgets/controls",
     "model_module_version": "1.5.0",
     "model_name": "DescriptionStyleModel",
     "state": {
      "_model_module": "@jupyter-widgets/controls",
      "_model_module_version": "1.5.0",
      "_model_name": "DescriptionStyleModel",
      "_view_count": null,
      "_view_module": "@jupyter-widgets/base",
      "_view_module_version": "1.2.0",
      "_view_name": "StyleView",
      "description_width": ""
     }
    },
    "a4d9d7e8467d4b8a91f63ecc4c00d535": {
     "model_module": "@jupyter-widgets/controls",
     "model_module_version": "1.5.0",
     "model_name": "HBoxModel",
     "state": {
      "_dom_classes": [],
      "_model_module": "@jupyter-widgets/controls",
      "_model_module_version": "1.5.0",
      "_model_name": "HBoxModel",
      "_view_count": null,
      "_view_module": "@jupyter-widgets/controls",
      "_view_module_version": "1.5.0",
      "_view_name": "HBoxView",
      "box_style": "",
      "children": [
       "IPY_MODEL_2663be6c69274849a8f07161084360b8",
       "IPY_MODEL_93556f200a684433b8c5d6573e469ac0",
       "IPY_MODEL_5f38794590184aecabd0c9f763612698"
      ],
      "layout": "IPY_MODEL_49c5fb7f2e7b44b8a548f8c9629775ff"
     }
    },
    "a5a82b559ad14fd1bf643d7c3d673d8a": {
     "model_module": "@jupyter-widgets/base",
     "model_module_version": "1.2.0",
     "model_name": "LayoutModel",
     "state": {
      "_model_module": "@jupyter-widgets/base",
      "_model_module_version": "1.2.0",
      "_model_name": "LayoutModel",
      "_view_count": null,
      "_view_module": "@jupyter-widgets/base",
      "_view_module_version": "1.2.0",
      "_view_name": "LayoutView",
      "align_content": null,
      "align_items": null,
      "align_self": null,
      "border": null,
      "bottom": null,
      "display": null,
      "flex": null,
      "flex_flow": null,
      "grid_area": null,
      "grid_auto_columns": null,
      "grid_auto_flow": null,
      "grid_auto_rows": null,
      "grid_column": null,
      "grid_gap": null,
      "grid_row": null,
      "grid_template_areas": null,
      "grid_template_columns": null,
      "grid_template_rows": null,
      "height": null,
      "justify_content": null,
      "justify_items": null,
      "left": null,
      "margin": null,
      "max_height": null,
      "max_width": null,
      "min_height": null,
      "min_width": null,
      "object_fit": null,
      "object_position": null,
      "order": null,
      "overflow": null,
      "overflow_x": null,
      "overflow_y": null,
      "padding": null,
      "right": null,
      "top": null,
      "visibility": null,
      "width": null
     }
    },
    "ab076fdea69946149046454d452e01a2": {
     "model_module": "@jupyter-widgets/controls",
     "model_module_version": "1.5.0",
     "model_name": "HBoxModel",
     "state": {
      "_dom_classes": [],
      "_model_module": "@jupyter-widgets/controls",
      "_model_module_version": "1.5.0",
      "_model_name": "HBoxModel",
      "_view_count": null,
      "_view_module": "@jupyter-widgets/controls",
      "_view_module_version": "1.5.0",
      "_view_name": "HBoxView",
      "box_style": "",
      "children": [
       "IPY_MODEL_7e788b830a564a5ba78393cdd56f336b",
       "IPY_MODEL_65855d99ff5540f5935664bd8b22ef89",
       "IPY_MODEL_34c29e38fe84428693fe181da0cc7ccf"
      ],
      "layout": "IPY_MODEL_b83fd6ea4b41478baf8e176209bb7391"
     }
    },
    "ab34eef75b3f4d27a57cfec60cab8d4c": {
     "model_module": "@jupyter-widgets/controls",
     "model_module_version": "1.5.0",
     "model_name": "HBoxModel",
     "state": {
      "_dom_classes": [],
      "_model_module": "@jupyter-widgets/controls",
      "_model_module_version": "1.5.0",
      "_model_name": "HBoxModel",
      "_view_count": null,
      "_view_module": "@jupyter-widgets/controls",
      "_view_module_version": "1.5.0",
      "_view_name": "HBoxView",
      "box_style": "",
      "children": [
       "IPY_MODEL_0233e7b4fc2241baa1c78d038e6c8a08",
       "IPY_MODEL_1d657523ca2142289d40c3eabb70c0a3",
       "IPY_MODEL_05c3564fc055430c979bef316e6cfc30"
      ],
      "layout": "IPY_MODEL_4fe7ceacc7914aff9e3d17fe0005cbb9"
     }
    },
    "b83fd6ea4b41478baf8e176209bb7391": {
     "model_module": "@jupyter-widgets/base",
     "model_module_version": "1.2.0",
     "model_name": "LayoutModel",
     "state": {
      "_model_module": "@jupyter-widgets/base",
      "_model_module_version": "1.2.0",
      "_model_name": "LayoutModel",
      "_view_count": null,
      "_view_module": "@jupyter-widgets/base",
      "_view_module_version": "1.2.0",
      "_view_name": "LayoutView",
      "align_content": null,
      "align_items": null,
      "align_self": null,
      "border": null,
      "bottom": null,
      "display": null,
      "flex": null,
      "flex_flow": null,
      "grid_area": null,
      "grid_auto_columns": null,
      "grid_auto_flow": null,
      "grid_auto_rows": null,
      "grid_column": null,
      "grid_gap": null,
      "grid_row": null,
      "grid_template_areas": null,
      "grid_template_columns": null,
      "grid_template_rows": null,
      "height": null,
      "justify_content": null,
      "justify_items": null,
      "left": null,
      "margin": null,
      "max_height": null,
      "max_width": null,
      "min_height": null,
      "min_width": null,
      "object_fit": null,
      "object_position": null,
      "order": null,
      "overflow": null,
      "overflow_x": null,
      "overflow_y": null,
      "padding": null,
      "right": null,
      "top": null,
      "visibility": null,
      "width": null
     }
    },
    "c0a528ded517494a99fba73705a88aba": {
     "model_module": "@jupyter-widgets/controls",
     "model_module_version": "1.5.0",
     "model_name": "DescriptionStyleModel",
     "state": {
      "_model_module": "@jupyter-widgets/controls",
      "_model_module_version": "1.5.0",
      "_model_name": "DescriptionStyleModel",
      "_view_count": null,
      "_view_module": "@jupyter-widgets/base",
      "_view_module_version": "1.2.0",
      "_view_name": "StyleView",
      "description_width": ""
     }
    },
    "d4f7fa87fde84930b32c24e3938fea2e": {
     "model_module": "@jupyter-widgets/base",
     "model_module_version": "1.2.0",
     "model_name": "LayoutModel",
     "state": {
      "_model_module": "@jupyter-widgets/base",
      "_model_module_version": "1.2.0",
      "_model_name": "LayoutModel",
      "_view_count": null,
      "_view_module": "@jupyter-widgets/base",
      "_view_module_version": "1.2.0",
      "_view_name": "LayoutView",
      "align_content": null,
      "align_items": null,
      "align_self": null,
      "border": null,
      "bottom": null,
      "display": null,
      "flex": null,
      "flex_flow": null,
      "grid_area": null,
      "grid_auto_columns": null,
      "grid_auto_flow": null,
      "grid_auto_rows": null,
      "grid_column": null,
      "grid_gap": null,
      "grid_row": null,
      "grid_template_areas": null,
      "grid_template_columns": null,
      "grid_template_rows": null,
      "height": null,
      "justify_content": null,
      "justify_items": null,
      "left": null,
      "margin": null,
      "max_height": null,
      "max_width": null,
      "min_height": null,
      "min_width": null,
      "object_fit": null,
      "object_position": null,
      "order": null,
      "overflow": null,
      "overflow_x": null,
      "overflow_y": null,
      "padding": null,
      "right": null,
      "top": null,
      "visibility": null,
      "width": null
     }
    },
    "e52af85d5f3b4d0bb674f46b773ad361": {
     "model_module": "@jupyter-widgets/base",
     "model_module_version": "1.2.0",
     "model_name": "LayoutModel",
     "state": {
      "_model_module": "@jupyter-widgets/base",
      "_model_module_version": "1.2.0",
      "_model_name": "LayoutModel",
      "_view_count": null,
      "_view_module": "@jupyter-widgets/base",
      "_view_module_version": "1.2.0",
      "_view_name": "LayoutView",
      "align_content": null,
      "align_items": null,
      "align_self": null,
      "border": null,
      "bottom": null,
      "display": null,
      "flex": null,
      "flex_flow": null,
      "grid_area": null,
      "grid_auto_columns": null,
      "grid_auto_flow": null,
      "grid_auto_rows": null,
      "grid_column": null,
      "grid_gap": null,
      "grid_row": null,
      "grid_template_areas": null,
      "grid_template_columns": null,
      "grid_template_rows": null,
      "height": null,
      "justify_content": null,
      "justify_items": null,
      "left": null,
      "margin": null,
      "max_height": null,
      "max_width": null,
      "min_height": null,
      "min_width": null,
      "object_fit": null,
      "object_position": null,
      "order": null,
      "overflow": null,
      "overflow_x": null,
      "overflow_y": null,
      "padding": null,
      "right": null,
      "top": null,
      "visibility": null,
      "width": null
     }
    },
    "ee642709008443898be3ddfda6bb4364": {
     "model_module": "@jupyter-widgets/controls",
     "model_module_version": "1.5.0",
     "model_name": "ProgressStyleModel",
     "state": {
      "_model_module": "@jupyter-widgets/controls",
      "_model_module_version": "1.5.0",
      "_model_name": "ProgressStyleModel",
      "_view_count": null,
      "_view_module": "@jupyter-widgets/base",
      "_view_module_version": "1.2.0",
      "_view_name": "StyleView",
      "bar_color": null,
      "description_width": ""
     }
    },
    "f94324221235404fbc118a19d84ce1c2": {
     "model_module": "@jupyter-widgets/controls",
     "model_module_version": "1.5.0",
     "model_name": "DescriptionStyleModel",
     "state": {
      "_model_module": "@jupyter-widgets/controls",
      "_model_module_version": "1.5.0",
      "_model_name": "DescriptionStyleModel",
      "_view_count": null,
      "_view_module": "@jupyter-widgets/base",
      "_view_module_version": "1.2.0",
      "_view_name": "StyleView",
      "description_width": ""
     }
    }
   }
  }
 },
 "nbformat": 4,
 "nbformat_minor": 0
}
